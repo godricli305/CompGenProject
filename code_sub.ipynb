{
 "cells": [
  {
   "cell_type": "code",
   "execution_count": 3,
   "id": "e9144700",
   "metadata": {},
   "outputs": [
    {
     "name": "stdout",
     "output_type": "stream",
     "text": [
      "🔵 Loading clock weights...\n",
      "✅ 329 clock CpGs loaded.\n",
      "🔵 GSE93957: found 62 files to process.\n"
     ]
    },
    {
     "name": "stderr",
     "output_type": "stream",
     "text": [
      "Parsing GSE93957:   2%|▍                         | 1/62 [00:02<02:48,  2.77s/it]"
     ]
    },
    {
     "name": "stdout",
     "output_type": "stream",
     "text": [
      "  M00018359_41wk_Cortex: 329 clock CpGs matched.\n"
     ]
    },
    {
     "name": "stderr",
     "output_type": "stream",
     "text": [
      "\r",
      "Parsing GSE93957:   3%|▊                         | 2/62 [00:05<02:50,  2.84s/it]"
     ]
    },
    {
     "name": "stdout",
     "output_type": "stream",
     "text": [
      "  M00018359_41wk_Heart: 329 clock CpGs matched.\n"
     ]
    },
    {
     "name": "stderr",
     "output_type": "stream",
     "text": [
      "\r",
      "Parsing GSE93957:   5%|█▎                        | 3/62 [00:08<02:47,  2.84s/it]"
     ]
    },
    {
     "name": "stdout",
     "output_type": "stream",
     "text": [
      "  M00018359_41wk_Liver: 329 clock CpGs matched.\n"
     ]
    },
    {
     "name": "stderr",
     "output_type": "stream",
     "text": [
      "\r",
      "Parsing GSE93957:   6%|█▋                        | 4/62 [00:11<02:42,  2.80s/it]"
     ]
    },
    {
     "name": "stdout",
     "output_type": "stream",
     "text": [
      "  M00018359_41wk_Lung: 329 clock CpGs matched.\n"
     ]
    },
    {
     "name": "stderr",
     "output_type": "stream",
     "text": [
      "\r",
      "Parsing GSE93957:   8%|██                        | 5/62 [00:14<02:40,  2.81s/it]"
     ]
    },
    {
     "name": "stdout",
     "output_type": "stream",
     "text": [
      "  M00018362_41wk_Cortex: 329 clock CpGs matched.\n"
     ]
    },
    {
     "name": "stderr",
     "output_type": "stream",
     "text": [
      "\r",
      "Parsing GSE93957:  10%|██▌                       | 6/62 [00:17<02:42,  2.90s/it]"
     ]
    },
    {
     "name": "stdout",
     "output_type": "stream",
     "text": [
      "  M00018362_41wk_Heart: 329 clock CpGs matched.\n"
     ]
    },
    {
     "name": "stderr",
     "output_type": "stream",
     "text": [
      "\r",
      "Parsing GSE93957:  11%|██▉                       | 7/62 [00:19<02:31,  2.75s/it]"
     ]
    },
    {
     "name": "stdout",
     "output_type": "stream",
     "text": [
      "  M00018362_41wk_Liver: 329 clock CpGs matched.\n"
     ]
    },
    {
     "name": "stderr",
     "output_type": "stream",
     "text": [
      "\r",
      "Parsing GSE93957:  13%|███▎                      | 8/62 [00:22<02:27,  2.73s/it]"
     ]
    },
    {
     "name": "stdout",
     "output_type": "stream",
     "text": [
      "  M00018362_41wk_Lung: 329 clock CpGs matched.\n"
     ]
    },
    {
     "name": "stderr",
     "output_type": "stream",
     "text": [
      "\r",
      "Parsing GSE93957:  15%|███▊                      | 9/62 [00:24<02:24,  2.73s/it]"
     ]
    },
    {
     "name": "stdout",
     "output_type": "stream",
     "text": [
      "  M00018363_41wk_Cortex: 329 clock CpGs matched.\n"
     ]
    },
    {
     "name": "stderr",
     "output_type": "stream",
     "text": [
      "\r",
      "Parsing GSE93957:  16%|████                     | 10/62 [00:27<02:25,  2.80s/it]"
     ]
    },
    {
     "name": "stdout",
     "output_type": "stream",
     "text": [
      "  M00018363_41wk_Heart: 329 clock CpGs matched.\n"
     ]
    },
    {
     "name": "stderr",
     "output_type": "stream",
     "text": [
      "\r",
      "Parsing GSE93957:  18%|████▍                    | 11/62 [00:31<02:27,  2.89s/it]"
     ]
    },
    {
     "name": "stdout",
     "output_type": "stream",
     "text": [
      "  M00018363_41wk_Liver: 329 clock CpGs matched.\n"
     ]
    },
    {
     "name": "stderr",
     "output_type": "stream",
     "text": [
      "\r",
      "Parsing GSE93957:  19%|████▊                    | 12/62 [00:34<02:27,  2.95s/it]"
     ]
    },
    {
     "name": "stdout",
     "output_type": "stream",
     "text": [
      "  M00018363_41wk_Lung: 329 clock CpGs matched.\n"
     ]
    },
    {
     "name": "stderr",
     "output_type": "stream",
     "text": [
      "\r",
      "Parsing GSE93957:  21%|█████▏                   | 13/62 [00:36<02:22,  2.92s/it]"
     ]
    },
    {
     "name": "stdout",
     "output_type": "stream",
     "text": [
      "  M00018381_41wk_Cortex: 329 clock CpGs matched.\n"
     ]
    },
    {
     "name": "stderr",
     "output_type": "stream",
     "text": [
      "\r",
      "Parsing GSE93957:  23%|█████▋                   | 14/62 [00:39<02:15,  2.83s/it]"
     ]
    },
    {
     "name": "stdout",
     "output_type": "stream",
     "text": [
      "  M00018381_41wk_Heart: 329 clock CpGs matched.\n"
     ]
    },
    {
     "name": "stderr",
     "output_type": "stream",
     "text": [
      "\r",
      "Parsing GSE93957:  24%|██████                   | 15/62 [00:42<02:09,  2.77s/it]"
     ]
    },
    {
     "name": "stdout",
     "output_type": "stream",
     "text": [
      "  M00018381_41wk_Liver: 329 clock CpGs matched.\n"
     ]
    },
    {
     "name": "stderr",
     "output_type": "stream",
     "text": [
      "\r",
      "Parsing GSE93957:  26%|██████▍                  | 16/62 [00:44<02:07,  2.77s/it]"
     ]
    },
    {
     "name": "stdout",
     "output_type": "stream",
     "text": [
      "  M00018381_41wk_Lung: 329 clock CpGs matched.\n"
     ]
    },
    {
     "name": "stderr",
     "output_type": "stream",
     "text": [
      "\r",
      "Parsing GSE93957:  27%|██████▊                  | 17/62 [00:47<02:05,  2.78s/it]"
     ]
    },
    {
     "name": "stdout",
     "output_type": "stream",
     "text": [
      "  M00018724_27wk_Cortex: 329 clock CpGs matched.\n"
     ]
    },
    {
     "name": "stderr",
     "output_type": "stream",
     "text": [
      "\r",
      "Parsing GSE93957:  29%|███████▎                 | 18/62 [00:50<02:01,  2.76s/it]"
     ]
    },
    {
     "name": "stdout",
     "output_type": "stream",
     "text": [
      "  M00018724_27wk_Heart: 329 clock CpGs matched.\n"
     ]
    },
    {
     "name": "stderr",
     "output_type": "stream",
     "text": [
      "\r",
      "Parsing GSE93957:  31%|███████▋                 | 19/62 [00:53<02:04,  2.89s/it]"
     ]
    },
    {
     "name": "stdout",
     "output_type": "stream",
     "text": [
      "  M00018724_27wk_Liver: 329 clock CpGs matched.\n"
     ]
    },
    {
     "name": "stderr",
     "output_type": "stream",
     "text": [
      "\r",
      "Parsing GSE93957:  32%|████████                 | 20/62 [00:56<01:59,  2.85s/it]"
     ]
    },
    {
     "name": "stdout",
     "output_type": "stream",
     "text": [
      "  M00018724_27wk_Lung: 329 clock CpGs matched.\n"
     ]
    },
    {
     "name": "stderr",
     "output_type": "stream",
     "text": [
      "\r",
      "Parsing GSE93957:  34%|████████▍                | 21/62 [00:59<01:56,  2.85s/it]"
     ]
    },
    {
     "name": "stdout",
     "output_type": "stream",
     "text": [
      "  M00018752_27wk_Cortex: 329 clock CpGs matched.\n"
     ]
    },
    {
     "name": "stderr",
     "output_type": "stream",
     "text": [
      "\r",
      "Parsing GSE93957:  35%|████████▊                | 22/62 [01:02<01:52,  2.82s/it]"
     ]
    },
    {
     "name": "stdout",
     "output_type": "stream",
     "text": [
      "  M00018752_27wk_Heart: 329 clock CpGs matched.\n"
     ]
    },
    {
     "name": "stderr",
     "output_type": "stream",
     "text": [
      "\r",
      "Parsing GSE93957:  37%|█████████▎               | 23/62 [01:04<01:44,  2.69s/it]"
     ]
    },
    {
     "name": "stdout",
     "output_type": "stream",
     "text": [
      "  M00018752_27wk_Liver: 329 clock CpGs matched.\n"
     ]
    },
    {
     "name": "stderr",
     "output_type": "stream",
     "text": [
      "\r",
      "Parsing GSE93957:  39%|█████████▋               | 24/62 [01:07<01:42,  2.70s/it]"
     ]
    },
    {
     "name": "stdout",
     "output_type": "stream",
     "text": [
      "  M00018752_27wk_Lung: 329 clock CpGs matched.\n"
     ]
    },
    {
     "name": "stderr",
     "output_type": "stream",
     "text": [
      "\r",
      "Parsing GSE93957:  40%|██████████               | 25/62 [01:10<01:41,  2.75s/it]"
     ]
    },
    {
     "name": "stdout",
     "output_type": "stream",
     "text": [
      "  M00018754_27wk_Cortex: 329 clock CpGs matched.\n"
     ]
    },
    {
     "name": "stderr",
     "output_type": "stream",
     "text": [
      "\r",
      "Parsing GSE93957:  42%|██████████▍              | 26/62 [01:12<01:37,  2.72s/it]"
     ]
    },
    {
     "name": "stdout",
     "output_type": "stream",
     "text": [
      "  M00018754_27wk_Heart: 329 clock CpGs matched.\n"
     ]
    },
    {
     "name": "stderr",
     "output_type": "stream",
     "text": [
      "\r",
      "Parsing GSE93957:  44%|██████████▉              | 27/62 [01:15<01:36,  2.76s/it]"
     ]
    },
    {
     "name": "stdout",
     "output_type": "stream",
     "text": [
      "  M00018754_27wk_Liver: 329 clock CpGs matched.\n"
     ]
    },
    {
     "name": "stderr",
     "output_type": "stream",
     "text": [
      "\r",
      "Parsing GSE93957:  45%|███████████▎             | 28/62 [01:18<01:32,  2.73s/it]"
     ]
    },
    {
     "name": "stdout",
     "output_type": "stream",
     "text": [
      "  M00018754_27wk_Lung: 329 clock CpGs matched.\n"
     ]
    },
    {
     "name": "stderr",
     "output_type": "stream",
     "text": [
      "\r",
      "Parsing GSE93957:  47%|███████████▋             | 29/62 [01:20<01:29,  2.72s/it]"
     ]
    },
    {
     "name": "stdout",
     "output_type": "stream",
     "text": [
      "  M0112371_27wk_Cortex: 329 clock CpGs matched.\n"
     ]
    },
    {
     "name": "stderr",
     "output_type": "stream",
     "text": [
      "\r",
      "Parsing GSE93957:  48%|████████████             | 30/62 [01:23<01:28,  2.77s/it]"
     ]
    },
    {
     "name": "stdout",
     "output_type": "stream",
     "text": [
      "  M0112371_27wk_Heart: 329 clock CpGs matched.\n"
     ]
    },
    {
     "name": "stderr",
     "output_type": "stream",
     "text": [
      "\r",
      "Parsing GSE93957:  50%|████████████▌            | 31/62 [01:26<01:21,  2.64s/it]"
     ]
    },
    {
     "name": "stdout",
     "output_type": "stream",
     "text": [
      "  M0112371_27wk_Liver: 329 clock CpGs matched.\n"
     ]
    },
    {
     "name": "stderr",
     "output_type": "stream",
     "text": [
      "\r",
      "Parsing GSE93957:  52%|████████████▉            | 32/62 [01:28<01:18,  2.60s/it]"
     ]
    },
    {
     "name": "stdout",
     "output_type": "stream",
     "text": [
      "  M0112371_27wk_Lung: 329 clock CpGs matched.\n"
     ]
    },
    {
     "name": "stderr",
     "output_type": "stream",
     "text": [
      "\r",
      "Parsing GSE93957:  53%|█████████████▎           | 33/62 [01:31<01:15,  2.60s/it]"
     ]
    },
    {
     "name": "stdout",
     "output_type": "stream",
     "text": [
      "  M01NB_1wk_Cortex: 329 clock CpGs matched.\n"
     ]
    },
    {
     "name": "stderr",
     "output_type": "stream",
     "text": [
      "\r",
      "Parsing GSE93957:  55%|█████████████▋           | 34/62 [01:33<01:13,  2.63s/it]"
     ]
    },
    {
     "name": "stdout",
     "output_type": "stream",
     "text": [
      "  M01NB_1wk_Heart: 329 clock CpGs matched.\n"
     ]
    },
    {
     "name": "stderr",
     "output_type": "stream",
     "text": [
      "\r",
      "Parsing GSE93957:  56%|██████████████           | 35/62 [01:36<01:09,  2.56s/it]"
     ]
    },
    {
     "name": "stdout",
     "output_type": "stream",
     "text": [
      "  M01NB_1wk_Liver: 329 clock CpGs matched.\n"
     ]
    },
    {
     "name": "stderr",
     "output_type": "stream",
     "text": [
      "\r",
      "Parsing GSE93957:  58%|██████████████▌          | 36/62 [01:38<01:05,  2.53s/it]"
     ]
    },
    {
     "name": "stdout",
     "output_type": "stream",
     "text": [
      "  M01NB_1wk_Lung: 329 clock CpGs matched.\n"
     ]
    },
    {
     "name": "stderr",
     "output_type": "stream",
     "text": [
      "\r",
      "Parsing GSE93957:  60%|██████████████▉          | 37/62 [01:41<01:03,  2.55s/it]"
     ]
    },
    {
     "name": "stdout",
     "output_type": "stream",
     "text": [
      "  M02NB_1wk_Cortex: 329 clock CpGs matched.\n"
     ]
    },
    {
     "name": "stderr",
     "output_type": "stream",
     "text": [
      "\r",
      "Parsing GSE93957:  61%|███████████████▎         | 38/62 [01:44<01:02,  2.60s/it]"
     ]
    },
    {
     "name": "stdout",
     "output_type": "stream",
     "text": [
      "  M02NB_1wk_Liver: 329 clock CpGs matched.\n"
     ]
    },
    {
     "name": "stderr",
     "output_type": "stream",
     "text": [
      "\r",
      "Parsing GSE93957:  63%|███████████████▋         | 39/62 [01:46<01:01,  2.66s/it]"
     ]
    },
    {
     "name": "stdout",
     "output_type": "stream",
     "text": [
      "  M02NB_1wk_Lung: 329 clock CpGs matched.\n"
     ]
    },
    {
     "name": "stderr",
     "output_type": "stream",
     "text": [
      "\r",
      "Parsing GSE93957:  65%|████████████████▏        | 40/62 [01:49<00:59,  2.68s/it]"
     ]
    },
    {
     "name": "stdout",
     "output_type": "stream",
     "text": [
      "  M03NB_1wk_Cortex: 329 clock CpGs matched.\n"
     ]
    },
    {
     "name": "stderr",
     "output_type": "stream",
     "text": [
      "\r",
      "Parsing GSE93957:  66%|████████████████▌        | 41/62 [01:52<00:55,  2.66s/it]"
     ]
    },
    {
     "name": "stdout",
     "output_type": "stream",
     "text": [
      "  M03NB_1wk_Heart: 329 clock CpGs matched.\n"
     ]
    },
    {
     "name": "stderr",
     "output_type": "stream",
     "text": [
      "\r",
      "Parsing GSE93957:  68%|████████████████▉        | 42/62 [01:55<00:55,  2.78s/it]"
     ]
    },
    {
     "name": "stdout",
     "output_type": "stream",
     "text": [
      "  M03NB_1wk_Lung: 329 clock CpGs matched.\n"
     ]
    },
    {
     "name": "stderr",
     "output_type": "stream",
     "text": [
      "\r",
      "Parsing GSE93957:  69%|█████████████████▎       | 43/62 [01:58<00:52,  2.79s/it]"
     ]
    },
    {
     "name": "stdout",
     "output_type": "stream",
     "text": [
      "  M0420525_14wk_Cortex: 329 clock CpGs matched.\n"
     ]
    },
    {
     "name": "stderr",
     "output_type": "stream",
     "text": [
      "\r",
      "Parsing GSE93957:  71%|█████████████████▋       | 44/62 [02:01<00:51,  2.88s/it]"
     ]
    },
    {
     "name": "stdout",
     "output_type": "stream",
     "text": [
      "  M0420525_14wk_Heart: 329 clock CpGs matched.\n"
     ]
    },
    {
     "name": "stderr",
     "output_type": "stream",
     "text": [
      "\r",
      "Parsing GSE93957:  73%|██████████████████▏      | 45/62 [02:04<00:48,  2.87s/it]"
     ]
    },
    {
     "name": "stdout",
     "output_type": "stream",
     "text": [
      "  M0420525_14wk_Liver: 329 clock CpGs matched.\n"
     ]
    },
    {
     "name": "stderr",
     "output_type": "stream",
     "text": [
      "\r",
      "Parsing GSE93957:  74%|██████████████████▌      | 46/62 [02:06<00:45,  2.85s/it]"
     ]
    },
    {
     "name": "stdout",
     "output_type": "stream",
     "text": [
      "  M0420525_14wk_Lung: 329 clock CpGs matched.\n"
     ]
    },
    {
     "name": "stderr",
     "output_type": "stream",
     "text": [
      "\r",
      "Parsing GSE93957:  76%|██████████████████▉      | 47/62 [02:09<00:43,  2.89s/it]"
     ]
    },
    {
     "name": "stdout",
     "output_type": "stream",
     "text": [
      "  M0420527_14wk_Cortex: 329 clock CpGs matched.\n"
     ]
    },
    {
     "name": "stderr",
     "output_type": "stream",
     "text": [
      "\r",
      "Parsing GSE93957:  77%|███████████████████▎     | 48/62 [02:12<00:39,  2.83s/it]"
     ]
    },
    {
     "name": "stdout",
     "output_type": "stream",
     "text": [
      "  M0420527_14wk_Heart: 329 clock CpGs matched.\n"
     ]
    },
    {
     "name": "stderr",
     "output_type": "stream",
     "text": [
      "\r",
      "Parsing GSE93957:  79%|███████████████████▊     | 49/62 [02:15<00:36,  2.84s/it]"
     ]
    },
    {
     "name": "stdout",
     "output_type": "stream",
     "text": [
      "  M0420527_14wk_Liver: 329 clock CpGs matched.\n"
     ]
    },
    {
     "name": "stderr",
     "output_type": "stream",
     "text": [
      "\r",
      "Parsing GSE93957:  81%|████████████████████▏    | 50/62 [02:18<00:33,  2.80s/it]"
     ]
    },
    {
     "name": "stdout",
     "output_type": "stream",
     "text": [
      "  M0420527_14wk_Lung: 329 clock CpGs matched.\n"
     ]
    },
    {
     "name": "stderr",
     "output_type": "stream",
     "text": [
      "\r",
      "Parsing GSE93957:  82%|████████████████████▌    | 51/62 [02:21<00:31,  2.84s/it]"
     ]
    },
    {
     "name": "stdout",
     "output_type": "stream",
     "text": [
      "  M04NB_1wk_Cortex: 329 clock CpGs matched.\n"
     ]
    },
    {
     "name": "stderr",
     "output_type": "stream",
     "text": [
      "\r",
      "Parsing GSE93957:  84%|████████████████████▉    | 52/62 [02:23<00:28,  2.85s/it]"
     ]
    },
    {
     "name": "stdout",
     "output_type": "stream",
     "text": [
      "  M04NB_1wk_Heart: 329 clock CpGs matched.\n"
     ]
    },
    {
     "name": "stderr",
     "output_type": "stream",
     "text": [
      "\r",
      "Parsing GSE93957:  85%|█████████████████████▎   | 53/62 [02:26<00:25,  2.83s/it]"
     ]
    },
    {
     "name": "stdout",
     "output_type": "stream",
     "text": [
      "  M04NB_1wk_Liver: 329 clock CpGs matched.\n"
     ]
    },
    {
     "name": "stderr",
     "output_type": "stream",
     "text": [
      "\r",
      "Parsing GSE93957:  87%|█████████████████████▊   | 54/62 [02:29<00:23,  2.97s/it]"
     ]
    },
    {
     "name": "stdout",
     "output_type": "stream",
     "text": [
      "  M04NB_1wk_Lung: 329 clock CpGs matched.\n"
     ]
    },
    {
     "name": "stderr",
     "output_type": "stream",
     "text": [
      "\r",
      "Parsing GSE93957:  89%|██████████████████████▏  | 55/62 [02:32<00:20,  2.93s/it]"
     ]
    },
    {
     "name": "stdout",
     "output_type": "stream",
     "text": [
      "  M0512375_27wk_Cortex: 329 clock CpGs matched.\n"
     ]
    },
    {
     "name": "stderr",
     "output_type": "stream",
     "text": [
      "\r",
      "Parsing GSE93957:  90%|██████████████████████▌  | 56/62 [02:35<00:17,  2.86s/it]"
     ]
    },
    {
     "name": "stdout",
     "output_type": "stream",
     "text": [
      "  M0512375_27wk_Heart: 329 clock CpGs matched.\n"
     ]
    },
    {
     "name": "stderr",
     "output_type": "stream",
     "text": [
      "\r",
      "Parsing GSE93957:  92%|██████████████████████▉  | 57/62 [02:37<00:13,  2.69s/it]"
     ]
    },
    {
     "name": "stdout",
     "output_type": "stream",
     "text": [
      "  M0512375_27wk_Liver: 329 clock CpGs matched.\n"
     ]
    },
    {
     "name": "stderr",
     "output_type": "stream",
     "text": [
      "\r",
      "Parsing GSE93957:  94%|███████████████████████▍ | 58/62 [02:40<00:10,  2.68s/it]"
     ]
    },
    {
     "name": "stdout",
     "output_type": "stream",
     "text": [
      "  M0512375_27wk_Lung: 329 clock CpGs matched.\n"
     ]
    },
    {
     "name": "stderr",
     "output_type": "stream",
     "text": [
      "\r",
      "Parsing GSE93957:  95%|███████████████████████▊ | 59/62 [02:43<00:08,  2.68s/it]"
     ]
    },
    {
     "name": "stdout",
     "output_type": "stream",
     "text": [
      "  M0520522_14wk_Cortex: 329 clock CpGs matched.\n"
     ]
    },
    {
     "name": "stderr",
     "output_type": "stream",
     "text": [
      "\r",
      "Parsing GSE93957:  97%|████████████████████████▏| 60/62 [02:46<00:05,  2.85s/it]"
     ]
    },
    {
     "name": "stdout",
     "output_type": "stream",
     "text": [
      "  M0520522_14wk_Heart: 329 clock CpGs matched.\n"
     ]
    },
    {
     "name": "stderr",
     "output_type": "stream",
     "text": [
      "\r",
      "Parsing GSE93957:  98%|████████████████████████▌| 61/62 [02:49<00:02,  2.80s/it]"
     ]
    },
    {
     "name": "stdout",
     "output_type": "stream",
     "text": [
      "  M0520522_14wk_Liver: 329 clock CpGs matched.\n"
     ]
    },
    {
     "name": "stderr",
     "output_type": "stream",
     "text": [
      "Parsing GSE93957: 100%|█████████████████████████| 62/62 [02:51<00:00,  2.77s/it]\n"
     ]
    },
    {
     "name": "stdout",
     "output_type": "stream",
     "text": [
      "  M0520522_14wk_Lung: 329 clock CpGs matched.\n",
      "  🔄 Quantile normalizing GSE93957...\n",
      "  🔄 Standardizing GSE93957...\n",
      "🔵 GSE120132: found 549 files to process.\n"
     ]
    },
    {
     "name": "stderr",
     "output_type": "stream",
     "text": [
      "Parsing GSE120132:   0%|                        | 1/549 [00:01<10:27,  1.14s/it]"
     ]
    },
    {
     "name": "stdout",
     "output_type": "stream",
     "text": [
      "  GSM3394172_Mouse_Adipose_SH001.CGfinal: 176 clock CpGs matched.\n"
     ]
    },
    {
     "name": "stderr",
     "output_type": "stream",
     "text": [
      "\r",
      "Parsing GSE120132:   0%|                        | 2/549 [00:02<10:28,  1.15s/it]"
     ]
    },
    {
     "name": "stdout",
     "output_type": "stream",
     "text": [
      "  GSM3394173_Mouse_Adipose_SH002.CGfinal: 176 clock CpGs matched.\n"
     ]
    },
    {
     "name": "stderr",
     "output_type": "stream",
     "text": [
      "\r",
      "Parsing GSE120132:   1%|▏                       | 3/549 [00:03<11:25,  1.26s/it]"
     ]
    },
    {
     "name": "stdout",
     "output_type": "stream",
     "text": [
      "  GSM3394174_Mouse_Adipose_SH003.CGfinal: 176 clock CpGs matched.\n"
     ]
    },
    {
     "name": "stderr",
     "output_type": "stream",
     "text": [
      "\r",
      "Parsing GSE120132:   1%|▏                       | 4/549 [00:04<10:59,  1.21s/it]"
     ]
    },
    {
     "name": "stdout",
     "output_type": "stream",
     "text": [
      "  GSM3394175_Mouse_Adipose_SH004.CGfinal: 176 clock CpGs matched.\n"
     ]
    },
    {
     "name": "stderr",
     "output_type": "stream",
     "text": [
      "\r",
      "Parsing GSE120132:   1%|▏                       | 5/549 [00:05<10:20,  1.14s/it]"
     ]
    },
    {
     "name": "stdout",
     "output_type": "stream",
     "text": [
      "  GSM3394176_Mouse_Adipose_SH005.CGfinal: 176 clock CpGs matched.\n"
     ]
    },
    {
     "name": "stderr",
     "output_type": "stream",
     "text": [
      "\r",
      "Parsing GSE120132:   1%|▎                       | 6/549 [00:07<10:32,  1.16s/it]"
     ]
    },
    {
     "name": "stdout",
     "output_type": "stream",
     "text": [
      "  GSM3394177_Mouse_Adipose_SH006.CGfinal: 176 clock CpGs matched.\n"
     ]
    },
    {
     "name": "stderr",
     "output_type": "stream",
     "text": [
      "\r",
      "Parsing GSE120132:   1%|▎                       | 7/549 [00:08<10:48,  1.20s/it]"
     ]
    },
    {
     "name": "stdout",
     "output_type": "stream",
     "text": [
      "  GSM3394178_Mouse_Adipose_SH007.CGfinal: 176 clock CpGs matched.\n"
     ]
    },
    {
     "name": "stderr",
     "output_type": "stream",
     "text": [
      "\r",
      "Parsing GSE120132:   1%|▎                       | 8/549 [00:09<10:44,  1.19s/it]"
     ]
    },
    {
     "name": "stdout",
     "output_type": "stream",
     "text": [
      "  GSM3394179_Mouse_Adipose_SH008.CGfinal: 176 clock CpGs matched.\n"
     ]
    },
    {
     "name": "stderr",
     "output_type": "stream",
     "text": [
      "\r",
      "Parsing GSE120132:   2%|▍                       | 9/549 [00:10<10:41,  1.19s/it]"
     ]
    },
    {
     "name": "stdout",
     "output_type": "stream",
     "text": [
      "  GSM3394180_Mouse_Adipose_SH009.CGfinal: 176 clock CpGs matched.\n"
     ]
    },
    {
     "name": "stderr",
     "output_type": "stream",
     "text": [
      "\r",
      "Parsing GSE120132:   2%|▍                      | 10/549 [00:11<10:38,  1.18s/it]"
     ]
    },
    {
     "name": "stdout",
     "output_type": "stream",
     "text": [
      "  GSM3394181_Mouse_Adipose_SH010.CGfinal: 176 clock CpGs matched.\n"
     ]
    },
    {
     "name": "stderr",
     "output_type": "stream",
     "text": [
      "\r",
      "Parsing GSE120132:   2%|▍                      | 11/549 [00:13<10:45,  1.20s/it]"
     ]
    },
    {
     "name": "stdout",
     "output_type": "stream",
     "text": [
      "  GSM3394182_Mouse_Adipose_SH011.CGfinal: 169 clock CpGs matched.\n"
     ]
    },
    {
     "name": "stderr",
     "output_type": "stream",
     "text": [
      "\r",
      "Parsing GSE120132:   2%|▌                      | 12/549 [00:14<10:37,  1.19s/it]"
     ]
    },
    {
     "name": "stdout",
     "output_type": "stream",
     "text": [
      "  GSM3394183_Mouse_Adipose_SH012.CGfinal: 168 clock CpGs matched.\n"
     ]
    },
    {
     "name": "stderr",
     "output_type": "stream",
     "text": [
      "\r",
      "Parsing GSE120132:   2%|▌                      | 13/549 [00:15<10:29,  1.18s/it]"
     ]
    },
    {
     "name": "stdout",
     "output_type": "stream",
     "text": [
      "  GSM3394184_Mouse_Adipose_SH013.CGfinal: 171 clock CpGs matched.\n"
     ]
    },
    {
     "name": "stderr",
     "output_type": "stream",
     "text": [
      "\r",
      "Parsing GSE120132:   3%|▌                      | 14/549 [00:16<10:24,  1.17s/it]"
     ]
    },
    {
     "name": "stdout",
     "output_type": "stream",
     "text": [
      "  GSM3394185_Mouse_Adipose_SH014.CGfinal: 166 clock CpGs matched.\n"
     ]
    },
    {
     "name": "stderr",
     "output_type": "stream",
     "text": [
      "\r",
      "Parsing GSE120132:   3%|▋                      | 15/549 [00:17<10:03,  1.13s/it]"
     ]
    },
    {
     "name": "stdout",
     "output_type": "stream",
     "text": [
      "  GSM3394186_Mouse_Adipose_SH015.CGfinal: 166 clock CpGs matched.\n"
     ]
    },
    {
     "name": "stderr",
     "output_type": "stream",
     "text": [
      "\r",
      "Parsing GSE120132:   3%|▋                      | 16/549 [00:18<10:05,  1.14s/it]"
     ]
    },
    {
     "name": "stdout",
     "output_type": "stream",
     "text": [
      "  GSM3394187_Mouse_Adipose_SH016.CGfinal: 170 clock CpGs matched.\n"
     ]
    },
    {
     "name": "stderr",
     "output_type": "stream",
     "text": [
      "\r",
      "Parsing GSE120132:   3%|▋                      | 17/549 [00:19<10:06,  1.14s/it]"
     ]
    },
    {
     "name": "stdout",
     "output_type": "stream",
     "text": [
      "  GSM3394188_Mouse_Adipose_SH017.CGfinal: 170 clock CpGs matched.\n"
     ]
    },
    {
     "name": "stderr",
     "output_type": "stream",
     "text": [
      "\r",
      "Parsing GSE120132:   3%|▊                      | 18/549 [00:21<10:07,  1.14s/it]"
     ]
    },
    {
     "name": "stdout",
     "output_type": "stream",
     "text": [
      "  GSM3394189_Mouse_Adipose_SH018.CGfinal: 169 clock CpGs matched.\n"
     ]
    },
    {
     "name": "stderr",
     "output_type": "stream",
     "text": [
      "\r",
      "Parsing GSE120132:   3%|▊                      | 19/549 [00:22<10:04,  1.14s/it]"
     ]
    },
    {
     "name": "stdout",
     "output_type": "stream",
     "text": [
      "  GSM3394190_Mouse_Adipose_SH019.CGfinal: 173 clock CpGs matched.\n"
     ]
    },
    {
     "name": "stderr",
     "output_type": "stream",
     "text": [
      "\r",
      "Parsing GSE120132:   4%|▊                      | 20/549 [00:23<10:02,  1.14s/it]"
     ]
    },
    {
     "name": "stdout",
     "output_type": "stream",
     "text": [
      "  GSM3394191_Mouse_Adipose_SH020.CGfinal: 171 clock CpGs matched.\n"
     ]
    },
    {
     "name": "stderr",
     "output_type": "stream",
     "text": [
      "\r",
      "Parsing GSE120132:   4%|▉                      | 21/549 [00:24<10:04,  1.15s/it]"
     ]
    },
    {
     "name": "stdout",
     "output_type": "stream",
     "text": [
      "  GSM3394192_Mouse_Adipose_SH021.CGfinal: 176 clock CpGs matched.\n"
     ]
    },
    {
     "name": "stderr",
     "output_type": "stream",
     "text": [
      "\r",
      "Parsing GSE120132:   4%|▉                      | 22/549 [00:25<10:09,  1.16s/it]"
     ]
    },
    {
     "name": "stdout",
     "output_type": "stream",
     "text": [
      "  GSM3394193_Mouse_Adipose_SH022.CGfinal: 174 clock CpGs matched.\n"
     ]
    },
    {
     "name": "stderr",
     "output_type": "stream",
     "text": [
      "\r",
      "Parsing GSE120132:   4%|▉                      | 23/549 [00:26<09:54,  1.13s/it]"
     ]
    },
    {
     "name": "stdout",
     "output_type": "stream",
     "text": [
      "  GSM3394194_Mouse_Adipose_SH023.CGfinal: 176 clock CpGs matched.\n"
     ]
    },
    {
     "name": "stderr",
     "output_type": "stream",
     "text": [
      "\r",
      "Parsing GSE120132:   4%|█                      | 24/549 [00:27<10:03,  1.15s/it]"
     ]
    },
    {
     "name": "stdout",
     "output_type": "stream",
     "text": [
      "  GSM3394195_Mouse_Adipose_SH024.CGfinal: 176 clock CpGs matched.\n"
     ]
    },
    {
     "name": "stderr",
     "output_type": "stream",
     "text": [
      "\r",
      "Parsing GSE120132:   5%|█                      | 25/549 [00:29<10:06,  1.16s/it]"
     ]
    },
    {
     "name": "stdout",
     "output_type": "stream",
     "text": [
      "  GSM3394196_Mouse_Adipose_SH025.CGfinal: 176 clock CpGs matched.\n"
     ]
    },
    {
     "name": "stderr",
     "output_type": "stream",
     "text": [
      "\r",
      "Parsing GSE120132:   5%|█                      | 26/549 [00:30<10:11,  1.17s/it]"
     ]
    },
    {
     "name": "stdout",
     "output_type": "stream",
     "text": [
      "  GSM3394197_Mouse_Adipose_SH026.CGfinal: 176 clock CpGs matched.\n"
     ]
    },
    {
     "name": "stderr",
     "output_type": "stream",
     "text": [
      "\r",
      "Parsing GSE120132:   5%|█▏                     | 27/549 [00:31<10:05,  1.16s/it]"
     ]
    },
    {
     "name": "stdout",
     "output_type": "stream",
     "text": [
      "  GSM3394198_Mouse_Adipose_SH027.CGfinal: 176 clock CpGs matched.\n"
     ]
    },
    {
     "name": "stderr",
     "output_type": "stream",
     "text": [
      "\r",
      "Parsing GSE120132:   5%|█▏                     | 28/549 [00:32<10:03,  1.16s/it]"
     ]
    },
    {
     "name": "stdout",
     "output_type": "stream",
     "text": [
      "  GSM3394199_Mouse_Adipose_SH028.CGfinal: 176 clock CpGs matched.\n"
     ]
    },
    {
     "name": "stderr",
     "output_type": "stream",
     "text": [
      "\r",
      "Parsing GSE120132:   5%|█▏                     | 29/549 [00:33<10:07,  1.17s/it]"
     ]
    },
    {
     "name": "stdout",
     "output_type": "stream",
     "text": [
      "  GSM3394200_Mouse_Adipose_SH029.CGfinal: 176 clock CpGs matched.\n"
     ]
    },
    {
     "name": "stderr",
     "output_type": "stream",
     "text": [
      "\r",
      "Parsing GSE120132:   5%|█▎                     | 30/549 [00:34<10:05,  1.17s/it]"
     ]
    },
    {
     "name": "stdout",
     "output_type": "stream",
     "text": [
      "  GSM3394201_Mouse_Adipose_SH030.CGfinal: 176 clock CpGs matched.\n"
     ]
    },
    {
     "name": "stderr",
     "output_type": "stream",
     "text": [
      "\r",
      "Parsing GSE120132:   6%|█▎                     | 31/549 [00:36<10:12,  1.18s/it]"
     ]
    },
    {
     "name": "stdout",
     "output_type": "stream",
     "text": [
      "  GSM3394202_Mouse_Adipose_SH031.CGfinal: 169 clock CpGs matched.\n"
     ]
    },
    {
     "name": "stderr",
     "output_type": "stream",
     "text": [
      "\r",
      "Parsing GSE120132:   6%|█▎                     | 32/549 [00:37<10:06,  1.17s/it]"
     ]
    },
    {
     "name": "stdout",
     "output_type": "stream",
     "text": [
      "  GSM3394203_Mouse_Adipose_SH032.CGfinal: 169 clock CpGs matched.\n"
     ]
    },
    {
     "name": "stderr",
     "output_type": "stream",
     "text": [
      "\r",
      "Parsing GSE120132:   6%|█▍                     | 33/549 [00:38<09:47,  1.14s/it]"
     ]
    },
    {
     "name": "stdout",
     "output_type": "stream",
     "text": [
      "  GSM3394204_Mouse_Adipose_SH033.CGfinal: 170 clock CpGs matched.\n"
     ]
    },
    {
     "name": "stderr",
     "output_type": "stream",
     "text": [
      "\r",
      "Parsing GSE120132:   6%|█▍                     | 34/549 [00:39<09:50,  1.15s/it]"
     ]
    },
    {
     "name": "stdout",
     "output_type": "stream",
     "text": [
      "  GSM3394205_Mouse_Adipose_SH034.CGfinal: 169 clock CpGs matched.\n"
     ]
    },
    {
     "name": "stderr",
     "output_type": "stream",
     "text": [
      "\r",
      "Parsing GSE120132:   6%|█▍                     | 35/549 [00:40<09:30,  1.11s/it]"
     ]
    },
    {
     "name": "stdout",
     "output_type": "stream",
     "text": [
      "  GSM3394206_Mouse_Adipose_SH035.CGfinal: 171 clock CpGs matched.\n"
     ]
    },
    {
     "name": "stderr",
     "output_type": "stream",
     "text": [
      "\r",
      "Parsing GSE120132:   7%|█▌                     | 36/549 [00:41<09:29,  1.11s/it]"
     ]
    },
    {
     "name": "stdout",
     "output_type": "stream",
     "text": [
      "  GSM3394207_Mouse_Adipose_SH036.CGfinal: 170 clock CpGs matched.\n"
     ]
    },
    {
     "name": "stderr",
     "output_type": "stream",
     "text": [
      "\r",
      "Parsing GSE120132:   7%|█▌                     | 37/549 [00:42<09:21,  1.10s/it]"
     ]
    },
    {
     "name": "stdout",
     "output_type": "stream",
     "text": [
      "  GSM3394208_Mouse_Adipose_SH037.CGfinal: 169 clock CpGs matched.\n"
     ]
    },
    {
     "name": "stderr",
     "output_type": "stream",
     "text": [
      "\r",
      "Parsing GSE120132:   7%|█▌                     | 38/549 [00:44<09:51,  1.16s/it]"
     ]
    },
    {
     "name": "stdout",
     "output_type": "stream",
     "text": [
      "  GSM3394209_Mouse_Adipose_SH038.CGfinal: 167 clock CpGs matched.\n"
     ]
    },
    {
     "name": "stderr",
     "output_type": "stream",
     "text": [
      "\r",
      "Parsing GSE120132:   7%|█▋                     | 39/549 [00:45<09:39,  1.14s/it]"
     ]
    },
    {
     "name": "stdout",
     "output_type": "stream",
     "text": [
      "  GSM3394210_Mouse_Adipose_SH039.CGfinal: 167 clock CpGs matched.\n"
     ]
    },
    {
     "name": "stderr",
     "output_type": "stream",
     "text": [
      "\r",
      "Parsing GSE120132:   7%|█▋                     | 40/549 [00:46<09:41,  1.14s/it]"
     ]
    },
    {
     "name": "stdout",
     "output_type": "stream",
     "text": [
      "  GSM3394211_Mouse_Adipose_SH040.CGfinal: 168 clock CpGs matched.\n"
     ]
    },
    {
     "name": "stderr",
     "output_type": "stream",
     "text": [
      "\r",
      "Parsing GSE120132:   7%|█▋                     | 41/549 [00:47<09:50,  1.16s/it]"
     ]
    },
    {
     "name": "stdout",
     "output_type": "stream",
     "text": [
      "  GSM3394212_Mouse_Adipose_SH041.CGfinal: 176 clock CpGs matched.\n"
     ]
    },
    {
     "name": "stderr",
     "output_type": "stream",
     "text": [
      "\r",
      "Parsing GSE120132:   8%|█▊                     | 42/549 [00:48<09:52,  1.17s/it]"
     ]
    },
    {
     "name": "stdout",
     "output_type": "stream",
     "text": [
      "  GSM3394213_Mouse_Adipose_SH042.CGfinal: 175 clock CpGs matched.\n"
     ]
    },
    {
     "name": "stderr",
     "output_type": "stream",
     "text": [
      "\r",
      "Parsing GSE120132:   8%|█▊                     | 43/549 [00:49<09:49,  1.16s/it]"
     ]
    },
    {
     "name": "stdout",
     "output_type": "stream",
     "text": [
      "  GSM3394214_Mouse_Adipose_SH043.CGfinal: 176 clock CpGs matched.\n"
     ]
    },
    {
     "name": "stderr",
     "output_type": "stream",
     "text": [
      "\r",
      "Parsing GSE120132:   8%|█▊                     | 44/549 [00:50<09:48,  1.16s/it]"
     ]
    },
    {
     "name": "stdout",
     "output_type": "stream",
     "text": [
      "  GSM3394215_Mouse_Adipose_SH044.CGfinal: 176 clock CpGs matched.\n"
     ]
    },
    {
     "name": "stderr",
     "output_type": "stream",
     "text": [
      "\r",
      "Parsing GSE120132:   8%|█▉                     | 45/549 [00:52<09:33,  1.14s/it]"
     ]
    },
    {
     "name": "stdout",
     "output_type": "stream",
     "text": [
      "  GSM3394216_Mouse_Adipose_SH045.CGfinal: 176 clock CpGs matched.\n"
     ]
    },
    {
     "name": "stderr",
     "output_type": "stream",
     "text": [
      "\r",
      "Parsing GSE120132:   8%|█▉                     | 46/549 [00:53<09:35,  1.14s/it]"
     ]
    },
    {
     "name": "stdout",
     "output_type": "stream",
     "text": [
      "  GSM3394217_Mouse_Adipose_SH046.CGfinal: 176 clock CpGs matched.\n"
     ]
    },
    {
     "name": "stderr",
     "output_type": "stream",
     "text": [
      "\r",
      "Parsing GSE120132:   9%|█▉                     | 47/549 [00:54<09:39,  1.15s/it]"
     ]
    },
    {
     "name": "stdout",
     "output_type": "stream",
     "text": [
      "  GSM3394218_Mouse_Adipose_SH047.CGfinal: 176 clock CpGs matched.\n"
     ]
    },
    {
     "name": "stderr",
     "output_type": "stream",
     "text": [
      "\r",
      "Parsing GSE120132:   9%|██                     | 48/549 [00:55<09:44,  1.17s/it]"
     ]
    },
    {
     "name": "stdout",
     "output_type": "stream",
     "text": [
      "  GSM3394219_Mouse_Adipose_SH048.CGfinal: 176 clock CpGs matched.\n"
     ]
    },
    {
     "name": "stderr",
     "output_type": "stream",
     "text": [
      "\r",
      "Parsing GSE120132:   9%|██                     | 49/549 [00:56<09:52,  1.18s/it]"
     ]
    },
    {
     "name": "stdout",
     "output_type": "stream",
     "text": [
      "  GSM3394220_Mouse_Adipose_SH049.CGfinal: 176 clock CpGs matched.\n"
     ]
    },
    {
     "name": "stderr",
     "output_type": "stream",
     "text": [
      "\r",
      "Parsing GSE120132:   9%|██                     | 50/549 [00:58<09:58,  1.20s/it]"
     ]
    },
    {
     "name": "stdout",
     "output_type": "stream",
     "text": [
      "  GSM3394221_Mouse_Adipose_SH050.CGfinal: 176 clock CpGs matched.\n"
     ]
    },
    {
     "name": "stderr",
     "output_type": "stream",
     "text": [
      "\r",
      "Parsing GSE120132:   9%|██▏                    | 51/549 [00:59<09:56,  1.20s/it]"
     ]
    },
    {
     "name": "stdout",
     "output_type": "stream",
     "text": [
      "  GSM3394222_Mouse_Adipose_SH051.CGfinal: 172 clock CpGs matched.\n"
     ]
    },
    {
     "name": "stderr",
     "output_type": "stream",
     "text": [
      "\r",
      "Parsing GSE120132:   9%|██▏                    | 52/549 [01:00<09:50,  1.19s/it]"
     ]
    },
    {
     "name": "stdout",
     "output_type": "stream",
     "text": [
      "  GSM3394223_Mouse_Adipose_SH052.CGfinal: 167 clock CpGs matched.\n"
     ]
    },
    {
     "name": "stderr",
     "output_type": "stream",
     "text": [
      "\r",
      "Parsing GSE120132:  10%|██▏                    | 53/549 [01:01<09:37,  1.17s/it]"
     ]
    },
    {
     "name": "stdout",
     "output_type": "stream",
     "text": [
      "  GSM3394224_Mouse_Adipose_SH053.CGfinal: 169 clock CpGs matched.\n"
     ]
    },
    {
     "name": "stderr",
     "output_type": "stream",
     "text": [
      "\r",
      "Parsing GSE120132:  10%|██▎                    | 54/549 [01:02<09:46,  1.18s/it]"
     ]
    },
    {
     "name": "stdout",
     "output_type": "stream",
     "text": [
      "  GSM3394225_Mouse_Adipose_SH054.CGfinal: 176 clock CpGs matched.\n"
     ]
    },
    {
     "name": "stderr",
     "output_type": "stream",
     "text": [
      "\r",
      "Parsing GSE120132:  10%|██▎                    | 55/549 [01:03<09:46,  1.19s/it]"
     ]
    },
    {
     "name": "stdout",
     "output_type": "stream",
     "text": [
      "  GSM3394226_Mouse_Adipose_SH055.CGfinal: 170 clock CpGs matched.\n"
     ]
    },
    {
     "name": "stderr",
     "output_type": "stream",
     "text": [
      "\r",
      "Parsing GSE120132:  10%|██▎                    | 56/549 [01:05<09:59,  1.22s/it]"
     ]
    },
    {
     "name": "stdout",
     "output_type": "stream",
     "text": [
      "  GSM3394227_Mouse_Adipose_SH056.CGfinal: 176 clock CpGs matched.\n"
     ]
    },
    {
     "name": "stderr",
     "output_type": "stream",
     "text": [
      "\r",
      "Parsing GSE120132:  10%|██▍                    | 57/549 [01:06<10:04,  1.23s/it]"
     ]
    },
    {
     "name": "stdout",
     "output_type": "stream",
     "text": [
      "  GSM3394228_Mouse_Blood_SH001.CGfinal: 176 clock CpGs matched.\n"
     ]
    },
    {
     "name": "stderr",
     "output_type": "stream",
     "text": [
      "\r",
      "Parsing GSE120132:  11%|██▍                    | 58/549 [01:07<09:54,  1.21s/it]"
     ]
    },
    {
     "name": "stdout",
     "output_type": "stream",
     "text": [
      "  GSM3394229_Mouse_Blood_SH005.CGfinal: 176 clock CpGs matched.\n"
     ]
    },
    {
     "name": "stderr",
     "output_type": "stream",
     "text": [
      "\r",
      "Parsing GSE120132:  11%|██▍                    | 59/549 [01:09<10:14,  1.25s/it]"
     ]
    },
    {
     "name": "stdout",
     "output_type": "stream",
     "text": [
      "  GSM3394230_Mouse_Blood_SH006.CGfinal: 176 clock CpGs matched.\n"
     ]
    },
    {
     "name": "stderr",
     "output_type": "stream",
     "text": [
      "\r",
      "Parsing GSE120132:  11%|██▌                    | 60/549 [01:10<10:11,  1.25s/it]"
     ]
    },
    {
     "name": "stdout",
     "output_type": "stream",
     "text": [
      "  GSM3394231_Mouse_Blood_SH007.CGfinal: 176 clock CpGs matched.\n"
     ]
    },
    {
     "name": "stderr",
     "output_type": "stream",
     "text": [
      "\r",
      "Parsing GSE120132:  11%|██▌                    | 61/549 [01:11<10:01,  1.23s/it]"
     ]
    },
    {
     "name": "stdout",
     "output_type": "stream",
     "text": [
      "  GSM3394232_Mouse_Blood_SH008.CGfinal: 176 clock CpGs matched.\n"
     ]
    },
    {
     "name": "stderr",
     "output_type": "stream",
     "text": [
      "\r",
      "Parsing GSE120132:  11%|██▌                    | 62/549 [01:12<09:26,  1.16s/it]"
     ]
    },
    {
     "name": "stdout",
     "output_type": "stream",
     "text": [
      "  GSM3394233_Mouse_Blood_SH009.CGfinal: 174 clock CpGs matched.\n"
     ]
    },
    {
     "name": "stderr",
     "output_type": "stream",
     "text": [
      "\r",
      "Parsing GSE120132:  11%|██▋                    | 63/549 [01:13<08:57,  1.11s/it]"
     ]
    },
    {
     "name": "stdout",
     "output_type": "stream",
     "text": [
      "  GSM3394234_Mouse_Blood_SH010.CGfinal: 174 clock CpGs matched.\n"
     ]
    },
    {
     "name": "stderr",
     "output_type": "stream",
     "text": [
      "\r",
      "Parsing GSE120132:  12%|██▋                    | 64/549 [01:14<08:23,  1.04s/it]"
     ]
    },
    {
     "name": "stdout",
     "output_type": "stream",
     "text": [
      "  GSM3394235_Mouse_Blood_SH011.CGfinal: 166 clock CpGs matched.\n"
     ]
    },
    {
     "name": "stderr",
     "output_type": "stream",
     "text": [
      "\r",
      "Parsing GSE120132:  12%|██▋                    | 65/549 [01:15<08:13,  1.02s/it]"
     ]
    },
    {
     "name": "stdout",
     "output_type": "stream",
     "text": [
      "  GSM3394236_Mouse_Blood_SH012.CGfinal: 167 clock CpGs matched.\n"
     ]
    },
    {
     "name": "stderr",
     "output_type": "stream",
     "text": [
      "\r",
      "Parsing GSE120132:  12%|██▊                    | 66/549 [01:16<07:43,  1.04it/s]"
     ]
    },
    {
     "name": "stdout",
     "output_type": "stream",
     "text": [
      "  GSM3394237_Mouse_Blood_SH013.CGfinal: 165 clock CpGs matched.\n"
     ]
    },
    {
     "name": "stderr",
     "output_type": "stream",
     "text": [
      "\r",
      "Parsing GSE120132:  12%|██▊                    | 67/549 [01:17<07:40,  1.05it/s]"
     ]
    },
    {
     "name": "stdout",
     "output_type": "stream",
     "text": [
      "  GSM3394238_Mouse_Blood_SH014.CGfinal: 165 clock CpGs matched.\n"
     ]
    },
    {
     "name": "stderr",
     "output_type": "stream",
     "text": [
      "\r",
      "Parsing GSE120132:  12%|██▊                    | 68/549 [01:18<07:43,  1.04it/s]"
     ]
    },
    {
     "name": "stdout",
     "output_type": "stream",
     "text": [
      "  GSM3394239_Mouse_Blood_SH015.CGfinal: 167 clock CpGs matched.\n"
     ]
    },
    {
     "name": "stderr",
     "output_type": "stream",
     "text": [
      "\r",
      "Parsing GSE120132:  13%|██▉                    | 69/549 [01:18<07:30,  1.07it/s]"
     ]
    },
    {
     "name": "stdout",
     "output_type": "stream",
     "text": [
      "  GSM3394240_Mouse_Blood_SH016.CGfinal: 163 clock CpGs matched.\n"
     ]
    },
    {
     "name": "stderr",
     "output_type": "stream",
     "text": [
      "\r",
      "Parsing GSE120132:  13%|██▉                    | 70/549 [01:20<08:03,  1.01s/it]"
     ]
    },
    {
     "name": "stdout",
     "output_type": "stream",
     "text": [
      "  GSM3394241_Mouse_Blood_SH017.CGfinal: 171 clock CpGs matched.\n"
     ]
    },
    {
     "name": "stderr",
     "output_type": "stream",
     "text": [
      "\r",
      "Parsing GSE120132:  13%|██▉                    | 71/549 [01:21<08:18,  1.04s/it]"
     ]
    },
    {
     "name": "stdout",
     "output_type": "stream",
     "text": [
      "  GSM3394242_Mouse_Blood_SH018.CGfinal: 172 clock CpGs matched.\n"
     ]
    },
    {
     "name": "stderr",
     "output_type": "stream",
     "text": [
      "\r",
      "Parsing GSE120132:  13%|███                    | 72/549 [01:22<08:19,  1.05s/it]"
     ]
    },
    {
     "name": "stdout",
     "output_type": "stream",
     "text": [
      "  GSM3394243_Mouse_Blood_SH019.CGfinal: 167 clock CpGs matched.\n"
     ]
    },
    {
     "name": "stderr",
     "output_type": "stream",
     "text": [
      "\r",
      "Parsing GSE120132:  13%|███                    | 73/549 [01:23<08:37,  1.09s/it]"
     ]
    },
    {
     "name": "stdout",
     "output_type": "stream",
     "text": [
      "  GSM3394244_Mouse_Blood_SH020.CGfinal: 167 clock CpGs matched.\n"
     ]
    },
    {
     "name": "stderr",
     "output_type": "stream",
     "text": [
      "\r",
      "Parsing GSE120132:  13%|███                    | 74/549 [01:24<09:04,  1.15s/it]"
     ]
    },
    {
     "name": "stdout",
     "output_type": "stream",
     "text": [
      "  GSM3394245_Mouse_Blood_SH030.CGfinal: 176 clock CpGs matched.\n"
     ]
    },
    {
     "name": "stderr",
     "output_type": "stream",
     "text": [
      "\r",
      "Parsing GSE120132:  14%|███▏                   | 75/549 [01:25<09:12,  1.17s/it]"
     ]
    },
    {
     "name": "stdout",
     "output_type": "stream",
     "text": [
      "  GSM3394246_Mouse_Blood_SH033.CGfinal: 170 clock CpGs matched.\n"
     ]
    },
    {
     "name": "stderr",
     "output_type": "stream",
     "text": [
      "\r",
      "Parsing GSE120132:  14%|███▏                   | 76/549 [01:27<09:14,  1.17s/it]"
     ]
    },
    {
     "name": "stdout",
     "output_type": "stream",
     "text": [
      "  GSM3394247_Mouse_Blood_SH034.CGfinal: 170 clock CpGs matched.\n"
     ]
    },
    {
     "name": "stderr",
     "output_type": "stream",
     "text": [
      "\r",
      "Parsing GSE120132:  14%|███▏                   | 77/549 [01:28<09:13,  1.17s/it]"
     ]
    },
    {
     "name": "stdout",
     "output_type": "stream",
     "text": [
      "  GSM3394248_Mouse_Blood_SH035.CGfinal: 168 clock CpGs matched.\n"
     ]
    },
    {
     "name": "stderr",
     "output_type": "stream",
     "text": [
      "\r",
      "Parsing GSE120132:  14%|███▎                   | 78/549 [01:29<09:04,  1.16s/it]"
     ]
    },
    {
     "name": "stdout",
     "output_type": "stream",
     "text": [
      "  GSM3394249_Mouse_Blood_SH036.CGfinal: 167 clock CpGs matched.\n"
     ]
    },
    {
     "name": "stderr",
     "output_type": "stream",
     "text": [
      "\r",
      "Parsing GSE120132:  14%|███▎                   | 79/549 [01:30<09:07,  1.16s/it]"
     ]
    },
    {
     "name": "stdout",
     "output_type": "stream",
     "text": [
      "  GSM3394250_Mouse_Blood_SH037.CGfinal: 169 clock CpGs matched.\n"
     ]
    },
    {
     "name": "stderr",
     "output_type": "stream",
     "text": [
      "\r",
      "Parsing GSE120132:  15%|███▎                   | 80/549 [01:31<09:10,  1.17s/it]"
     ]
    },
    {
     "name": "stdout",
     "output_type": "stream",
     "text": [
      "  GSM3394251_Mouse_Blood_SH038.CGfinal: 169 clock CpGs matched.\n"
     ]
    },
    {
     "name": "stderr",
     "output_type": "stream",
     "text": [
      "\r",
      "Parsing GSE120132:  15%|███▍                   | 81/549 [01:32<09:11,  1.18s/it]"
     ]
    },
    {
     "name": "stdout",
     "output_type": "stream",
     "text": [
      "  GSM3394252_Mouse_Blood_SH039.CGfinal: 171 clock CpGs matched.\n"
     ]
    },
    {
     "name": "stderr",
     "output_type": "stream",
     "text": [
      "\r",
      "Parsing GSE120132:  15%|███▍                   | 82/549 [01:34<09:25,  1.21s/it]"
     ]
    },
    {
     "name": "stdout",
     "output_type": "stream",
     "text": [
      "  GSM3394253_Mouse_Blood_SH040.CGfinal: 172 clock CpGs matched.\n"
     ]
    },
    {
     "name": "stderr",
     "output_type": "stream",
     "text": [
      "\r",
      "Parsing GSE120132:  15%|███▍                   | 83/549 [01:35<09:18,  1.20s/it]"
     ]
    },
    {
     "name": "stdout",
     "output_type": "stream",
     "text": [
      "  GSM3394254_Mouse_Blood_SH041.CGfinal: 176 clock CpGs matched.\n"
     ]
    },
    {
     "name": "stderr",
     "output_type": "stream",
     "text": [
      "\r",
      "Parsing GSE120132:  15%|███▌                   | 84/549 [01:36<09:28,  1.22s/it]"
     ]
    },
    {
     "name": "stdout",
     "output_type": "stream",
     "text": [
      "  GSM3394255_Mouse_Blood_SH045.CGfinal: 176 clock CpGs matched.\n"
     ]
    },
    {
     "name": "stderr",
     "output_type": "stream",
     "text": [
      "\r",
      "Parsing GSE120132:  15%|███▌                   | 85/549 [01:37<09:26,  1.22s/it]"
     ]
    },
    {
     "name": "stdout",
     "output_type": "stream",
     "text": [
      "  GSM3394256_Mouse_Blood_SH056.CGfinal: 171 clock CpGs matched.\n"
     ]
    },
    {
     "name": "stderr",
     "output_type": "stream",
     "text": [
      "\r",
      "Parsing GSE120132:  16%|███▌                   | 86/549 [01:39<09:23,  1.22s/it]"
     ]
    },
    {
     "name": "stdout",
     "output_type": "stream",
     "text": [
      "  GSM3394257_Mouse_Blood_SH057.CGfinal: 169 clock CpGs matched.\n"
     ]
    },
    {
     "name": "stderr",
     "output_type": "stream",
     "text": [
      "\r",
      "Parsing GSE120132:  16%|███▋                   | 87/549 [01:40<09:26,  1.23s/it]"
     ]
    },
    {
     "name": "stdout",
     "output_type": "stream",
     "text": [
      "  GSM3394258_Mouse_Blood_SH058.CGfinal: 172 clock CpGs matched.\n"
     ]
    },
    {
     "name": "stderr",
     "output_type": "stream",
     "text": [
      "\r",
      "Parsing GSE120132:  16%|███▋                   | 88/549 [01:41<09:23,  1.22s/it]"
     ]
    },
    {
     "name": "stdout",
     "output_type": "stream",
     "text": [
      "  GSM3394259_Mouse_Blood_SH059.CGfinal: 167 clock CpGs matched.\n"
     ]
    },
    {
     "name": "stderr",
     "output_type": "stream",
     "text": [
      "\r",
      "Parsing GSE120132:  16%|███▋                   | 89/549 [01:42<09:21,  1.22s/it]"
     ]
    },
    {
     "name": "stdout",
     "output_type": "stream",
     "text": [
      "  GSM3394260_Mouse_Blood_SH061.CGfinal: 176 clock CpGs matched.\n"
     ]
    },
    {
     "name": "stderr",
     "output_type": "stream",
     "text": [
      "\r",
      "Parsing GSE120132:  16%|███▊                   | 90/549 [01:44<09:26,  1.23s/it]"
     ]
    },
    {
     "name": "stdout",
     "output_type": "stream",
     "text": [
      "  GSM3394261_Mouse_Blood_SH062.CGfinal: 176 clock CpGs matched.\n"
     ]
    },
    {
     "name": "stderr",
     "output_type": "stream",
     "text": [
      "\r",
      "Parsing GSE120132:  17%|███▊                   | 91/549 [01:45<09:26,  1.24s/it]"
     ]
    },
    {
     "name": "stdout",
     "output_type": "stream",
     "text": [
      "  GSM3394262_Mouse_Blood_SH063.CGfinal: 176 clock CpGs matched.\n"
     ]
    },
    {
     "name": "stderr",
     "output_type": "stream",
     "text": [
      "\r",
      "Parsing GSE120132:  17%|███▊                   | 92/549 [01:46<09:13,  1.21s/it]"
     ]
    },
    {
     "name": "stdout",
     "output_type": "stream",
     "text": [
      "  GSM3394263_Mouse_Blood_SH064.CGfinal: 176 clock CpGs matched.\n"
     ]
    },
    {
     "name": "stderr",
     "output_type": "stream",
     "text": [
      "\r",
      "Parsing GSE120132:  17%|███▉                   | 93/549 [01:47<09:01,  1.19s/it]"
     ]
    },
    {
     "name": "stdout",
     "output_type": "stream",
     "text": [
      "  GSM3394264_Mouse_Blood_SH065.CGfinal: 176 clock CpGs matched.\n"
     ]
    },
    {
     "name": "stderr",
     "output_type": "stream",
     "text": [
      "\r",
      "Parsing GSE120132:  17%|███▉                   | 94/549 [01:48<08:53,  1.17s/it]"
     ]
    },
    {
     "name": "stdout",
     "output_type": "stream",
     "text": [
      "  GSM3394265_Mouse_Blood_SH066.CGfinal: 176 clock CpGs matched.\n"
     ]
    },
    {
     "name": "stderr",
     "output_type": "stream",
     "text": [
      "\r",
      "Parsing GSE120132:  17%|███▉                   | 95/549 [01:49<08:51,  1.17s/it]"
     ]
    },
    {
     "name": "stdout",
     "output_type": "stream",
     "text": [
      "  GSM3394266_Mouse_Blood_SH067.CGfinal: 176 clock CpGs matched.\n"
     ]
    },
    {
     "name": "stderr",
     "output_type": "stream",
     "text": [
      "\r",
      "Parsing GSE120132:  17%|████                   | 96/549 [01:51<08:45,  1.16s/it]"
     ]
    },
    {
     "name": "stdout",
     "output_type": "stream",
     "text": [
      "  GSM3394267_Mouse_Blood_SH068.CGfinal: 176 clock CpGs matched.\n"
     ]
    },
    {
     "name": "stderr",
     "output_type": "stream",
     "text": [
      "\r",
      "Parsing GSE120132:  18%|████                   | 97/549 [01:52<08:40,  1.15s/it]"
     ]
    },
    {
     "name": "stdout",
     "output_type": "stream",
     "text": [
      "  GSM3394268_Mouse_Blood_SH069.CGfinal: 176 clock CpGs matched.\n"
     ]
    },
    {
     "name": "stderr",
     "output_type": "stream",
     "text": [
      "\r",
      "Parsing GSE120132:  18%|████                   | 98/549 [01:53<08:37,  1.15s/it]"
     ]
    },
    {
     "name": "stdout",
     "output_type": "stream",
     "text": [
      "  GSM3394269_Mouse_Blood_SH070.CGfinal: 176 clock CpGs matched.\n"
     ]
    },
    {
     "name": "stderr",
     "output_type": "stream",
     "text": [
      "\r",
      "Parsing GSE120132:  18%|████▏                  | 99/549 [01:54<08:36,  1.15s/it]"
     ]
    },
    {
     "name": "stdout",
     "output_type": "stream",
     "text": [
      "  GSM3394270_Mouse_Blood_SH071.CGfinal: 176 clock CpGs matched.\n"
     ]
    },
    {
     "name": "stderr",
     "output_type": "stream",
     "text": [
      "\r",
      "Parsing GSE120132:  18%|████                  | 100/549 [01:55<08:36,  1.15s/it]"
     ]
    },
    {
     "name": "stdout",
     "output_type": "stream",
     "text": [
      "  GSM3394271_Mouse_Blood_SH072.CGfinal: 176 clock CpGs matched.\n"
     ]
    },
    {
     "name": "stderr",
     "output_type": "stream",
     "text": [
      "\r",
      "Parsing GSE120132:  18%|████                  | 101/549 [01:56<08:29,  1.14s/it]"
     ]
    },
    {
     "name": "stdout",
     "output_type": "stream",
     "text": [
      "  GSM3394272_Mouse_Blood_SH073.CGfinal: 176 clock CpGs matched.\n"
     ]
    },
    {
     "name": "stderr",
     "output_type": "stream",
     "text": [
      "\r",
      "Parsing GSE120132:  19%|████                  | 102/549 [01:57<08:33,  1.15s/it]"
     ]
    },
    {
     "name": "stdout",
     "output_type": "stream",
     "text": [
      "  GSM3394273_Mouse_Blood_SH074.CGfinal: 176 clock CpGs matched.\n"
     ]
    },
    {
     "name": "stderr",
     "output_type": "stream",
     "text": [
      "\r",
      "Parsing GSE120132:  19%|████▏                 | 103/549 [01:59<08:41,  1.17s/it]"
     ]
    },
    {
     "name": "stdout",
     "output_type": "stream",
     "text": [
      "  GSM3394274_Mouse_Blood_SH075.CGfinal: 176 clock CpGs matched.\n"
     ]
    },
    {
     "name": "stderr",
     "output_type": "stream",
     "text": [
      "\r",
      "Parsing GSE120132:  19%|████▏                 | 104/549 [02:00<09:38,  1.30s/it]"
     ]
    },
    {
     "name": "stdout",
     "output_type": "stream",
     "text": [
      "  GSM3394275_Mouse_Blood_SH076.CGfinal: 176 clock CpGs matched.\n"
     ]
    },
    {
     "name": "stderr",
     "output_type": "stream",
     "text": [
      "\r",
      "Parsing GSE120132:  19%|████▏                 | 105/549 [02:01<09:28,  1.28s/it]"
     ]
    },
    {
     "name": "stdout",
     "output_type": "stream",
     "text": [
      "  GSM3394276_Mouse_Blood_SH077.CGfinal: 176 clock CpGs matched.\n"
     ]
    },
    {
     "name": "stderr",
     "output_type": "stream",
     "text": [
      "\r",
      "Parsing GSE120132:  19%|████▏                 | 106/549 [02:03<09:11,  1.24s/it]"
     ]
    },
    {
     "name": "stdout",
     "output_type": "stream",
     "text": [
      "  GSM3394277_Mouse_Blood_SH078.CGfinal: 176 clock CpGs matched.\n"
     ]
    },
    {
     "name": "stderr",
     "output_type": "stream",
     "text": [
      "\r",
      "Parsing GSE120132:  19%|████▎                 | 107/549 [02:04<09:05,  1.23s/it]"
     ]
    },
    {
     "name": "stdout",
     "output_type": "stream",
     "text": [
      "  GSM3394278_Mouse_Blood_SH079.CGfinal: 176 clock CpGs matched.\n"
     ]
    },
    {
     "name": "stderr",
     "output_type": "stream",
     "text": [
      "\r",
      "Parsing GSE120132:  20%|████▎                 | 108/549 [02:05<08:53,  1.21s/it]"
     ]
    },
    {
     "name": "stdout",
     "output_type": "stream",
     "text": [
      "  GSM3394279_Mouse_Blood_SH080.CGfinal: 176 clock CpGs matched.\n"
     ]
    },
    {
     "name": "stderr",
     "output_type": "stream",
     "text": [
      "\r",
      "Parsing GSE120132:  20%|████▎                 | 109/549 [02:06<08:41,  1.19s/it]"
     ]
    },
    {
     "name": "stdout",
     "output_type": "stream",
     "text": [
      "  GSM3394280_Mouse_Blood_SH081.CGfinal: 176 clock CpGs matched.\n"
     ]
    },
    {
     "name": "stderr",
     "output_type": "stream",
     "text": [
      "\r",
      "Parsing GSE120132:  20%|████▍                 | 110/549 [02:07<08:39,  1.18s/it]"
     ]
    },
    {
     "name": "stdout",
     "output_type": "stream",
     "text": [
      "  GSM3394281_Mouse_Blood_SH082.CGfinal: 176 clock CpGs matched.\n"
     ]
    },
    {
     "name": "stderr",
     "output_type": "stream",
     "text": [
      "\r",
      "Parsing GSE120132:  20%|████▍                 | 111/549 [02:08<08:40,  1.19s/it]"
     ]
    },
    {
     "name": "stdout",
     "output_type": "stream",
     "text": [
      "  GSM3394282_Mouse_Blood_SH083.CGfinal: 176 clock CpGs matched.\n"
     ]
    },
    {
     "name": "stderr",
     "output_type": "stream",
     "text": [
      "\r",
      "Parsing GSE120132:  20%|████▍                 | 112/549 [02:10<08:38,  1.19s/it]"
     ]
    },
    {
     "name": "stdout",
     "output_type": "stream",
     "text": [
      "  GSM3394283_Mouse_Blood_SH084.CGfinal: 176 clock CpGs matched.\n"
     ]
    },
    {
     "name": "stderr",
     "output_type": "stream",
     "text": [
      "\r",
      "Parsing GSE120132:  21%|████▌                 | 113/549 [02:11<08:31,  1.17s/it]"
     ]
    },
    {
     "name": "stdout",
     "output_type": "stream",
     "text": [
      "  GSM3394284_Mouse_Blood_SH085.CGfinal: 176 clock CpGs matched.\n"
     ]
    },
    {
     "name": "stderr",
     "output_type": "stream",
     "text": [
      "\r",
      "Parsing GSE120132:  21%|████▌                 | 114/549 [02:12<08:25,  1.16s/it]"
     ]
    },
    {
     "name": "stdout",
     "output_type": "stream",
     "text": [
      "  GSM3394285_Mouse_Blood_SH086.CGfinal: 176 clock CpGs matched.\n"
     ]
    },
    {
     "name": "stderr",
     "output_type": "stream",
     "text": [
      "\r",
      "Parsing GSE120132:  21%|████▌                 | 115/549 [02:13<08:27,  1.17s/it]"
     ]
    },
    {
     "name": "stdout",
     "output_type": "stream",
     "text": [
      "  GSM3394286_Mouse_Blood_SH087.CGfinal: 176 clock CpGs matched.\n"
     ]
    },
    {
     "name": "stderr",
     "output_type": "stream",
     "text": [
      "\r",
      "Parsing GSE120132:  21%|████▋                 | 116/549 [02:14<08:20,  1.16s/it]"
     ]
    },
    {
     "name": "stdout",
     "output_type": "stream",
     "text": [
      "  GSM3394287_Mouse_Blood_SH088.CGfinal: 176 clock CpGs matched.\n"
     ]
    },
    {
     "name": "stderr",
     "output_type": "stream",
     "text": [
      "\r",
      "Parsing GSE120132:  21%|████▋                 | 117/549 [02:15<08:16,  1.15s/it]"
     ]
    },
    {
     "name": "stdout",
     "output_type": "stream",
     "text": [
      "  GSM3394288_Mouse_Blood_SH089.CGfinal: 176 clock CpGs matched.\n"
     ]
    },
    {
     "name": "stderr",
     "output_type": "stream",
     "text": [
      "\r",
      "Parsing GSE120132:  21%|████▋                 | 118/549 [02:17<08:13,  1.15s/it]"
     ]
    },
    {
     "name": "stdout",
     "output_type": "stream",
     "text": [
      "  GSM3394289_Mouse_Blood_SH090.CGfinal: 176 clock CpGs matched.\n"
     ]
    },
    {
     "name": "stderr",
     "output_type": "stream",
     "text": [
      "\r",
      "Parsing GSE120132:  22%|████▊                 | 119/549 [02:18<08:15,  1.15s/it]"
     ]
    },
    {
     "name": "stdout",
     "output_type": "stream",
     "text": [
      "  GSM3394290_Mouse_Blood_SH091.CGfinal: 176 clock CpGs matched.\n"
     ]
    },
    {
     "name": "stderr",
     "output_type": "stream",
     "text": [
      "\r",
      "Parsing GSE120132:  22%|████▊                 | 120/549 [02:19<08:15,  1.16s/it]"
     ]
    },
    {
     "name": "stdout",
     "output_type": "stream",
     "text": [
      "  GSM3394291_Mouse_Blood_SH092.CGfinal: 176 clock CpGs matched.\n"
     ]
    },
    {
     "name": "stderr",
     "output_type": "stream",
     "text": [
      "\r",
      "Parsing GSE120132:  22%|████▊                 | 121/549 [02:20<08:15,  1.16s/it]"
     ]
    },
    {
     "name": "stdout",
     "output_type": "stream",
     "text": [
      "  GSM3394292_Mouse_Blood_SH093.CGfinal: 176 clock CpGs matched.\n"
     ]
    },
    {
     "name": "stderr",
     "output_type": "stream",
     "text": [
      "\r",
      "Parsing GSE120132:  22%|████▉                 | 122/549 [02:21<08:16,  1.16s/it]"
     ]
    },
    {
     "name": "stdout",
     "output_type": "stream",
     "text": [
      "  GSM3394293_Mouse_Blood_SH094.CGfinal: 176 clock CpGs matched.\n"
     ]
    },
    {
     "name": "stderr",
     "output_type": "stream",
     "text": [
      "\r",
      "Parsing GSE120132:  22%|████▉                 | 123/549 [02:22<08:20,  1.17s/it]"
     ]
    },
    {
     "name": "stdout",
     "output_type": "stream",
     "text": [
      "  GSM3394294_Mouse_Blood_SH095.CGfinal: 176 clock CpGs matched.\n"
     ]
    },
    {
     "name": "stderr",
     "output_type": "stream",
     "text": [
      "\r",
      "Parsing GSE120132:  23%|████▉                 | 124/549 [02:24<08:18,  1.17s/it]"
     ]
    },
    {
     "name": "stdout",
     "output_type": "stream",
     "text": [
      "  GSM3394295_Mouse_Blood_SH096.CGfinal: 176 clock CpGs matched.\n"
     ]
    },
    {
     "name": "stderr",
     "output_type": "stream",
     "text": [
      "\r",
      "Parsing GSE120132:  23%|█████                 | 125/549 [02:25<08:07,  1.15s/it]"
     ]
    },
    {
     "name": "stdout",
     "output_type": "stream",
     "text": [
      "  GSM3394296_Mouse_Blood_SH097.CGfinal: 176 clock CpGs matched.\n"
     ]
    },
    {
     "name": "stderr",
     "output_type": "stream",
     "text": [
      "\r",
      "Parsing GSE120132:  23%|█████                 | 126/549 [02:26<08:04,  1.15s/it]"
     ]
    },
    {
     "name": "stdout",
     "output_type": "stream",
     "text": [
      "  GSM3394297_Mouse_Blood_SH098.CGfinal: 176 clock CpGs matched.\n"
     ]
    },
    {
     "name": "stderr",
     "output_type": "stream",
     "text": [
      "\r",
      "Parsing GSE120132:  23%|█████                 | 127/549 [02:27<08:09,  1.16s/it]"
     ]
    },
    {
     "name": "stdout",
     "output_type": "stream",
     "text": [
      "  GSM3394298_Mouse_Blood_SH099.CGfinal: 176 clock CpGs matched.\n"
     ]
    },
    {
     "name": "stderr",
     "output_type": "stream",
     "text": [
      "\r",
      "Parsing GSE120132:  23%|█████▏                | 128/549 [02:28<08:12,  1.17s/it]"
     ]
    },
    {
     "name": "stdout",
     "output_type": "stream",
     "text": [
      "  GSM3394299_Mouse_Blood_SH100.CGfinal: 176 clock CpGs matched.\n"
     ]
    },
    {
     "name": "stderr",
     "output_type": "stream",
     "text": [
      "\r",
      "Parsing GSE120132:  23%|█████▏                | 129/549 [02:29<07:56,  1.13s/it]"
     ]
    },
    {
     "name": "stdout",
     "output_type": "stream",
     "text": [
      "  GSM3394300_Mouse_Kidney_SH001.CGfinal: 176 clock CpGs matched.\n"
     ]
    },
    {
     "name": "stderr",
     "output_type": "stream",
     "text": [
      "\r",
      "Parsing GSE120132:  24%|█████▏                | 130/549 [02:30<07:40,  1.10s/it]"
     ]
    },
    {
     "name": "stdout",
     "output_type": "stream",
     "text": [
      "  GSM3394301_Mouse_Kidney_SH002.CGfinal: 176 clock CpGs matched.\n"
     ]
    },
    {
     "name": "stderr",
     "output_type": "stream",
     "text": [
      "\r",
      "Parsing GSE120132:  24%|█████▏                | 131/549 [02:31<07:38,  1.10s/it]"
     ]
    },
    {
     "name": "stdout",
     "output_type": "stream",
     "text": [
      "  GSM3394302_Mouse_Kidney_SH003.CGfinal: 176 clock CpGs matched.\n"
     ]
    },
    {
     "name": "stderr",
     "output_type": "stream",
     "text": [
      "\r",
      "Parsing GSE120132:  24%|█████▎                | 132/549 [02:32<07:30,  1.08s/it]"
     ]
    },
    {
     "name": "stdout",
     "output_type": "stream",
     "text": [
      "  GSM3394303_Mouse_Kidney_SH004.CGfinal: 176 clock CpGs matched.\n"
     ]
    },
    {
     "name": "stderr",
     "output_type": "stream",
     "text": [
      "\r",
      "Parsing GSE120132:  24%|█████▎                | 133/549 [02:33<07:24,  1.07s/it]"
     ]
    },
    {
     "name": "stdout",
     "output_type": "stream",
     "text": [
      "  GSM3394304_Mouse_Kidney_SH005.CGfinal: 175 clock CpGs matched.\n"
     ]
    },
    {
     "name": "stderr",
     "output_type": "stream",
     "text": [
      "\r",
      "Parsing GSE120132:  24%|█████▎                | 134/549 [02:34<07:09,  1.03s/it]"
     ]
    },
    {
     "name": "stdout",
     "output_type": "stream",
     "text": [
      "  GSM3394305_Mouse_Kidney_SH006.CGfinal: 176 clock CpGs matched.\n"
     ]
    },
    {
     "name": "stderr",
     "output_type": "stream",
     "text": [
      "\r",
      "Parsing GSE120132:  25%|█████▍                | 135/549 [02:35<07:02,  1.02s/it]"
     ]
    },
    {
     "name": "stdout",
     "output_type": "stream",
     "text": [
      "  GSM3394306_Mouse_Kidney_SH007.CGfinal: 174 clock CpGs matched.\n"
     ]
    },
    {
     "name": "stderr",
     "output_type": "stream",
     "text": [
      "\r",
      "Parsing GSE120132:  25%|█████▍                | 136/549 [02:36<06:56,  1.01s/it]"
     ]
    },
    {
     "name": "stdout",
     "output_type": "stream",
     "text": [
      "  GSM3394307_Mouse_Kidney_SH008.CGfinal: 174 clock CpGs matched.\n"
     ]
    },
    {
     "name": "stderr",
     "output_type": "stream",
     "text": [
      "\r",
      "Parsing GSE120132:  25%|█████▍                | 137/549 [02:37<07:09,  1.04s/it]"
     ]
    },
    {
     "name": "stdout",
     "output_type": "stream",
     "text": [
      "  GSM3394308_Mouse_Kidney_SH009.CGfinal: 176 clock CpGs matched.\n"
     ]
    },
    {
     "name": "stderr",
     "output_type": "stream",
     "text": [
      "\r",
      "Parsing GSE120132:  25%|█████▌                | 138/549 [02:39<07:12,  1.05s/it]"
     ]
    },
    {
     "name": "stdout",
     "output_type": "stream",
     "text": [
      "  GSM3394309_Mouse_Kidney_SH010.CGfinal: 176 clock CpGs matched.\n"
     ]
    },
    {
     "name": "stderr",
     "output_type": "stream",
     "text": [
      "\r",
      "Parsing GSE120132:  25%|█████▌                | 139/549 [02:40<07:15,  1.06s/it]"
     ]
    },
    {
     "name": "stdout",
     "output_type": "stream",
     "text": [
      "  GSM3394310_Mouse_Kidney_SH011.CGfinal: 170 clock CpGs matched.\n"
     ]
    },
    {
     "name": "stderr",
     "output_type": "stream",
     "text": [
      "\r",
      "Parsing GSE120132:  26%|█████▌                | 140/549 [02:41<07:13,  1.06s/it]"
     ]
    },
    {
     "name": "stdout",
     "output_type": "stream",
     "text": [
      "  GSM3394311_Mouse_Kidney_SH012.CGfinal: 168 clock CpGs matched.\n"
     ]
    },
    {
     "name": "stderr",
     "output_type": "stream",
     "text": [
      "\r",
      "Parsing GSE120132:  26%|█████▋                | 141/549 [02:42<07:10,  1.06s/it]"
     ]
    },
    {
     "name": "stdout",
     "output_type": "stream",
     "text": [
      "  GSM3394312_Mouse_Kidney_SH013.CGfinal: 167 clock CpGs matched.\n"
     ]
    },
    {
     "name": "stderr",
     "output_type": "stream",
     "text": [
      "\r",
      "Parsing GSE120132:  26%|█████▋                | 142/549 [02:43<07:04,  1.04s/it]"
     ]
    },
    {
     "name": "stdout",
     "output_type": "stream",
     "text": [
      "  GSM3394313_Mouse_Kidney_SH014.CGfinal: 169 clock CpGs matched.\n"
     ]
    },
    {
     "name": "stderr",
     "output_type": "stream",
     "text": [
      "\r",
      "Parsing GSE120132:  26%|█████▋                | 143/549 [02:44<07:00,  1.04s/it]"
     ]
    },
    {
     "name": "stdout",
     "output_type": "stream",
     "text": [
      "  GSM3394314_Mouse_Kidney_SH015.CGfinal: 170 clock CpGs matched.\n"
     ]
    },
    {
     "name": "stderr",
     "output_type": "stream",
     "text": [
      "\r",
      "Parsing GSE120132:  26%|█████▊                | 144/549 [02:45<06:56,  1.03s/it]"
     ]
    },
    {
     "name": "stdout",
     "output_type": "stream",
     "text": [
      "  GSM3394315_Mouse_Kidney_SH016.CGfinal: 169 clock CpGs matched.\n"
     ]
    },
    {
     "name": "stderr",
     "output_type": "stream",
     "text": [
      "\r",
      "Parsing GSE120132:  26%|█████▊                | 145/549 [02:46<07:05,  1.05s/it]"
     ]
    },
    {
     "name": "stdout",
     "output_type": "stream",
     "text": [
      "  GSM3394316_Mouse_Kidney_SH017.CGfinal: 168 clock CpGs matched.\n"
     ]
    },
    {
     "name": "stderr",
     "output_type": "stream",
     "text": [
      "\r",
      "Parsing GSE120132:  27%|█████▊                | 146/549 [02:47<06:55,  1.03s/it]"
     ]
    },
    {
     "name": "stdout",
     "output_type": "stream",
     "text": [
      "  GSM3394317_Mouse_Kidney_SH018.CGfinal: 169 clock CpGs matched.\n"
     ]
    },
    {
     "name": "stderr",
     "output_type": "stream",
     "text": [
      "\r",
      "Parsing GSE120132:  27%|█████▉                | 147/549 [02:48<06:56,  1.04s/it]"
     ]
    },
    {
     "name": "stdout",
     "output_type": "stream",
     "text": [
      "  GSM3394318_Mouse_Kidney_SH019.CGfinal: 171 clock CpGs matched.\n"
     ]
    },
    {
     "name": "stderr",
     "output_type": "stream",
     "text": [
      "\r",
      "Parsing GSE120132:  27%|█████▉                | 148/549 [02:49<06:57,  1.04s/it]"
     ]
    },
    {
     "name": "stdout",
     "output_type": "stream",
     "text": [
      "  GSM3394319_Mouse_Kidney_SH020.CGfinal: 169 clock CpGs matched.\n"
     ]
    },
    {
     "name": "stderr",
     "output_type": "stream",
     "text": [
      "\r",
      "Parsing GSE120132:  27%|█████▉                | 149/549 [02:50<07:01,  1.05s/it]"
     ]
    },
    {
     "name": "stdout",
     "output_type": "stream",
     "text": [
      "  GSM3394320_Mouse_Kidney_SH021.CGfinal: 176 clock CpGs matched.\n"
     ]
    },
    {
     "name": "stderr",
     "output_type": "stream",
     "text": [
      "\r",
      "Parsing GSE120132:  27%|██████                | 150/549 [02:51<06:55,  1.04s/it]"
     ]
    },
    {
     "name": "stdout",
     "output_type": "stream",
     "text": [
      "  GSM3394321_Mouse_Kidney_SH022.CGfinal: 175 clock CpGs matched.\n"
     ]
    },
    {
     "name": "stderr",
     "output_type": "stream",
     "text": [
      "\r",
      "Parsing GSE120132:  28%|██████                | 151/549 [02:52<06:55,  1.04s/it]"
     ]
    },
    {
     "name": "stdout",
     "output_type": "stream",
     "text": [
      "  GSM3394322_Mouse_Kidney_SH023.CGfinal: 176 clock CpGs matched.\n"
     ]
    },
    {
     "name": "stderr",
     "output_type": "stream",
     "text": [
      "\r",
      "Parsing GSE120132:  28%|██████                | 152/549 [02:53<06:56,  1.05s/it]"
     ]
    },
    {
     "name": "stdout",
     "output_type": "stream",
     "text": [
      "  GSM3394323_Mouse_Kidney_SH024.CGfinal: 176 clock CpGs matched.\n"
     ]
    },
    {
     "name": "stderr",
     "output_type": "stream",
     "text": [
      "\r",
      "Parsing GSE120132:  28%|██████▏               | 153/549 [02:54<06:50,  1.04s/it]"
     ]
    },
    {
     "name": "stdout",
     "output_type": "stream",
     "text": [
      "  GSM3394324_Mouse_Kidney_SH025.CGfinal: 176 clock CpGs matched.\n"
     ]
    },
    {
     "name": "stderr",
     "output_type": "stream",
     "text": [
      "\r",
      "Parsing GSE120132:  28%|██████▏               | 154/549 [02:55<06:47,  1.03s/it]"
     ]
    },
    {
     "name": "stdout",
     "output_type": "stream",
     "text": [
      "  GSM3394325_Mouse_Kidney_SH026.CGfinal: 176 clock CpGs matched.\n"
     ]
    },
    {
     "name": "stderr",
     "output_type": "stream",
     "text": [
      "\r",
      "Parsing GSE120132:  28%|██████▏               | 155/549 [02:56<06:50,  1.04s/it]"
     ]
    },
    {
     "name": "stdout",
     "output_type": "stream",
     "text": [
      "  GSM3394326_Mouse_Kidney_SH027.CGfinal: 176 clock CpGs matched.\n"
     ]
    },
    {
     "name": "stderr",
     "output_type": "stream",
     "text": [
      "\r",
      "Parsing GSE120132:  28%|██████▎               | 156/549 [02:57<06:51,  1.05s/it]"
     ]
    },
    {
     "name": "stdout",
     "output_type": "stream",
     "text": [
      "  GSM3394327_Mouse_Kidney_SH029.CGfinal: 176 clock CpGs matched.\n"
     ]
    },
    {
     "name": "stderr",
     "output_type": "stream",
     "text": [
      "\r",
      "Parsing GSE120132:  29%|██████▎               | 157/549 [02:58<06:46,  1.04s/it]"
     ]
    },
    {
     "name": "stdout",
     "output_type": "stream",
     "text": [
      "  GSM3394328_Mouse_Kidney_SH030.CGfinal: 176 clock CpGs matched.\n"
     ]
    },
    {
     "name": "stderr",
     "output_type": "stream",
     "text": [
      "\r",
      "Parsing GSE120132:  29%|██████▎               | 158/549 [02:59<06:41,  1.03s/it]"
     ]
    },
    {
     "name": "stdout",
     "output_type": "stream",
     "text": [
      "  GSM3394329_Mouse_Kidney_SH031.CGfinal: 168 clock CpGs matched.\n"
     ]
    },
    {
     "name": "stderr",
     "output_type": "stream",
     "text": [
      "\r",
      "Parsing GSE120132:  29%|██████▎               | 159/549 [03:00<06:40,  1.03s/it]"
     ]
    },
    {
     "name": "stdout",
     "output_type": "stream",
     "text": [
      "  GSM3394330_Mouse_Kidney_SH032.CGfinal: 170 clock CpGs matched.\n"
     ]
    },
    {
     "name": "stderr",
     "output_type": "stream",
     "text": [
      "\r",
      "Parsing GSE120132:  29%|██████▍               | 160/549 [03:01<06:37,  1.02s/it]"
     ]
    },
    {
     "name": "stdout",
     "output_type": "stream",
     "text": [
      "  GSM3394331_Mouse_Kidney_SH033.CGfinal: 167 clock CpGs matched.\n"
     ]
    },
    {
     "name": "stderr",
     "output_type": "stream",
     "text": [
      "\r",
      "Parsing GSE120132:  29%|██████▍               | 161/549 [03:02<06:37,  1.03s/it]"
     ]
    },
    {
     "name": "stdout",
     "output_type": "stream",
     "text": [
      "  GSM3394332_Mouse_Kidney_SH034.CGfinal: 166 clock CpGs matched.\n"
     ]
    },
    {
     "name": "stderr",
     "output_type": "stream",
     "text": [
      "\r",
      "Parsing GSE120132:  30%|██████▍               | 162/549 [03:03<06:40,  1.04s/it]"
     ]
    },
    {
     "name": "stdout",
     "output_type": "stream",
     "text": [
      "  GSM3394333_Mouse_Kidney_SH035.CGfinal: 170 clock CpGs matched.\n"
     ]
    },
    {
     "name": "stderr",
     "output_type": "stream",
     "text": [
      "\r",
      "Parsing GSE120132:  30%|██████▌               | 163/549 [03:04<06:18,  1.02it/s]"
     ]
    },
    {
     "name": "stdout",
     "output_type": "stream",
     "text": [
      "  GSM3394334_Mouse_Kidney_SH036.CGfinal: 166 clock CpGs matched.\n"
     ]
    },
    {
     "name": "stderr",
     "output_type": "stream",
     "text": [
      "\r",
      "Parsing GSE120132:  30%|██████▌               | 164/549 [03:05<06:22,  1.01it/s]"
     ]
    },
    {
     "name": "stdout",
     "output_type": "stream",
     "text": [
      "  GSM3394335_Mouse_Kidney_SH037.CGfinal: 167 clock CpGs matched.\n"
     ]
    },
    {
     "name": "stderr",
     "output_type": "stream",
     "text": [
      "\r",
      "Parsing GSE120132:  30%|██████▌               | 165/549 [03:06<06:18,  1.01it/s]"
     ]
    },
    {
     "name": "stdout",
     "output_type": "stream",
     "text": [
      "  GSM3394336_Mouse_Kidney_SH038.CGfinal: 166 clock CpGs matched.\n"
     ]
    },
    {
     "name": "stderr",
     "output_type": "stream",
     "text": [
      "\r",
      "Parsing GSE120132:  30%|██████▋               | 166/549 [03:07<06:09,  1.04it/s]"
     ]
    },
    {
     "name": "stdout",
     "output_type": "stream",
     "text": [
      "  GSM3394337_Mouse_Kidney_SH039.CGfinal: 166 clock CpGs matched.\n"
     ]
    },
    {
     "name": "stderr",
     "output_type": "stream",
     "text": [
      "\r",
      "Parsing GSE120132:  30%|██████▋               | 167/549 [03:08<06:04,  1.05it/s]"
     ]
    },
    {
     "name": "stdout",
     "output_type": "stream",
     "text": [
      "  GSM3394338_Mouse_Kidney_SH040.CGfinal: 165 clock CpGs matched.\n"
     ]
    },
    {
     "name": "stderr",
     "output_type": "stream",
     "text": [
      "\r",
      "Parsing GSE120132:  31%|██████▋               | 168/549 [03:09<06:01,  1.06it/s]"
     ]
    },
    {
     "name": "stdout",
     "output_type": "stream",
     "text": [
      "  GSM3394339_Mouse_Kidney_SH041.CGfinal: 172 clock CpGs matched.\n"
     ]
    },
    {
     "name": "stderr",
     "output_type": "stream",
     "text": [
      "\r",
      "Parsing GSE120132:  31%|██████▊               | 169/549 [03:10<06:02,  1.05it/s]"
     ]
    },
    {
     "name": "stdout",
     "output_type": "stream",
     "text": [
      "  GSM3394340_Mouse_Kidney_SH042.CGfinal: 174 clock CpGs matched.\n"
     ]
    },
    {
     "name": "stderr",
     "output_type": "stream",
     "text": [
      "\r",
      "Parsing GSE120132:  31%|██████▊               | 170/549 [03:11<06:07,  1.03it/s]"
     ]
    },
    {
     "name": "stdout",
     "output_type": "stream",
     "text": [
      "  GSM3394341_Mouse_Kidney_SH043.CGfinal: 175 clock CpGs matched.\n"
     ]
    },
    {
     "name": "stderr",
     "output_type": "stream",
     "text": [
      "\r",
      "Parsing GSE120132:  31%|██████▊               | 171/549 [03:12<05:43,  1.10it/s]"
     ]
    },
    {
     "name": "stdout",
     "output_type": "stream",
     "text": [
      "  GSM3394342_Mouse_Kidney_SH044.CGfinal: 170 clock CpGs matched.\n"
     ]
    },
    {
     "name": "stderr",
     "output_type": "stream",
     "text": [
      "\r",
      "Parsing GSE120132:  31%|██████▉               | 172/549 [03:13<05:53,  1.07it/s]"
     ]
    },
    {
     "name": "stdout",
     "output_type": "stream",
     "text": [
      "  GSM3394343_Mouse_Kidney_SH045.CGfinal: 176 clock CpGs matched.\n"
     ]
    },
    {
     "name": "stderr",
     "output_type": "stream",
     "text": [
      "\r",
      "Parsing GSE120132:  32%|██████▉               | 173/549 [03:14<05:51,  1.07it/s]"
     ]
    },
    {
     "name": "stdout",
     "output_type": "stream",
     "text": [
      "  GSM3394344_Mouse_Kidney_SH046.CGfinal: 174 clock CpGs matched.\n"
     ]
    },
    {
     "name": "stderr",
     "output_type": "stream",
     "text": [
      "\r",
      "Parsing GSE120132:  32%|██████▉               | 174/549 [03:15<05:51,  1.07it/s]"
     ]
    },
    {
     "name": "stdout",
     "output_type": "stream",
     "text": [
      "  GSM3394345_Mouse_Kidney_SH047.CGfinal: 175 clock CpGs matched.\n"
     ]
    },
    {
     "name": "stderr",
     "output_type": "stream",
     "text": [
      "\r",
      "Parsing GSE120132:  32%|███████               | 175/549 [03:16<05:50,  1.07it/s]"
     ]
    },
    {
     "name": "stdout",
     "output_type": "stream",
     "text": [
      "  GSM3394346_Mouse_Kidney_SH048.CGfinal: 174 clock CpGs matched.\n"
     ]
    },
    {
     "name": "stderr",
     "output_type": "stream",
     "text": [
      "\r",
      "Parsing GSE120132:  32%|███████               | 176/549 [03:16<05:38,  1.10it/s]"
     ]
    },
    {
     "name": "stdout",
     "output_type": "stream",
     "text": [
      "  GSM3394347_Mouse_Kidney_SH049.CGfinal: 173 clock CpGs matched.\n"
     ]
    },
    {
     "name": "stderr",
     "output_type": "stream",
     "text": [
      "\r",
      "Parsing GSE120132:  32%|███████               | 177/549 [03:17<05:42,  1.09it/s]"
     ]
    },
    {
     "name": "stdout",
     "output_type": "stream",
     "text": [
      "  GSM3394348_Mouse_Kidney_SH050.CGfinal: 175 clock CpGs matched.\n"
     ]
    },
    {
     "name": "stderr",
     "output_type": "stream",
     "text": [
      "\r",
      "Parsing GSE120132:  32%|███████▏              | 178/549 [03:18<05:49,  1.06it/s]"
     ]
    },
    {
     "name": "stdout",
     "output_type": "stream",
     "text": [
      "  GSM3394349_Mouse_Kidney_SH051.CGfinal: 168 clock CpGs matched.\n"
     ]
    },
    {
     "name": "stderr",
     "output_type": "stream",
     "text": [
      "\r",
      "Parsing GSE120132:  33%|███████▏              | 179/549 [03:19<05:46,  1.07it/s]"
     ]
    },
    {
     "name": "stdout",
     "output_type": "stream",
     "text": [
      "  GSM3394350_Mouse_Kidney_SH053.CGfinal: 169 clock CpGs matched.\n"
     ]
    },
    {
     "name": "stderr",
     "output_type": "stream",
     "text": [
      "\r",
      "Parsing GSE120132:  33%|███████▏              | 180/549 [03:20<05:39,  1.09it/s]"
     ]
    },
    {
     "name": "stdout",
     "output_type": "stream",
     "text": [
      "  GSM3394351_Mouse_Kidney_SH054.CGfinal: 168 clock CpGs matched.\n"
     ]
    },
    {
     "name": "stderr",
     "output_type": "stream",
     "text": [
      "\r",
      "Parsing GSE120132:  33%|███████▎              | 181/549 [03:21<05:39,  1.08it/s]"
     ]
    },
    {
     "name": "stdout",
     "output_type": "stream",
     "text": [
      "  GSM3394352_Mouse_Kidney_SH055.CGfinal: 166 clock CpGs matched.\n"
     ]
    },
    {
     "name": "stderr",
     "output_type": "stream",
     "text": [
      "\r",
      "Parsing GSE120132:  33%|███████▎              | 182/549 [03:22<05:40,  1.08it/s]"
     ]
    },
    {
     "name": "stdout",
     "output_type": "stream",
     "text": [
      "  GSM3394353_Mouse_Kidney_SH056.CGfinal: 165 clock CpGs matched.\n"
     ]
    },
    {
     "name": "stderr",
     "output_type": "stream",
     "text": [
      "\r",
      "Parsing GSE120132:  33%|███████▎              | 183/549 [03:23<06:11,  1.01s/it]"
     ]
    },
    {
     "name": "stdout",
     "output_type": "stream",
     "text": [
      "  GSM3394354_Mouse_Liver_SH001.CGfinal: 176 clock CpGs matched.\n"
     ]
    },
    {
     "name": "stderr",
     "output_type": "stream",
     "text": [
      "\r",
      "Parsing GSE120132:  34%|███████▎              | 184/549 [03:24<06:21,  1.04s/it]"
     ]
    },
    {
     "name": "stdout",
     "output_type": "stream",
     "text": [
      "  GSM3394355_Mouse_Liver_SH002.CGfinal: 176 clock CpGs matched.\n"
     ]
    },
    {
     "name": "stderr",
     "output_type": "stream",
     "text": [
      "\r",
      "Parsing GSE120132:  34%|███████▍              | 185/549 [03:26<06:27,  1.07s/it]"
     ]
    },
    {
     "name": "stdout",
     "output_type": "stream",
     "text": [
      "  GSM3394356_Mouse_Liver_SH003.CGfinal: 176 clock CpGs matched.\n"
     ]
    },
    {
     "name": "stderr",
     "output_type": "stream",
     "text": [
      "\r",
      "Parsing GSE120132:  34%|███████▍              | 186/549 [03:27<06:27,  1.07s/it]"
     ]
    },
    {
     "name": "stdout",
     "output_type": "stream",
     "text": [
      "  GSM3394357_Mouse_Liver_SH004.CGfinal: 176 clock CpGs matched.\n"
     ]
    },
    {
     "name": "stderr",
     "output_type": "stream",
     "text": [
      "\r",
      "Parsing GSE120132:  34%|███████▍              | 187/549 [03:28<06:35,  1.09s/it]"
     ]
    },
    {
     "name": "stdout",
     "output_type": "stream",
     "text": [
      "  GSM3394358_Mouse_Liver_SH005.CGfinal: 176 clock CpGs matched.\n"
     ]
    },
    {
     "name": "stderr",
     "output_type": "stream",
     "text": [
      "\r",
      "Parsing GSE120132:  34%|███████▌              | 188/549 [03:29<06:27,  1.07s/it]"
     ]
    },
    {
     "name": "stdout",
     "output_type": "stream",
     "text": [
      "  GSM3394359_Mouse_Liver_SH006.CGfinal: 176 clock CpGs matched.\n"
     ]
    },
    {
     "name": "stderr",
     "output_type": "stream",
     "text": [
      "\r",
      "Parsing GSE120132:  34%|███████▌              | 189/549 [03:30<06:29,  1.08s/it]"
     ]
    },
    {
     "name": "stdout",
     "output_type": "stream",
     "text": [
      "  GSM3394360_Mouse_Liver_SH007.CGfinal: 176 clock CpGs matched.\n"
     ]
    },
    {
     "name": "stderr",
     "output_type": "stream",
     "text": [
      "\r",
      "Parsing GSE120132:  35%|███████▌              | 190/549 [03:31<06:32,  1.09s/it]"
     ]
    },
    {
     "name": "stdout",
     "output_type": "stream",
     "text": [
      "  GSM3394361_Mouse_Liver_SH008.CGfinal: 176 clock CpGs matched.\n"
     ]
    },
    {
     "name": "stderr",
     "output_type": "stream",
     "text": [
      "\r",
      "Parsing GSE120132:  35%|███████▋              | 191/549 [03:32<06:50,  1.15s/it]"
     ]
    },
    {
     "name": "stdout",
     "output_type": "stream",
     "text": [
      "  GSM3394362_Mouse_Liver_SH009.CGfinal: 176 clock CpGs matched.\n"
     ]
    },
    {
     "name": "stderr",
     "output_type": "stream",
     "text": [
      "\r",
      "Parsing GSE120132:  35%|███████▋              | 192/549 [03:33<06:48,  1.14s/it]"
     ]
    },
    {
     "name": "stdout",
     "output_type": "stream",
     "text": [
      "  GSM3394363_Mouse_Liver_SH010.CGfinal: 176 clock CpGs matched.\n"
     ]
    },
    {
     "name": "stderr",
     "output_type": "stream",
     "text": [
      "\r",
      "Parsing GSE120132:  35%|███████▋              | 193/549 [03:34<06:27,  1.09s/it]"
     ]
    },
    {
     "name": "stdout",
     "output_type": "stream",
     "text": [
      "  GSM3394364_Mouse_Liver_SH011.CGfinal: 174 clock CpGs matched.\n"
     ]
    },
    {
     "name": "stderr",
     "output_type": "stream",
     "text": [
      "\r",
      "Parsing GSE120132:  35%|███████▊              | 194/549 [03:35<06:10,  1.04s/it]"
     ]
    },
    {
     "name": "stdout",
     "output_type": "stream",
     "text": [
      "  GSM3394365_Mouse_Liver_SH012.CGfinal: 171 clock CpGs matched.\n"
     ]
    },
    {
     "name": "stderr",
     "output_type": "stream",
     "text": [
      "\r",
      "Parsing GSE120132:  36%|███████▊              | 195/549 [03:37<06:34,  1.11s/it]"
     ]
    },
    {
     "name": "stdout",
     "output_type": "stream",
     "text": [
      "  GSM3394366_Mouse_Liver_SH013.CGfinal: 172 clock CpGs matched.\n"
     ]
    },
    {
     "name": "stderr",
     "output_type": "stream",
     "text": [
      "\r",
      "Parsing GSE120132:  36%|███████▊              | 196/549 [03:38<06:36,  1.12s/it]"
     ]
    },
    {
     "name": "stdout",
     "output_type": "stream",
     "text": [
      "  GSM3394367_Mouse_Liver_SH014.CGfinal: 167 clock CpGs matched.\n"
     ]
    },
    {
     "name": "stderr",
     "output_type": "stream",
     "text": [
      "\r",
      "Parsing GSE120132:  36%|███████▉              | 197/549 [03:39<06:36,  1.13s/it]"
     ]
    },
    {
     "name": "stdout",
     "output_type": "stream",
     "text": [
      "  GSM3394368_Mouse_Liver_SH015.CGfinal: 167 clock CpGs matched.\n"
     ]
    },
    {
     "name": "stderr",
     "output_type": "stream",
     "text": [
      "\r",
      "Parsing GSE120132:  36%|███████▉              | 198/549 [03:40<06:26,  1.10s/it]"
     ]
    },
    {
     "name": "stdout",
     "output_type": "stream",
     "text": [
      "  GSM3394369_Mouse_Liver_SH016.CGfinal: 167 clock CpGs matched.\n"
     ]
    },
    {
     "name": "stderr",
     "output_type": "stream",
     "text": [
      "\r",
      "Parsing GSE120132:  36%|███████▉              | 199/549 [03:41<06:20,  1.09s/it]"
     ]
    },
    {
     "name": "stdout",
     "output_type": "stream",
     "text": [
      "  GSM3394370_Mouse_Liver_SH017.CGfinal: 167 clock CpGs matched.\n"
     ]
    },
    {
     "name": "stderr",
     "output_type": "stream",
     "text": [
      "\r",
      "Parsing GSE120132:  36%|████████              | 200/549 [03:42<06:14,  1.07s/it]"
     ]
    },
    {
     "name": "stdout",
     "output_type": "stream",
     "text": [
      "  GSM3394371_Mouse_Liver_SH018.CGfinal: 170 clock CpGs matched.\n"
     ]
    },
    {
     "name": "stderr",
     "output_type": "stream",
     "text": [
      "\r",
      "Parsing GSE120132:  37%|████████              | 201/549 [03:43<06:25,  1.11s/it]"
     ]
    },
    {
     "name": "stdout",
     "output_type": "stream",
     "text": [
      "  GSM3394372_Mouse_Liver_SH019.CGfinal: 169 clock CpGs matched.\n"
     ]
    },
    {
     "name": "stderr",
     "output_type": "stream",
     "text": [
      "\r",
      "Parsing GSE120132:  37%|████████              | 202/549 [03:44<06:24,  1.11s/it]"
     ]
    },
    {
     "name": "stdout",
     "output_type": "stream",
     "text": [
      "  GSM3394373_Mouse_Liver_SH020.CGfinal: 169 clock CpGs matched.\n"
     ]
    },
    {
     "name": "stderr",
     "output_type": "stream",
     "text": [
      "\r",
      "Parsing GSE120132:  37%|████████▏             | 203/549 [03:46<06:42,  1.16s/it]"
     ]
    },
    {
     "name": "stdout",
     "output_type": "stream",
     "text": [
      "  GSM3394374_Mouse_Liver_SH021.CGfinal: 176 clock CpGs matched.\n"
     ]
    },
    {
     "name": "stderr",
     "output_type": "stream",
     "text": [
      "\r",
      "Parsing GSE120132:  37%|████████▏             | 204/549 [03:47<06:38,  1.16s/it]"
     ]
    },
    {
     "name": "stdout",
     "output_type": "stream",
     "text": [
      "  GSM3394375_Mouse_Liver_SH022.CGfinal: 176 clock CpGs matched.\n"
     ]
    },
    {
     "name": "stderr",
     "output_type": "stream",
     "text": [
      "\r",
      "Parsing GSE120132:  37%|████████▏             | 205/549 [03:48<06:32,  1.14s/it]"
     ]
    },
    {
     "name": "stdout",
     "output_type": "stream",
     "text": [
      "  GSM3394376_Mouse_Liver_SH023.CGfinal: 176 clock CpGs matched.\n"
     ]
    },
    {
     "name": "stderr",
     "output_type": "stream",
     "text": [
      "\r",
      "Parsing GSE120132:  38%|████████▎             | 206/549 [03:49<06:28,  1.13s/it]"
     ]
    },
    {
     "name": "stdout",
     "output_type": "stream",
     "text": [
      "  GSM3394377_Mouse_Liver_SH024.CGfinal: 176 clock CpGs matched.\n"
     ]
    },
    {
     "name": "stderr",
     "output_type": "stream",
     "text": [
      "\r",
      "Parsing GSE120132:  38%|████████▎             | 207/549 [03:50<06:23,  1.12s/it]"
     ]
    },
    {
     "name": "stdout",
     "output_type": "stream",
     "text": [
      "  GSM3394378_Mouse_Liver_SH025.CGfinal: 176 clock CpGs matched.\n"
     ]
    },
    {
     "name": "stderr",
     "output_type": "stream",
     "text": [
      "\r",
      "Parsing GSE120132:  38%|████████▎             | 208/549 [03:51<06:25,  1.13s/it]"
     ]
    },
    {
     "name": "stdout",
     "output_type": "stream",
     "text": [
      "  GSM3394379_Mouse_Liver_SH026.CGfinal: 176 clock CpGs matched.\n"
     ]
    },
    {
     "name": "stderr",
     "output_type": "stream",
     "text": [
      "\r",
      "Parsing GSE120132:  38%|████████▍             | 209/549 [03:52<06:18,  1.11s/it]"
     ]
    },
    {
     "name": "stdout",
     "output_type": "stream",
     "text": [
      "  GSM3394380_Mouse_Liver_SH027.CGfinal: 176 clock CpGs matched.\n"
     ]
    },
    {
     "name": "stderr",
     "output_type": "stream",
     "text": [
      "\r",
      "Parsing GSE120132:  38%|████████▍             | 210/549 [03:53<06:21,  1.13s/it]"
     ]
    },
    {
     "name": "stdout",
     "output_type": "stream",
     "text": [
      "  GSM3394381_Mouse_Liver_SH028.CGfinal: 176 clock CpGs matched.\n"
     ]
    },
    {
     "name": "stderr",
     "output_type": "stream",
     "text": [
      "\r",
      "Parsing GSE120132:  38%|████████▍             | 211/549 [03:55<06:21,  1.13s/it]"
     ]
    },
    {
     "name": "stdout",
     "output_type": "stream",
     "text": [
      "  GSM3394382_Mouse_Liver_SH029.CGfinal: 176 clock CpGs matched.\n"
     ]
    },
    {
     "name": "stderr",
     "output_type": "stream",
     "text": [
      "\r",
      "Parsing GSE120132:  39%|████████▍             | 212/549 [03:56<06:20,  1.13s/it]"
     ]
    },
    {
     "name": "stdout",
     "output_type": "stream",
     "text": [
      "  GSM3394383_Mouse_Liver_SH030.CGfinal: 176 clock CpGs matched.\n"
     ]
    },
    {
     "name": "stderr",
     "output_type": "stream",
     "text": [
      "\r",
      "Parsing GSE120132:  39%|████████▌             | 213/549 [03:57<06:17,  1.12s/it]"
     ]
    },
    {
     "name": "stdout",
     "output_type": "stream",
     "text": [
      "  GSM3394384_Mouse_Liver_SH031.CGfinal: 170 clock CpGs matched.\n"
     ]
    },
    {
     "name": "stderr",
     "output_type": "stream",
     "text": [
      "\r",
      "Parsing GSE120132:  39%|████████▌             | 214/549 [03:58<06:15,  1.12s/it]"
     ]
    },
    {
     "name": "stdout",
     "output_type": "stream",
     "text": [
      "  GSM3394385_Mouse_Liver_SH032.CGfinal: 171 clock CpGs matched.\n"
     ]
    },
    {
     "name": "stderr",
     "output_type": "stream",
     "text": [
      "\r",
      "Parsing GSE120132:  39%|████████▌             | 215/549 [03:59<06:16,  1.13s/it]"
     ]
    },
    {
     "name": "stdout",
     "output_type": "stream",
     "text": [
      "  GSM3394386_Mouse_Liver_SH033.CGfinal: 170 clock CpGs matched.\n"
     ]
    },
    {
     "name": "stderr",
     "output_type": "stream",
     "text": [
      "\r",
      "Parsing GSE120132:  39%|████████▋             | 216/549 [04:00<06:00,  1.08s/it]"
     ]
    },
    {
     "name": "stdout",
     "output_type": "stream",
     "text": [
      "  GSM3394387_Mouse_Liver_SH034.CGfinal: 169 clock CpGs matched.\n"
     ]
    },
    {
     "name": "stderr",
     "output_type": "stream",
     "text": [
      "\r",
      "Parsing GSE120132:  40%|████████▋             | 217/549 [04:01<05:51,  1.06s/it]"
     ]
    },
    {
     "name": "stdout",
     "output_type": "stream",
     "text": [
      "  GSM3394388_Mouse_Liver_SH035.CGfinal: 169 clock CpGs matched.\n"
     ]
    },
    {
     "name": "stderr",
     "output_type": "stream",
     "text": [
      "\r",
      "Parsing GSE120132:  40%|████████▋             | 218/549 [04:02<05:42,  1.04s/it]"
     ]
    },
    {
     "name": "stdout",
     "output_type": "stream",
     "text": [
      "  GSM3394389_Mouse_Liver_SH036.CGfinal: 171 clock CpGs matched.\n"
     ]
    },
    {
     "name": "stderr",
     "output_type": "stream",
     "text": [
      "\r",
      "Parsing GSE120132:  40%|████████▊             | 219/549 [04:03<05:41,  1.03s/it]"
     ]
    },
    {
     "name": "stdout",
     "output_type": "stream",
     "text": [
      "  GSM3394390_Mouse_Liver_SH037.CGfinal: 167 clock CpGs matched.\n"
     ]
    },
    {
     "name": "stderr",
     "output_type": "stream",
     "text": [
      "\r",
      "Parsing GSE120132:  40%|████████▊             | 220/549 [04:04<05:38,  1.03s/it]"
     ]
    },
    {
     "name": "stdout",
     "output_type": "stream",
     "text": [
      "  GSM3394391_Mouse_Liver_SH038.CGfinal: 167 clock CpGs matched.\n"
     ]
    },
    {
     "name": "stderr",
     "output_type": "stream",
     "text": [
      "\r",
      "Parsing GSE120132:  40%|████████▊             | 221/549 [04:05<05:35,  1.02s/it]"
     ]
    },
    {
     "name": "stdout",
     "output_type": "stream",
     "text": [
      "  GSM3394392_Mouse_Liver_SH039.CGfinal: 167 clock CpGs matched.\n"
     ]
    },
    {
     "name": "stderr",
     "output_type": "stream",
     "text": [
      "\r",
      "Parsing GSE120132:  40%|████████▉             | 222/549 [04:06<05:33,  1.02s/it]"
     ]
    },
    {
     "name": "stdout",
     "output_type": "stream",
     "text": [
      "  GSM3394393_Mouse_Liver_SH040.CGfinal: 170 clock CpGs matched.\n"
     ]
    },
    {
     "name": "stderr",
     "output_type": "stream",
     "text": [
      "\r",
      "Parsing GSE120132:  41%|████████▉             | 223/549 [04:07<05:29,  1.01s/it]"
     ]
    },
    {
     "name": "stdout",
     "output_type": "stream",
     "text": [
      "  GSM3394394_Mouse_Liver_SH041.CGfinal: 173 clock CpGs matched.\n"
     ]
    },
    {
     "name": "stderr",
     "output_type": "stream",
     "text": [
      "\r",
      "Parsing GSE120132:  41%|████████▉             | 224/549 [04:08<05:33,  1.03s/it]"
     ]
    },
    {
     "name": "stdout",
     "output_type": "stream",
     "text": [
      "  GSM3394395_Mouse_Liver_SH042.CGfinal: 173 clock CpGs matched.\n"
     ]
    },
    {
     "name": "stderr",
     "output_type": "stream",
     "text": [
      "\r",
      "Parsing GSE120132:  41%|█████████             | 225/549 [04:09<05:47,  1.07s/it]"
     ]
    },
    {
     "name": "stdout",
     "output_type": "stream",
     "text": [
      "  GSM3394396_Mouse_Liver_SH043.CGfinal: 176 clock CpGs matched.\n"
     ]
    },
    {
     "name": "stderr",
     "output_type": "stream",
     "text": [
      "\r",
      "Parsing GSE120132:  41%|█████████             | 226/549 [04:11<05:56,  1.10s/it]"
     ]
    },
    {
     "name": "stdout",
     "output_type": "stream",
     "text": [
      "  GSM3394397_Mouse_Liver_SH044.CGfinal: 176 clock CpGs matched.\n"
     ]
    },
    {
     "name": "stderr",
     "output_type": "stream",
     "text": [
      "\r",
      "Parsing GSE120132:  41%|█████████             | 227/549 [04:12<06:10,  1.15s/it]"
     ]
    },
    {
     "name": "stdout",
     "output_type": "stream",
     "text": [
      "  GSM3394398_Mouse_Liver_SH045.CGfinal: 176 clock CpGs matched.\n"
     ]
    },
    {
     "name": "stderr",
     "output_type": "stream",
     "text": [
      "\r",
      "Parsing GSE120132:  42%|█████████▏            | 228/549 [04:13<06:07,  1.14s/it]"
     ]
    },
    {
     "name": "stdout",
     "output_type": "stream",
     "text": [
      "  GSM3394399_Mouse_Liver_SH046.CGfinal: 175 clock CpGs matched.\n"
     ]
    },
    {
     "name": "stderr",
     "output_type": "stream",
     "text": [
      "\r",
      "Parsing GSE120132:  42%|█████████▏            | 229/549 [04:14<06:04,  1.14s/it]"
     ]
    },
    {
     "name": "stdout",
     "output_type": "stream",
     "text": [
      "  GSM3394400_Mouse_Liver_SH047.CGfinal: 175 clock CpGs matched.\n"
     ]
    },
    {
     "name": "stderr",
     "output_type": "stream",
     "text": [
      "\r",
      "Parsing GSE120132:  42%|█████████▏            | 230/549 [04:15<05:56,  1.12s/it]"
     ]
    },
    {
     "name": "stdout",
     "output_type": "stream",
     "text": [
      "  GSM3394401_Mouse_Liver_SH048.CGfinal: 175 clock CpGs matched.\n"
     ]
    },
    {
     "name": "stderr",
     "output_type": "stream",
     "text": [
      "\r",
      "Parsing GSE120132:  42%|█████████▎            | 231/549 [04:16<05:58,  1.13s/it]"
     ]
    },
    {
     "name": "stdout",
     "output_type": "stream",
     "text": [
      "  GSM3394402_Mouse_Liver_SH049.CGfinal: 176 clock CpGs matched.\n"
     ]
    },
    {
     "name": "stderr",
     "output_type": "stream",
     "text": [
      "\r",
      "Parsing GSE120132:  42%|█████████▎            | 232/549 [04:17<06:04,  1.15s/it]"
     ]
    },
    {
     "name": "stdout",
     "output_type": "stream",
     "text": [
      "  GSM3394403_Mouse_Liver_SH050.CGfinal: 176 clock CpGs matched.\n"
     ]
    },
    {
     "name": "stderr",
     "output_type": "stream",
     "text": [
      "\r",
      "Parsing GSE120132:  42%|█████████▎            | 233/549 [04:18<05:51,  1.11s/it]"
     ]
    },
    {
     "name": "stdout",
     "output_type": "stream",
     "text": [
      "  GSM3394404_Mouse_Liver_SH051.CGfinal: 172 clock CpGs matched.\n"
     ]
    },
    {
     "name": "stderr",
     "output_type": "stream",
     "text": [
      "\r",
      "Parsing GSE120132:  43%|█████████▍            | 234/549 [04:19<05:34,  1.06s/it]"
     ]
    },
    {
     "name": "stdout",
     "output_type": "stream",
     "text": [
      "  GSM3394405_Mouse_Liver_SH052.CGfinal: 171 clock CpGs matched.\n"
     ]
    },
    {
     "name": "stderr",
     "output_type": "stream",
     "text": [
      "\r",
      "Parsing GSE120132:  43%|█████████▍            | 235/549 [04:20<05:35,  1.07s/it]"
     ]
    },
    {
     "name": "stdout",
     "output_type": "stream",
     "text": [
      "  GSM3394406_Mouse_Liver_SH053.CGfinal: 170 clock CpGs matched.\n"
     ]
    },
    {
     "name": "stderr",
     "output_type": "stream",
     "text": [
      "\r",
      "Parsing GSE120132:  43%|█████████▍            | 236/549 [04:21<05:20,  1.02s/it]"
     ]
    },
    {
     "name": "stdout",
     "output_type": "stream",
     "text": [
      "  GSM3394407_Mouse_Liver_SH054.CGfinal: 166 clock CpGs matched.\n"
     ]
    },
    {
     "name": "stderr",
     "output_type": "stream",
     "text": [
      "\r",
      "Parsing GSE120132:  43%|█████████▍            | 237/549 [04:22<05:23,  1.04s/it]"
     ]
    },
    {
     "name": "stdout",
     "output_type": "stream",
     "text": [
      "  GSM3394408_Mouse_Liver_SH055.CGfinal: 168 clock CpGs matched.\n"
     ]
    },
    {
     "name": "stderr",
     "output_type": "stream",
     "text": [
      "\r",
      "Parsing GSE120132:  43%|█████████▌            | 238/549 [04:24<05:40,  1.10s/it]"
     ]
    },
    {
     "name": "stdout",
     "output_type": "stream",
     "text": [
      "  GSM3394409_Mouse_Liver_SH056.CGfinal: 174 clock CpGs matched.\n"
     ]
    },
    {
     "name": "stderr",
     "output_type": "stream",
     "text": [
      "\r",
      "Parsing GSE120132:  44%|█████████▌            | 239/549 [04:25<05:33,  1.07s/it]"
     ]
    },
    {
     "name": "stdout",
     "output_type": "stream",
     "text": [
      "  GSM3394410_Mouse_Liver_SH057.CGfinal: 167 clock CpGs matched.\n"
     ]
    },
    {
     "name": "stderr",
     "output_type": "stream",
     "text": [
      "\r",
      "Parsing GSE120132:  44%|█████████▌            | 240/549 [04:26<05:23,  1.05s/it]"
     ]
    },
    {
     "name": "stdout",
     "output_type": "stream",
     "text": [
      "  GSM3394411_Mouse_Liver_SH058.CGfinal: 170 clock CpGs matched.\n"
     ]
    },
    {
     "name": "stderr",
     "output_type": "stream",
     "text": [
      "\r",
      "Parsing GSE120132:  44%|█████████▋            | 241/549 [04:27<05:20,  1.04s/it]"
     ]
    },
    {
     "name": "stdout",
     "output_type": "stream",
     "text": [
      "  GSM3394412_Mouse_Liver_SH059.CGfinal: 166 clock CpGs matched.\n"
     ]
    },
    {
     "name": "stderr",
     "output_type": "stream",
     "text": [
      "\r",
      "Parsing GSE120132:  44%|█████████▋            | 242/549 [04:28<05:02,  1.02it/s]"
     ]
    },
    {
     "name": "stdout",
     "output_type": "stream",
     "text": [
      "  GSM3394413_Mouse_Liver_SH060.CGfinal: 166 clock CpGs matched.\n"
     ]
    },
    {
     "name": "stderr",
     "output_type": "stream",
     "text": [
      "\r",
      "Parsing GSE120132:  44%|█████████▋            | 243/549 [04:29<05:05,  1.00it/s]"
     ]
    },
    {
     "name": "stdout",
     "output_type": "stream",
     "text": [
      "  GSM3394414_Mouse_Lung_SH001.CGfinal: 176 clock CpGs matched.\n"
     ]
    },
    {
     "name": "stderr",
     "output_type": "stream",
     "text": [
      "\r",
      "Parsing GSE120132:  44%|█████████▊            | 244/549 [04:30<05:08,  1.01s/it]"
     ]
    },
    {
     "name": "stdout",
     "output_type": "stream",
     "text": [
      "  GSM3394415_Mouse_Lung_SH002.CGfinal: 176 clock CpGs matched.\n"
     ]
    },
    {
     "name": "stderr",
     "output_type": "stream",
     "text": [
      "\r",
      "Parsing GSE120132:  45%|█████████▊            | 245/549 [04:31<05:07,  1.01s/it]"
     ]
    },
    {
     "name": "stdout",
     "output_type": "stream",
     "text": [
      "  GSM3394416_Mouse_Lung_SH003.CGfinal: 176 clock CpGs matched.\n"
     ]
    },
    {
     "name": "stderr",
     "output_type": "stream",
     "text": [
      "\r",
      "Parsing GSE120132:  45%|█████████▊            | 246/549 [04:32<05:04,  1.01s/it]"
     ]
    },
    {
     "name": "stdout",
     "output_type": "stream",
     "text": [
      "  GSM3394417_Mouse_Lung_SH004.CGfinal: 176 clock CpGs matched.\n"
     ]
    },
    {
     "name": "stderr",
     "output_type": "stream",
     "text": [
      "\r",
      "Parsing GSE120132:  45%|█████████▉            | 247/549 [04:33<04:51,  1.04it/s]"
     ]
    },
    {
     "name": "stdout",
     "output_type": "stream",
     "text": [
      "  GSM3394418_Mouse_Lung_SH005.CGfinal: 176 clock CpGs matched.\n"
     ]
    },
    {
     "name": "stderr",
     "output_type": "stream",
     "text": [
      "\r",
      "Parsing GSE120132:  45%|█████████▉            | 248/549 [04:34<04:53,  1.02it/s]"
     ]
    },
    {
     "name": "stdout",
     "output_type": "stream",
     "text": [
      "  GSM3394419_Mouse_Lung_SH006.CGfinal: 176 clock CpGs matched.\n"
     ]
    },
    {
     "name": "stderr",
     "output_type": "stream",
     "text": [
      "\r",
      "Parsing GSE120132:  45%|█████████▉            | 249/549 [04:35<04:57,  1.01it/s]"
     ]
    },
    {
     "name": "stdout",
     "output_type": "stream",
     "text": [
      "  GSM3394420_Mouse_Lung_SH007.CGfinal: 176 clock CpGs matched.\n"
     ]
    },
    {
     "name": "stderr",
     "output_type": "stream",
     "text": [
      "\r",
      "Parsing GSE120132:  46%|██████████            | 250/549 [04:36<04:59,  1.00s/it]"
     ]
    },
    {
     "name": "stdout",
     "output_type": "stream",
     "text": [
      "  GSM3394421_Mouse_Lung_SH008.CGfinal: 176 clock CpGs matched.\n"
     ]
    },
    {
     "name": "stderr",
     "output_type": "stream",
     "text": [
      "\r",
      "Parsing GSE120132:  46%|██████████            | 251/549 [04:37<04:55,  1.01it/s]"
     ]
    },
    {
     "name": "stdout",
     "output_type": "stream",
     "text": [
      "  GSM3394422_Mouse_Lung_SH009.CGfinal: 176 clock CpGs matched.\n"
     ]
    },
    {
     "name": "stderr",
     "output_type": "stream",
     "text": [
      "\r",
      "Parsing GSE120132:  46%|██████████            | 252/549 [04:38<05:00,  1.01s/it]"
     ]
    },
    {
     "name": "stdout",
     "output_type": "stream",
     "text": [
      "  GSM3394423_Mouse_Lung_SH010.CGfinal: 176 clock CpGs matched.\n"
     ]
    },
    {
     "name": "stderr",
     "output_type": "stream",
     "text": [
      "\r",
      "Parsing GSE120132:  46%|██████████▏           | 253/549 [04:39<04:53,  1.01it/s]"
     ]
    },
    {
     "name": "stdout",
     "output_type": "stream",
     "text": [
      "  GSM3394424_Mouse_Lung_SH011.CGfinal: 169 clock CpGs matched.\n"
     ]
    },
    {
     "name": "stderr",
     "output_type": "stream",
     "text": [
      "\r",
      "Parsing GSE120132:  46%|██████████▏           | 254/549 [04:40<04:49,  1.02it/s]"
     ]
    },
    {
     "name": "stdout",
     "output_type": "stream",
     "text": [
      "  GSM3394425_Mouse_Lung_SH012.CGfinal: 172 clock CpGs matched.\n"
     ]
    },
    {
     "name": "stderr",
     "output_type": "stream",
     "text": [
      "\r",
      "Parsing GSE120132:  46%|██████████▏           | 255/549 [04:40<04:46,  1.03it/s]"
     ]
    },
    {
     "name": "stdout",
     "output_type": "stream",
     "text": [
      "  GSM3394426_Mouse_Lung_SH013.CGfinal: 169 clock CpGs matched.\n"
     ]
    },
    {
     "name": "stderr",
     "output_type": "stream",
     "text": [
      "\r",
      "Parsing GSE120132:  47%|██████████▎           | 256/549 [04:41<04:38,  1.05it/s]"
     ]
    },
    {
     "name": "stdout",
     "output_type": "stream",
     "text": [
      "  GSM3394427_Mouse_Lung_SH014.CGfinal: 168 clock CpGs matched.\n"
     ]
    },
    {
     "name": "stderr",
     "output_type": "stream",
     "text": [
      "\r",
      "Parsing GSE120132:  47%|██████████▎           | 257/549 [04:42<04:38,  1.05it/s]"
     ]
    },
    {
     "name": "stdout",
     "output_type": "stream",
     "text": [
      "  GSM3394428_Mouse_Lung_SH015.CGfinal: 169 clock CpGs matched.\n"
     ]
    },
    {
     "name": "stderr",
     "output_type": "stream",
     "text": [
      "\r",
      "Parsing GSE120132:  47%|██████████▎           | 258/549 [04:43<04:39,  1.04it/s]"
     ]
    },
    {
     "name": "stdout",
     "output_type": "stream",
     "text": [
      "  GSM3394429_Mouse_Lung_SH016.CGfinal: 169 clock CpGs matched.\n"
     ]
    },
    {
     "name": "stderr",
     "output_type": "stream",
     "text": [
      "\r",
      "Parsing GSE120132:  47%|██████████▍           | 259/549 [04:44<04:43,  1.02it/s]"
     ]
    },
    {
     "name": "stdout",
     "output_type": "stream",
     "text": [
      "  GSM3394430_Mouse_Lung_SH017.CGfinal: 171 clock CpGs matched.\n"
     ]
    },
    {
     "name": "stderr",
     "output_type": "stream",
     "text": [
      "\r",
      "Parsing GSE120132:  47%|██████████▍           | 260/549 [04:45<04:44,  1.02it/s]"
     ]
    },
    {
     "name": "stdout",
     "output_type": "stream",
     "text": [
      "  GSM3394431_Mouse_Lung_SH018.CGfinal: 171 clock CpGs matched.\n"
     ]
    },
    {
     "name": "stderr",
     "output_type": "stream",
     "text": [
      "\r",
      "Parsing GSE120132:  48%|██████████▍           | 261/549 [04:46<04:45,  1.01it/s]"
     ]
    },
    {
     "name": "stdout",
     "output_type": "stream",
     "text": [
      "  GSM3394432_Mouse_Lung_SH019.CGfinal: 169 clock CpGs matched.\n"
     ]
    },
    {
     "name": "stderr",
     "output_type": "stream",
     "text": [
      "\r",
      "Parsing GSE120132:  48%|██████████▍           | 262/549 [04:47<04:42,  1.02it/s]"
     ]
    },
    {
     "name": "stdout",
     "output_type": "stream",
     "text": [
      "  GSM3394433_Mouse_Lung_SH020.CGfinal: 164 clock CpGs matched.\n"
     ]
    },
    {
     "name": "stderr",
     "output_type": "stream",
     "text": [
      "\r",
      "Parsing GSE120132:  48%|██████████▌           | 263/549 [04:48<04:37,  1.03it/s]"
     ]
    },
    {
     "name": "stdout",
     "output_type": "stream",
     "text": [
      "  GSM3394434_Mouse_Lung_SH021.CGfinal: 176 clock CpGs matched.\n"
     ]
    },
    {
     "name": "stderr",
     "output_type": "stream",
     "text": [
      "\r",
      "Parsing GSE120132:  48%|██████████▌           | 264/549 [04:49<04:40,  1.02it/s]"
     ]
    },
    {
     "name": "stdout",
     "output_type": "stream",
     "text": [
      "  GSM3394435_Mouse_Lung_SH022.CGfinal: 173 clock CpGs matched.\n"
     ]
    },
    {
     "name": "stderr",
     "output_type": "stream",
     "text": [
      "\r",
      "Parsing GSE120132:  48%|██████████▌           | 265/549 [04:50<04:41,  1.01it/s]"
     ]
    },
    {
     "name": "stdout",
     "output_type": "stream",
     "text": [
      "  GSM3394436_Mouse_Lung_SH023.CGfinal: 176 clock CpGs matched.\n"
     ]
    },
    {
     "name": "stderr",
     "output_type": "stream",
     "text": [
      "\r",
      "Parsing GSE120132:  48%|██████████▋           | 266/549 [04:51<04:45,  1.01s/it]"
     ]
    },
    {
     "name": "stdout",
     "output_type": "stream",
     "text": [
      "  GSM3394437_Mouse_Lung_SH024.CGfinal: 176 clock CpGs matched.\n"
     ]
    },
    {
     "name": "stderr",
     "output_type": "stream",
     "text": [
      "\r",
      "Parsing GSE120132:  49%|██████████▋           | 267/549 [04:52<04:43,  1.00s/it]"
     ]
    },
    {
     "name": "stdout",
     "output_type": "stream",
     "text": [
      "  GSM3394438_Mouse_Lung_SH025.CGfinal: 176 clock CpGs matched.\n"
     ]
    },
    {
     "name": "stderr",
     "output_type": "stream",
     "text": [
      "\r",
      "Parsing GSE120132:  49%|██████████▋           | 268/549 [04:53<04:43,  1.01s/it]"
     ]
    },
    {
     "name": "stdout",
     "output_type": "stream",
     "text": [
      "  GSM3394439_Mouse_Lung_SH026.CGfinal: 176 clock CpGs matched.\n"
     ]
    },
    {
     "name": "stderr",
     "output_type": "stream",
     "text": [
      "\r",
      "Parsing GSE120132:  49%|██████████▊           | 269/549 [04:54<04:49,  1.03s/it]"
     ]
    },
    {
     "name": "stdout",
     "output_type": "stream",
     "text": [
      "  GSM3394440_Mouse_Lung_SH027.CGfinal: 174 clock CpGs matched.\n"
     ]
    },
    {
     "name": "stderr",
     "output_type": "stream",
     "text": [
      "\r",
      "Parsing GSE120132:  49%|██████████▊           | 270/549 [04:55<04:46,  1.03s/it]"
     ]
    },
    {
     "name": "stdout",
     "output_type": "stream",
     "text": [
      "  GSM3394441_Mouse_Lung_SH028.CGfinal: 172 clock CpGs matched.\n"
     ]
    },
    {
     "name": "stderr",
     "output_type": "stream",
     "text": [
      "\r",
      "Parsing GSE120132:  49%|██████████▊           | 271/549 [04:57<04:48,  1.04s/it]"
     ]
    },
    {
     "name": "stdout",
     "output_type": "stream",
     "text": [
      "  GSM3394442_Mouse_Lung_SH029.CGfinal: 176 clock CpGs matched.\n"
     ]
    },
    {
     "name": "stderr",
     "output_type": "stream",
     "text": [
      "\r",
      "Parsing GSE120132:  50%|██████████▉           | 272/549 [04:58<04:49,  1.05s/it]"
     ]
    },
    {
     "name": "stdout",
     "output_type": "stream",
     "text": [
      "  GSM3394443_Mouse_Lung_SH030.CGfinal: 176 clock CpGs matched.\n"
     ]
    },
    {
     "name": "stderr",
     "output_type": "stream",
     "text": [
      "\r",
      "Parsing GSE120132:  50%|██████████▉           | 273/549 [04:59<05:01,  1.09s/it]"
     ]
    },
    {
     "name": "stdout",
     "output_type": "stream",
     "text": [
      "  GSM3394444_Mouse_Lung_SH031.CGfinal: 169 clock CpGs matched.\n"
     ]
    },
    {
     "name": "stderr",
     "output_type": "stream",
     "text": [
      "\r",
      "Parsing GSE120132:  50%|██████████▉           | 274/549 [05:00<04:50,  1.06s/it]"
     ]
    },
    {
     "name": "stdout",
     "output_type": "stream",
     "text": [
      "  GSM3394445_Mouse_Lung_SH032.CGfinal: 167 clock CpGs matched.\n"
     ]
    },
    {
     "name": "stderr",
     "output_type": "stream",
     "text": [
      "\r",
      "Parsing GSE120132:  50%|███████████           | 275/549 [05:01<04:46,  1.05s/it]"
     ]
    },
    {
     "name": "stdout",
     "output_type": "stream",
     "text": [
      "  GSM3394446_Mouse_Lung_SH033.CGfinal: 168 clock CpGs matched.\n"
     ]
    },
    {
     "name": "stderr",
     "output_type": "stream",
     "text": [
      "\r",
      "Parsing GSE120132:  50%|███████████           | 276/549 [05:02<04:44,  1.04s/it]"
     ]
    },
    {
     "name": "stdout",
     "output_type": "stream",
     "text": [
      "  GSM3394447_Mouse_Lung_SH034.CGfinal: 165 clock CpGs matched.\n"
     ]
    },
    {
     "name": "stderr",
     "output_type": "stream",
     "text": [
      "\r",
      "Parsing GSE120132:  50%|███████████           | 277/549 [05:03<04:42,  1.04s/it]"
     ]
    },
    {
     "name": "stdout",
     "output_type": "stream",
     "text": [
      "  GSM3394448_Mouse_Lung_SH035.CGfinal: 168 clock CpGs matched.\n"
     ]
    },
    {
     "name": "stderr",
     "output_type": "stream",
     "text": [
      "\r",
      "Parsing GSE120132:  51%|███████████▏          | 278/549 [05:04<04:38,  1.03s/it]"
     ]
    },
    {
     "name": "stdout",
     "output_type": "stream",
     "text": [
      "  GSM3394449_Mouse_Lung_SH036.CGfinal: 169 clock CpGs matched.\n"
     ]
    },
    {
     "name": "stderr",
     "output_type": "stream",
     "text": [
      "\r",
      "Parsing GSE120132:  51%|███████████▏          | 279/549 [05:05<04:24,  1.02it/s]"
     ]
    },
    {
     "name": "stdout",
     "output_type": "stream",
     "text": [
      "  GSM3394450_Mouse_Lung_SH037.CGfinal: 165 clock CpGs matched.\n"
     ]
    },
    {
     "name": "stderr",
     "output_type": "stream",
     "text": [
      "\r",
      "Parsing GSE120132:  51%|███████████▏          | 280/549 [05:06<04:24,  1.02it/s]"
     ]
    },
    {
     "name": "stdout",
     "output_type": "stream",
     "text": [
      "  GSM3394451_Mouse_Lung_SH038.CGfinal: 166 clock CpGs matched.\n"
     ]
    },
    {
     "name": "stderr",
     "output_type": "stream",
     "text": [
      "\r",
      "Parsing GSE120132:  51%|███████████▎          | 281/549 [05:07<04:20,  1.03it/s]"
     ]
    },
    {
     "name": "stdout",
     "output_type": "stream",
     "text": [
      "  GSM3394452_Mouse_Lung_SH039.CGfinal: 168 clock CpGs matched.\n"
     ]
    },
    {
     "name": "stderr",
     "output_type": "stream",
     "text": [
      "\r",
      "Parsing GSE120132:  51%|███████████▎          | 282/549 [05:08<04:19,  1.03it/s]"
     ]
    },
    {
     "name": "stdout",
     "output_type": "stream",
     "text": [
      "  GSM3394453_Mouse_Lung_SH040.CGfinal: 166 clock CpGs matched.\n"
     ]
    },
    {
     "name": "stderr",
     "output_type": "stream",
     "text": [
      "\r",
      "Parsing GSE120132:  52%|███████████▎          | 283/549 [05:09<04:21,  1.02it/s]"
     ]
    },
    {
     "name": "stdout",
     "output_type": "stream",
     "text": [
      "  GSM3394454_Mouse_Lung_SH042.CGfinal: 175 clock CpGs matched.\n"
     ]
    },
    {
     "name": "stderr",
     "output_type": "stream",
     "text": [
      "\r",
      "Parsing GSE120132:  52%|███████████▍          | 284/549 [05:10<04:28,  1.01s/it]"
     ]
    },
    {
     "name": "stdout",
     "output_type": "stream",
     "text": [
      "  GSM3394455_Mouse_Lung_SH045.CGfinal: 176 clock CpGs matched.\n"
     ]
    },
    {
     "name": "stderr",
     "output_type": "stream",
     "text": [
      "\r",
      "Parsing GSE120132:  52%|███████████▍          | 285/549 [05:11<04:29,  1.02s/it]"
     ]
    },
    {
     "name": "stdout",
     "output_type": "stream",
     "text": [
      "  GSM3394456_Mouse_Lung_SH046.CGfinal: 176 clock CpGs matched.\n"
     ]
    },
    {
     "name": "stderr",
     "output_type": "stream",
     "text": [
      "\r",
      "Parsing GSE120132:  52%|███████████▍          | 286/549 [05:12<04:36,  1.05s/it]"
     ]
    },
    {
     "name": "stdout",
     "output_type": "stream",
     "text": [
      "  GSM3394457_Mouse_Lung_SH047.CGfinal: 176 clock CpGs matched.\n"
     ]
    },
    {
     "name": "stderr",
     "output_type": "stream",
     "text": [
      "\r",
      "Parsing GSE120132:  52%|███████████▌          | 287/549 [05:13<04:42,  1.08s/it]"
     ]
    },
    {
     "name": "stdout",
     "output_type": "stream",
     "text": [
      "  GSM3394458_Mouse_Lung_SH048.CGfinal: 174 clock CpGs matched.\n"
     ]
    },
    {
     "name": "stderr",
     "output_type": "stream",
     "text": [
      "\r",
      "Parsing GSE120132:  52%|███████████▌          | 288/549 [05:14<04:44,  1.09s/it]"
     ]
    },
    {
     "name": "stdout",
     "output_type": "stream",
     "text": [
      "  GSM3394459_Mouse_Lung_SH049.CGfinal: 176 clock CpGs matched.\n"
     ]
    },
    {
     "name": "stderr",
     "output_type": "stream",
     "text": [
      "\r",
      "Parsing GSE120132:  53%|███████████▌          | 289/549 [05:15<04:41,  1.08s/it]"
     ]
    },
    {
     "name": "stdout",
     "output_type": "stream",
     "text": [
      "  GSM3394460_Mouse_Lung_SH050.CGfinal: 176 clock CpGs matched.\n"
     ]
    },
    {
     "name": "stderr",
     "output_type": "stream",
     "text": [
      "\r",
      "Parsing GSE120132:  53%|███████████▌          | 290/549 [05:16<04:35,  1.06s/it]"
     ]
    },
    {
     "name": "stdout",
     "output_type": "stream",
     "text": [
      "  GSM3394461_Mouse_Lung_SH051.CGfinal: 169 clock CpGs matched.\n"
     ]
    },
    {
     "name": "stderr",
     "output_type": "stream",
     "text": [
      "\r",
      "Parsing GSE120132:  53%|███████████▋          | 291/549 [05:17<04:24,  1.03s/it]"
     ]
    },
    {
     "name": "stdout",
     "output_type": "stream",
     "text": [
      "  GSM3394462_Mouse_Lung_SH052.CGfinal: 163 clock CpGs matched.\n"
     ]
    },
    {
     "name": "stderr",
     "output_type": "stream",
     "text": [
      "\r",
      "Parsing GSE120132:  53%|███████████▋          | 292/549 [05:18<04:10,  1.03it/s]"
     ]
    },
    {
     "name": "stdout",
     "output_type": "stream",
     "text": [
      "  GSM3394463_Mouse_Lung_SH053.CGfinal: 166 clock CpGs matched.\n"
     ]
    },
    {
     "name": "stderr",
     "output_type": "stream",
     "text": [
      "\r",
      "Parsing GSE120132:  53%|███████████▋          | 293/549 [05:19<04:12,  1.01it/s]"
     ]
    },
    {
     "name": "stdout",
     "output_type": "stream",
     "text": [
      "  GSM3394464_Mouse_Lung_SH054.CGfinal: 164 clock CpGs matched.\n"
     ]
    },
    {
     "name": "stderr",
     "output_type": "stream",
     "text": [
      "\r",
      "Parsing GSE120132:  54%|███████████▊          | 294/549 [05:20<04:09,  1.02it/s]"
     ]
    },
    {
     "name": "stdout",
     "output_type": "stream",
     "text": [
      "  GSM3394465_Mouse_Lung_SH055.CGfinal: 167 clock CpGs matched.\n"
     ]
    },
    {
     "name": "stderr",
     "output_type": "stream",
     "text": [
      "\r",
      "Parsing GSE120132:  54%|███████████▊          | 295/549 [05:21<04:07,  1.03it/s]"
     ]
    },
    {
     "name": "stdout",
     "output_type": "stream",
     "text": [
      "  GSM3394466_Mouse_Lung_SH056.CGfinal: 163 clock CpGs matched.\n"
     ]
    },
    {
     "name": "stderr",
     "output_type": "stream",
     "text": [
      "\r",
      "Parsing GSE120132:  54%|███████████▊          | 296/549 [05:22<04:14,  1.00s/it]"
     ]
    },
    {
     "name": "stdout",
     "output_type": "stream",
     "text": [
      "  GSM3394467_Mouse_Lung_SH057.CGfinal: 168 clock CpGs matched.\n"
     ]
    },
    {
     "name": "stderr",
     "output_type": "stream",
     "text": [
      "\r",
      "Parsing GSE120132:  54%|███████████▉          | 297/549 [05:23<04:17,  1.02s/it]"
     ]
    },
    {
     "name": "stdout",
     "output_type": "stream",
     "text": [
      "  GSM3394468_Mouse_Lung_SH058.CGfinal: 166 clock CpGs matched.\n"
     ]
    },
    {
     "name": "stderr",
     "output_type": "stream",
     "text": [
      "\r",
      "Parsing GSE120132:  54%|███████████▉          | 298/549 [05:24<04:25,  1.06s/it]"
     ]
    },
    {
     "name": "stdout",
     "output_type": "stream",
     "text": [
      "  GSM3394469_Mouse_Lung_SH059.CGfinal: 167 clock CpGs matched.\n"
     ]
    },
    {
     "name": "stderr",
     "output_type": "stream",
     "text": [
      "\r",
      "Parsing GSE120132:  54%|███████████▉          | 299/549 [05:25<04:36,  1.10s/it]"
     ]
    },
    {
     "name": "stdout",
     "output_type": "stream",
     "text": [
      "  GSM3394470_Mouse_Lung_SH060.CGfinal: 168 clock CpGs matched.\n"
     ]
    },
    {
     "name": "stderr",
     "output_type": "stream",
     "text": [
      "\r",
      "Parsing GSE120132:  55%|████████████          | 300/549 [05:26<04:26,  1.07s/it]"
     ]
    },
    {
     "name": "stdout",
     "output_type": "stream",
     "text": [
      "  GSM3394471_Mouse_Muscle_SH001.CGfinal: 176 clock CpGs matched.\n"
     ]
    },
    {
     "name": "stderr",
     "output_type": "stream",
     "text": [
      "\r",
      "Parsing GSE120132:  55%|████████████          | 301/549 [05:28<04:26,  1.08s/it]"
     ]
    },
    {
     "name": "stdout",
     "output_type": "stream",
     "text": [
      "  GSM3394472_Mouse_Muscle_SH002.CGfinal: 175 clock CpGs matched.\n"
     ]
    },
    {
     "name": "stderr",
     "output_type": "stream",
     "text": [
      "\r",
      "Parsing GSE120132:  55%|████████████          | 302/549 [05:29<04:27,  1.08s/it]"
     ]
    },
    {
     "name": "stdout",
     "output_type": "stream",
     "text": [
      "  GSM3394473_Mouse_Muscle_SH003.CGfinal: 176 clock CpGs matched.\n"
     ]
    },
    {
     "name": "stderr",
     "output_type": "stream",
     "text": [
      "\r",
      "Parsing GSE120132:  55%|████████████▏         | 303/549 [05:30<04:20,  1.06s/it]"
     ]
    },
    {
     "name": "stdout",
     "output_type": "stream",
     "text": [
      "  GSM3394474_Mouse_Muscle_SH004.CGfinal: 176 clock CpGs matched.\n"
     ]
    },
    {
     "name": "stderr",
     "output_type": "stream",
     "text": [
      "\r",
      "Parsing GSE120132:  55%|████████████▏         | 304/549 [05:31<04:20,  1.06s/it]"
     ]
    },
    {
     "name": "stdout",
     "output_type": "stream",
     "text": [
      "  GSM3394475_Mouse_Muscle_SH005.CGfinal: 176 clock CpGs matched.\n"
     ]
    },
    {
     "name": "stderr",
     "output_type": "stream",
     "text": [
      "\r",
      "Parsing GSE120132:  56%|████████████▏         | 305/549 [05:32<04:17,  1.05s/it]"
     ]
    },
    {
     "name": "stdout",
     "output_type": "stream",
     "text": [
      "  GSM3394476_Mouse_Muscle_SH006.CGfinal: 175 clock CpGs matched.\n"
     ]
    },
    {
     "name": "stderr",
     "output_type": "stream",
     "text": [
      "\r",
      "Parsing GSE120132:  56%|████████████▎         | 306/549 [05:33<04:18,  1.06s/it]"
     ]
    },
    {
     "name": "stdout",
     "output_type": "stream",
     "text": [
      "  GSM3394477_Mouse_Muscle_SH007.CGfinal: 176 clock CpGs matched.\n"
     ]
    },
    {
     "name": "stderr",
     "output_type": "stream",
     "text": [
      "\r",
      "Parsing GSE120132:  56%|████████████▎         | 307/549 [05:34<04:19,  1.07s/it]"
     ]
    },
    {
     "name": "stdout",
     "output_type": "stream",
     "text": [
      "  GSM3394478_Mouse_Muscle_SH008.CGfinal: 176 clock CpGs matched.\n"
     ]
    },
    {
     "name": "stderr",
     "output_type": "stream",
     "text": [
      "\r",
      "Parsing GSE120132:  56%|████████████▎         | 308/549 [05:35<04:22,  1.09s/it]"
     ]
    },
    {
     "name": "stdout",
     "output_type": "stream",
     "text": [
      "  GSM3394479_Mouse_Muscle_SH009.CGfinal: 176 clock CpGs matched.\n"
     ]
    },
    {
     "name": "stderr",
     "output_type": "stream",
     "text": [
      "\r",
      "Parsing GSE120132:  56%|████████████▍         | 309/549 [05:36<04:21,  1.09s/it]"
     ]
    },
    {
     "name": "stdout",
     "output_type": "stream",
     "text": [
      "  GSM3394480_Mouse_Muscle_SH010.CGfinal: 176 clock CpGs matched.\n"
     ]
    },
    {
     "name": "stderr",
     "output_type": "stream",
     "text": [
      "\r",
      "Parsing GSE120132:  56%|████████████▍         | 310/549 [05:37<04:15,  1.07s/it]"
     ]
    },
    {
     "name": "stdout",
     "output_type": "stream",
     "text": [
      "  GSM3394481_Mouse_Muscle_SH011.CGfinal: 167 clock CpGs matched.\n"
     ]
    },
    {
     "name": "stderr",
     "output_type": "stream",
     "text": [
      "\r",
      "Parsing GSE120132:  57%|████████████▍         | 311/549 [05:38<04:15,  1.07s/it]"
     ]
    },
    {
     "name": "stdout",
     "output_type": "stream",
     "text": [
      "  GSM3394482_Mouse_Muscle_SH012.CGfinal: 169 clock CpGs matched.\n"
     ]
    },
    {
     "name": "stderr",
     "output_type": "stream",
     "text": [
      "\r",
      "Parsing GSE120132:  57%|████████████▌         | 312/549 [05:39<04:12,  1.07s/it]"
     ]
    },
    {
     "name": "stdout",
     "output_type": "stream",
     "text": [
      "  GSM3394483_Mouse_Muscle_SH013.CGfinal: 168 clock CpGs matched.\n"
     ]
    },
    {
     "name": "stderr",
     "output_type": "stream",
     "text": [
      "\r",
      "Parsing GSE120132:  57%|████████████▌         | 313/549 [05:40<04:11,  1.07s/it]"
     ]
    },
    {
     "name": "stdout",
     "output_type": "stream",
     "text": [
      "  GSM3394484_Mouse_Muscle_SH014.CGfinal: 168 clock CpGs matched.\n"
     ]
    },
    {
     "name": "stderr",
     "output_type": "stream",
     "text": [
      "\r",
      "Parsing GSE120132:  57%|████████████▌         | 314/549 [05:41<04:12,  1.07s/it]"
     ]
    },
    {
     "name": "stdout",
     "output_type": "stream",
     "text": [
      "  GSM3394485_Mouse_Muscle_SH015.CGfinal: 168 clock CpGs matched.\n"
     ]
    },
    {
     "name": "stderr",
     "output_type": "stream",
     "text": [
      "\r",
      "Parsing GSE120132:  57%|████████████▌         | 315/549 [05:43<04:12,  1.08s/it]"
     ]
    },
    {
     "name": "stdout",
     "output_type": "stream",
     "text": [
      "  GSM3394486_Mouse_Muscle_SH016.CGfinal: 166 clock CpGs matched.\n"
     ]
    },
    {
     "name": "stderr",
     "output_type": "stream",
     "text": [
      "\r",
      "Parsing GSE120132:  58%|████████████▋         | 316/549 [05:43<04:02,  1.04s/it]"
     ]
    },
    {
     "name": "stdout",
     "output_type": "stream",
     "text": [
      "  GSM3394487_Mouse_Muscle_SH017.CGfinal: 166 clock CpGs matched.\n"
     ]
    },
    {
     "name": "stderr",
     "output_type": "stream",
     "text": [
      "\r",
      "Parsing GSE120132:  58%|████████████▋         | 317/549 [05:44<03:57,  1.02s/it]"
     ]
    },
    {
     "name": "stdout",
     "output_type": "stream",
     "text": [
      "  GSM3394488_Mouse_Muscle_SH018.CGfinal: 168 clock CpGs matched.\n"
     ]
    },
    {
     "name": "stderr",
     "output_type": "stream",
     "text": [
      "\r",
      "Parsing GSE120132:  58%|████████████▋         | 318/549 [05:45<03:54,  1.02s/it]"
     ]
    },
    {
     "name": "stdout",
     "output_type": "stream",
     "text": [
      "  GSM3394489_Mouse_Muscle_SH019.CGfinal: 167 clock CpGs matched.\n"
     ]
    },
    {
     "name": "stderr",
     "output_type": "stream",
     "text": [
      "\r",
      "Parsing GSE120132:  58%|████████████▊         | 319/549 [05:46<03:54,  1.02s/it]"
     ]
    },
    {
     "name": "stdout",
     "output_type": "stream",
     "text": [
      "  GSM3394490_Mouse_Muscle_SH020.CGfinal: 166 clock CpGs matched.\n"
     ]
    },
    {
     "name": "stderr",
     "output_type": "stream",
     "text": [
      "\r",
      "Parsing GSE120132:  58%|████████████▊         | 320/549 [05:47<03:52,  1.02s/it]"
     ]
    },
    {
     "name": "stdout",
     "output_type": "stream",
     "text": [
      "  GSM3394491_Mouse_Muscle_SH021.CGfinal: 168 clock CpGs matched.\n"
     ]
    },
    {
     "name": "stderr",
     "output_type": "stream",
     "text": [
      "\r",
      "Parsing GSE120132:  58%|████████████▊         | 321/549 [05:49<03:52,  1.02s/it]"
     ]
    },
    {
     "name": "stdout",
     "output_type": "stream",
     "text": [
      "  GSM3394492_Mouse_Muscle_SH022.CGfinal: 174 clock CpGs matched.\n"
     ]
    },
    {
     "name": "stderr",
     "output_type": "stream",
     "text": [
      "\r",
      "Parsing GSE120132:  59%|████████████▉         | 322/549 [05:50<03:52,  1.03s/it]"
     ]
    },
    {
     "name": "stdout",
     "output_type": "stream",
     "text": [
      "  GSM3394493_Mouse_Muscle_SH023.CGfinal: 171 clock CpGs matched.\n"
     ]
    },
    {
     "name": "stderr",
     "output_type": "stream",
     "text": [
      "\r",
      "Parsing GSE120132:  59%|████████████▉         | 323/549 [05:51<03:56,  1.05s/it]"
     ]
    },
    {
     "name": "stdout",
     "output_type": "stream",
     "text": [
      "  GSM3394494_Mouse_Muscle_SH024.CGfinal: 175 clock CpGs matched.\n"
     ]
    },
    {
     "name": "stderr",
     "output_type": "stream",
     "text": [
      "\r",
      "Parsing GSE120132:  59%|████████████▉         | 324/549 [05:52<03:56,  1.05s/it]"
     ]
    },
    {
     "name": "stdout",
     "output_type": "stream",
     "text": [
      "  GSM3394495_Mouse_Muscle_SH025.CGfinal: 175 clock CpGs matched.\n"
     ]
    },
    {
     "name": "stderr",
     "output_type": "stream",
     "text": [
      "\r",
      "Parsing GSE120132:  59%|█████████████         | 325/549 [05:53<04:02,  1.08s/it]"
     ]
    },
    {
     "name": "stdout",
     "output_type": "stream",
     "text": [
      "  GSM3394496_Mouse_Muscle_SH026.CGfinal: 174 clock CpGs matched.\n"
     ]
    },
    {
     "name": "stderr",
     "output_type": "stream",
     "text": [
      "\r",
      "Parsing GSE120132:  59%|█████████████         | 326/549 [05:54<04:00,  1.08s/it]"
     ]
    },
    {
     "name": "stdout",
     "output_type": "stream",
     "text": [
      "  GSM3394497_Mouse_Muscle_SH027.CGfinal: 176 clock CpGs matched.\n"
     ]
    },
    {
     "name": "stderr",
     "output_type": "stream",
     "text": [
      "\r",
      "Parsing GSE120132:  60%|█████████████         | 327/549 [05:55<03:58,  1.07s/it]"
     ]
    },
    {
     "name": "stdout",
     "output_type": "stream",
     "text": [
      "  GSM3394498_Mouse_Muscle_SH028.CGfinal: 175 clock CpGs matched.\n"
     ]
    },
    {
     "name": "stderr",
     "output_type": "stream",
     "text": [
      "\r",
      "Parsing GSE120132:  60%|█████████████▏        | 328/549 [05:56<03:55,  1.07s/it]"
     ]
    },
    {
     "name": "stdout",
     "output_type": "stream",
     "text": [
      "  GSM3394499_Mouse_Muscle_SH029.CGfinal: 165 clock CpGs matched.\n"
     ]
    },
    {
     "name": "stderr",
     "output_type": "stream",
     "text": [
      "\r",
      "Parsing GSE120132:  60%|█████████████▏        | 329/549 [05:57<03:53,  1.06s/it]"
     ]
    },
    {
     "name": "stdout",
     "output_type": "stream",
     "text": [
      "  GSM3394500_Mouse_Muscle_SH030.CGfinal: 168 clock CpGs matched.\n"
     ]
    },
    {
     "name": "stderr",
     "output_type": "stream",
     "text": [
      "\r",
      "Parsing GSE120132:  60%|█████████████▏        | 330/549 [05:58<03:50,  1.05s/it]"
     ]
    },
    {
     "name": "stdout",
     "output_type": "stream",
     "text": [
      "  GSM3394501_Mouse_Muscle_SH031.CGfinal: 167 clock CpGs matched.\n"
     ]
    },
    {
     "name": "stderr",
     "output_type": "stream",
     "text": [
      "\r",
      "Parsing GSE120132:  60%|█████████████▎        | 331/549 [05:59<03:45,  1.04s/it]"
     ]
    },
    {
     "name": "stdout",
     "output_type": "stream",
     "text": [
      "  GSM3394502_Mouse_Muscle_SH032.CGfinal: 168 clock CpGs matched.\n"
     ]
    },
    {
     "name": "stderr",
     "output_type": "stream",
     "text": [
      "\r",
      "Parsing GSE120132:  60%|█████████████▎        | 332/549 [06:00<03:50,  1.06s/it]"
     ]
    },
    {
     "name": "stdout",
     "output_type": "stream",
     "text": [
      "  GSM3394503_Mouse_Muscle_SH033.CGfinal: 166 clock CpGs matched.\n"
     ]
    },
    {
     "name": "stderr",
     "output_type": "stream",
     "text": [
      "\r",
      "Parsing GSE120132:  61%|█████████████▎        | 333/549 [06:01<03:47,  1.05s/it]"
     ]
    },
    {
     "name": "stdout",
     "output_type": "stream",
     "text": [
      "  GSM3394504_Mouse_Muscle_SH034.CGfinal: 166 clock CpGs matched.\n"
     ]
    },
    {
     "name": "stderr",
     "output_type": "stream",
     "text": [
      "\r",
      "Parsing GSE120132:  61%|█████████████▍        | 334/549 [06:02<03:43,  1.04s/it]"
     ]
    },
    {
     "name": "stdout",
     "output_type": "stream",
     "text": [
      "  GSM3394505_Mouse_Muscle_SH035.CGfinal: 166 clock CpGs matched.\n"
     ]
    },
    {
     "name": "stderr",
     "output_type": "stream",
     "text": [
      "\r",
      "Parsing GSE120132:  61%|█████████████▍        | 335/549 [06:03<03:45,  1.05s/it]"
     ]
    },
    {
     "name": "stdout",
     "output_type": "stream",
     "text": [
      "  GSM3394506_Mouse_Muscle_SH036.CGfinal: 165 clock CpGs matched.\n"
     ]
    },
    {
     "name": "stderr",
     "output_type": "stream",
     "text": [
      "\r",
      "Parsing GSE120132:  61%|█████████████▍        | 336/549 [06:04<03:37,  1.02s/it]"
     ]
    },
    {
     "name": "stdout",
     "output_type": "stream",
     "text": [
      "  GSM3394507_Mouse_Muscle_SH037.CGfinal: 165 clock CpGs matched.\n"
     ]
    },
    {
     "name": "stderr",
     "output_type": "stream",
     "text": [
      "\r",
      "Parsing GSE120132:  61%|█████████████▌        | 337/549 [06:05<03:33,  1.01s/it]"
     ]
    },
    {
     "name": "stdout",
     "output_type": "stream",
     "text": [
      "  GSM3394508_Mouse_Muscle_SH038.CGfinal: 168 clock CpGs matched.\n"
     ]
    },
    {
     "name": "stderr",
     "output_type": "stream",
     "text": [
      "\r",
      "Parsing GSE120132:  62%|█████████████▌        | 338/549 [06:06<03:34,  1.01s/it]"
     ]
    },
    {
     "name": "stdout",
     "output_type": "stream",
     "text": [
      "  GSM3394509_Mouse_Muscle_SH039.CGfinal: 166 clock CpGs matched.\n"
     ]
    },
    {
     "name": "stderr",
     "output_type": "stream",
     "text": [
      "\r",
      "Parsing GSE120132:  62%|█████████████▌        | 339/549 [06:07<03:33,  1.02s/it]"
     ]
    },
    {
     "name": "stdout",
     "output_type": "stream",
     "text": [
      "  GSM3394510_Mouse_Muscle_SH040.CGfinal: 167 clock CpGs matched.\n"
     ]
    },
    {
     "name": "stderr",
     "output_type": "stream",
     "text": [
      "\r",
      "Parsing GSE120132:  62%|█████████████▌        | 340/549 [06:08<03:36,  1.03s/it]"
     ]
    },
    {
     "name": "stdout",
     "output_type": "stream",
     "text": [
      "  GSM3394511_Mouse_Muscle_SH041.CGfinal: 171 clock CpGs matched.\n"
     ]
    },
    {
     "name": "stderr",
     "output_type": "stream",
     "text": [
      "\r",
      "Parsing GSE120132:  62%|█████████████▋        | 341/549 [06:10<03:38,  1.05s/it]"
     ]
    },
    {
     "name": "stdout",
     "output_type": "stream",
     "text": [
      "  GSM3394512_Mouse_Muscle_SH042.CGfinal: 175 clock CpGs matched.\n"
     ]
    },
    {
     "name": "stderr",
     "output_type": "stream",
     "text": [
      "\r",
      "Parsing GSE120132:  62%|█████████████▋        | 342/549 [06:11<03:39,  1.06s/it]"
     ]
    },
    {
     "name": "stdout",
     "output_type": "stream",
     "text": [
      "  GSM3394513_Mouse_Muscle_SH043.CGfinal: 176 clock CpGs matched.\n"
     ]
    },
    {
     "name": "stderr",
     "output_type": "stream",
     "text": [
      "\r",
      "Parsing GSE120132:  62%|█████████████▋        | 343/549 [06:12<03:40,  1.07s/it]"
     ]
    },
    {
     "name": "stdout",
     "output_type": "stream",
     "text": [
      "  GSM3394514_Mouse_Muscle_SH044.CGfinal: 175 clock CpGs matched.\n"
     ]
    },
    {
     "name": "stderr",
     "output_type": "stream",
     "text": [
      "\r",
      "Parsing GSE120132:  63%|█████████████▊        | 344/549 [06:13<03:40,  1.08s/it]"
     ]
    },
    {
     "name": "stdout",
     "output_type": "stream",
     "text": [
      "  GSM3394515_Mouse_Muscle_SH045.CGfinal: 175 clock CpGs matched.\n"
     ]
    },
    {
     "name": "stderr",
     "output_type": "stream",
     "text": [
      "\r",
      "Parsing GSE120132:  63%|█████████████▊        | 345/549 [06:14<03:38,  1.07s/it]"
     ]
    },
    {
     "name": "stdout",
     "output_type": "stream",
     "text": [
      "  GSM3394516_Mouse_Muscle_SH046.CGfinal: 175 clock CpGs matched.\n"
     ]
    },
    {
     "name": "stderr",
     "output_type": "stream",
     "text": [
      "\r",
      "Parsing GSE120132:  63%|█████████████▊        | 346/549 [06:15<03:34,  1.06s/it]"
     ]
    },
    {
     "name": "stdout",
     "output_type": "stream",
     "text": [
      "  GSM3394517_Mouse_Muscle_SH047.CGfinal: 166 clock CpGs matched.\n"
     ]
    },
    {
     "name": "stderr",
     "output_type": "stream",
     "text": [
      "\r",
      "Parsing GSE120132:  63%|█████████████▉        | 347/549 [06:16<03:30,  1.04s/it]"
     ]
    },
    {
     "name": "stdout",
     "output_type": "stream",
     "text": [
      "  GSM3394518_Mouse_Muscle_SH048.CGfinal: 166 clock CpGs matched.\n"
     ]
    },
    {
     "name": "stderr",
     "output_type": "stream",
     "text": [
      "\r",
      "Parsing GSE120132:  63%|█████████████▉        | 348/549 [06:17<03:29,  1.04s/it]"
     ]
    },
    {
     "name": "stdout",
     "output_type": "stream",
     "text": [
      "  GSM3394519_Mouse_Muscle_SH049.CGfinal: 174 clock CpGs matched.\n"
     ]
    },
    {
     "name": "stderr",
     "output_type": "stream",
     "text": [
      "\r",
      "Parsing GSE120132:  64%|█████████████▉        | 349/549 [06:18<03:39,  1.10s/it]"
     ]
    },
    {
     "name": "stdout",
     "output_type": "stream",
     "text": [
      "  GSM3394520_Mouse_Muscle_SH050.CGfinal: 175 clock CpGs matched.\n"
     ]
    },
    {
     "name": "stderr",
     "output_type": "stream",
     "text": [
      "\r",
      "Parsing GSE120132:  64%|██████████████        | 350/549 [06:19<03:36,  1.09s/it]"
     ]
    },
    {
     "name": "stdout",
     "output_type": "stream",
     "text": [
      "  GSM3394521_Mouse_Muscle_SH051.CGfinal: 168 clock CpGs matched.\n"
     ]
    },
    {
     "name": "stderr",
     "output_type": "stream",
     "text": [
      "\r",
      "Parsing GSE120132:  64%|██████████████        | 351/549 [06:20<03:36,  1.09s/it]"
     ]
    },
    {
     "name": "stdout",
     "output_type": "stream",
     "text": [
      "  GSM3394522_Mouse_Muscle_SH052.CGfinal: 168 clock CpGs matched.\n"
     ]
    },
    {
     "name": "stderr",
     "output_type": "stream",
     "text": [
      "\r",
      "Parsing GSE120132:  64%|██████████████        | 352/549 [06:21<03:31,  1.07s/it]"
     ]
    },
    {
     "name": "stdout",
     "output_type": "stream",
     "text": [
      "  GSM3394523_Mouse_Muscle_SH053.CGfinal: 167 clock CpGs matched.\n"
     ]
    },
    {
     "name": "stderr",
     "output_type": "stream",
     "text": [
      "\r",
      "Parsing GSE120132:  64%|██████████████▏       | 353/549 [06:22<03:30,  1.08s/it]"
     ]
    },
    {
     "name": "stdout",
     "output_type": "stream",
     "text": [
      "  GSM3394524_Mouse_Muscle_SH054.CGfinal: 167 clock CpGs matched.\n"
     ]
    },
    {
     "name": "stderr",
     "output_type": "stream",
     "text": [
      "\r",
      "Parsing GSE120132:  64%|██████████████▏       | 354/549 [06:23<03:27,  1.06s/it]"
     ]
    },
    {
     "name": "stdout",
     "output_type": "stream",
     "text": [
      "  GSM3394525_Mouse_Muscle_SH055.CGfinal: 167 clock CpGs matched.\n"
     ]
    },
    {
     "name": "stderr",
     "output_type": "stream",
     "text": [
      "\r",
      "Parsing GSE120132:  65%|██████████████▏       | 355/549 [06:24<03:24,  1.06s/it]"
     ]
    },
    {
     "name": "stdout",
     "output_type": "stream",
     "text": [
      "  GSM3394526_Mouse_Muscle_SH056.CGfinal: 166 clock CpGs matched.\n"
     ]
    },
    {
     "name": "stderr",
     "output_type": "stream",
     "text": [
      "\r",
      "Parsing GSE120132:  65%|██████████████▎       | 356/549 [06:26<03:24,  1.06s/it]"
     ]
    },
    {
     "name": "stdout",
     "output_type": "stream",
     "text": [
      "  GSM3394527_Mouse_Muscle_SH057.CGfinal: 168 clock CpGs matched.\n"
     ]
    },
    {
     "name": "stderr",
     "output_type": "stream",
     "text": [
      "\r",
      "Parsing GSE120132:  65%|██████████████▎       | 357/549 [06:27<03:22,  1.06s/it]"
     ]
    },
    {
     "name": "stdout",
     "output_type": "stream",
     "text": [
      "  GSM3394528_Mouse_Muscle_SH058.CGfinal: 170 clock CpGs matched.\n"
     ]
    },
    {
     "name": "stderr",
     "output_type": "stream",
     "text": [
      "\r",
      "Parsing GSE120132:  65%|██████████████▎       | 358/549 [06:28<03:21,  1.05s/it]"
     ]
    },
    {
     "name": "stdout",
     "output_type": "stream",
     "text": [
      "  GSM3394529_Mouse_Muscle_SH059.CGfinal: 167 clock CpGs matched.\n"
     ]
    },
    {
     "name": "stderr",
     "output_type": "stream",
     "text": [
      "\r",
      "Parsing GSE120132:  65%|██████████████▍       | 359/549 [06:29<03:21,  1.06s/it]"
     ]
    },
    {
     "name": "stdout",
     "output_type": "stream",
     "text": [
      "  GSM3394530_Mouse_Muscle_SH060.CGfinal: 168 clock CpGs matched.\n"
     ]
    },
    {
     "name": "stderr",
     "output_type": "stream",
     "text": [
      "\r",
      "Parsing GSE120132:  66%|██████████████▍       | 360/549 [06:30<03:20,  1.06s/it]"
     ]
    },
    {
     "name": "stdout",
     "output_type": "stream",
     "text": [
      "  GSM3394531_Kidney_03314.CGfinal: 174 clock CpGs matched.\n"
     ]
    },
    {
     "name": "stderr",
     "output_type": "stream",
     "text": [
      "\r",
      "Parsing GSE120132:  66%|██████████████▍       | 361/549 [06:31<03:16,  1.05s/it]"
     ]
    },
    {
     "name": "stdout",
     "output_type": "stream",
     "text": [
      "  GSM3394532_Kidney_03315.CGfinal: 174 clock CpGs matched.\n"
     ]
    },
    {
     "name": "stderr",
     "output_type": "stream",
     "text": [
      "\r",
      "Parsing GSE120132:  66%|██████████████▌       | 362/549 [06:32<03:13,  1.03s/it]"
     ]
    },
    {
     "name": "stdout",
     "output_type": "stream",
     "text": [
      "  GSM3394533_Kidney_03316.CGfinal: 175 clock CpGs matched.\n"
     ]
    },
    {
     "name": "stderr",
     "output_type": "stream",
     "text": [
      "\r",
      "Parsing GSE120132:  66%|██████████████▌       | 363/549 [06:33<03:11,  1.03s/it]"
     ]
    },
    {
     "name": "stdout",
     "output_type": "stream",
     "text": [
      "  GSM3394534_Kidney_03317.CGfinal: 175 clock CpGs matched.\n"
     ]
    },
    {
     "name": "stderr",
     "output_type": "stream",
     "text": [
      "\r",
      "Parsing GSE120132:  66%|██████████████▌       | 364/549 [06:34<03:08,  1.02s/it]"
     ]
    },
    {
     "name": "stdout",
     "output_type": "stream",
     "text": [
      "  GSM3394535_Kidney_03318.CGfinal: 175 clock CpGs matched.\n"
     ]
    },
    {
     "name": "stderr",
     "output_type": "stream",
     "text": [
      "\r",
      "Parsing GSE120132:  66%|██████████████▋       | 365/549 [06:35<03:07,  1.02s/it]"
     ]
    },
    {
     "name": "stdout",
     "output_type": "stream",
     "text": [
      "  GSM3394536_Kidney_03319.CGfinal: 174 clock CpGs matched.\n"
     ]
    },
    {
     "name": "stderr",
     "output_type": "stream",
     "text": [
      "\r",
      "Parsing GSE120132:  67%|██████████████▋       | 366/549 [06:36<03:05,  1.01s/it]"
     ]
    },
    {
     "name": "stdout",
     "output_type": "stream",
     "text": [
      "  GSM3394537_Kidney_03320.CGfinal: 174 clock CpGs matched.\n"
     ]
    },
    {
     "name": "stderr",
     "output_type": "stream",
     "text": [
      "\r",
      "Parsing GSE120132:  67%|██████████████▋       | 367/549 [06:37<03:04,  1.01s/it]"
     ]
    },
    {
     "name": "stdout",
     "output_type": "stream",
     "text": [
      "  GSM3394538_Kidney_03321.CGfinal: 175 clock CpGs matched.\n"
     ]
    },
    {
     "name": "stderr",
     "output_type": "stream",
     "text": [
      "\r",
      "Parsing GSE120132:  67%|██████████████▋       | 368/549 [06:38<03:03,  1.01s/it]"
     ]
    },
    {
     "name": "stdout",
     "output_type": "stream",
     "text": [
      "  GSM3394539_Kidney_03322.CGfinal: 176 clock CpGs matched.\n"
     ]
    },
    {
     "name": "stderr",
     "output_type": "stream",
     "text": [
      "\r",
      "Parsing GSE120132:  67%|██████████████▊       | 369/549 [06:39<03:02,  1.01s/it]"
     ]
    },
    {
     "name": "stdout",
     "output_type": "stream",
     "text": [
      "  GSM3394540_Kidney_03323.CGfinal: 176 clock CpGs matched.\n"
     ]
    },
    {
     "name": "stderr",
     "output_type": "stream",
     "text": [
      "\r",
      "Parsing GSE120132:  67%|██████████████▊       | 370/549 [06:40<03:00,  1.01s/it]"
     ]
    },
    {
     "name": "stdout",
     "output_type": "stream",
     "text": [
      "  GSM3394541_Kidney_03324.CGfinal: 175 clock CpGs matched.\n"
     ]
    },
    {
     "name": "stderr",
     "output_type": "stream",
     "text": [
      "\r",
      "Parsing GSE120132:  68%|██████████████▊       | 371/549 [06:41<03:00,  1.01s/it]"
     ]
    },
    {
     "name": "stdout",
     "output_type": "stream",
     "text": [
      "  GSM3394542_Kidney_03325.CGfinal: 173 clock CpGs matched.\n"
     ]
    },
    {
     "name": "stderr",
     "output_type": "stream",
     "text": [
      "\r",
      "Parsing GSE120132:  68%|██████████████▉       | 372/549 [06:42<02:59,  1.02s/it]"
     ]
    },
    {
     "name": "stdout",
     "output_type": "stream",
     "text": [
      "  GSM3394543_Kidney_03326.CGfinal: 174 clock CpGs matched.\n"
     ]
    },
    {
     "name": "stderr",
     "output_type": "stream",
     "text": [
      "\r",
      "Parsing GSE120132:  68%|██████████████▉       | 373/549 [06:43<02:58,  1.02s/it]"
     ]
    },
    {
     "name": "stdout",
     "output_type": "stream",
     "text": [
      "  GSM3394544_Kidney_03327.CGfinal: 175 clock CpGs matched.\n"
     ]
    },
    {
     "name": "stderr",
     "output_type": "stream",
     "text": [
      "\r",
      "Parsing GSE120132:  68%|██████████████▉       | 374/549 [06:44<02:57,  1.01s/it]"
     ]
    },
    {
     "name": "stdout",
     "output_type": "stream",
     "text": [
      "  GSM3394545_Kidney_03328.CGfinal: 175 clock CpGs matched.\n"
     ]
    },
    {
     "name": "stderr",
     "output_type": "stream",
     "text": [
      "\r",
      "Parsing GSE120132:  68%|███████████████       | 375/549 [06:45<02:56,  1.01s/it]"
     ]
    },
    {
     "name": "stdout",
     "output_type": "stream",
     "text": [
      "  GSM3394546_Kidney_03329.CGfinal: 175 clock CpGs matched.\n"
     ]
    },
    {
     "name": "stderr",
     "output_type": "stream",
     "text": [
      "\r",
      "Parsing GSE120132:  68%|███████████████       | 376/549 [06:46<02:55,  1.01s/it]"
     ]
    },
    {
     "name": "stdout",
     "output_type": "stream",
     "text": [
      "  GSM3394547_Kidney_03330.CGfinal: 175 clock CpGs matched.\n"
     ]
    },
    {
     "name": "stderr",
     "output_type": "stream",
     "text": [
      "\r",
      "Parsing GSE120132:  69%|███████████████       | 377/549 [06:47<02:53,  1.01s/it]"
     ]
    },
    {
     "name": "stdout",
     "output_type": "stream",
     "text": [
      "  GSM3394548_Kidney_03331.CGfinal: 175 clock CpGs matched.\n"
     ]
    },
    {
     "name": "stderr",
     "output_type": "stream",
     "text": [
      "\r",
      "Parsing GSE120132:  69%|███████████████▏      | 378/549 [06:48<02:52,  1.01s/it]"
     ]
    },
    {
     "name": "stdout",
     "output_type": "stream",
     "text": [
      "  GSM3394549_Kidney_03332.CGfinal: 174 clock CpGs matched.\n"
     ]
    },
    {
     "name": "stderr",
     "output_type": "stream",
     "text": [
      "\r",
      "Parsing GSE120132:  69%|███████████████▏      | 379/549 [06:49<02:51,  1.01s/it]"
     ]
    },
    {
     "name": "stdout",
     "output_type": "stream",
     "text": [
      "  GSM3394550_Kidney_03333.CGfinal: 172 clock CpGs matched.\n"
     ]
    },
    {
     "name": "stderr",
     "output_type": "stream",
     "text": [
      "\r",
      "Parsing GSE120132:  69%|███████████████▏      | 380/549 [06:50<02:50,  1.01s/it]"
     ]
    },
    {
     "name": "stdout",
     "output_type": "stream",
     "text": [
      "  GSM3394551_Kidney_03334.CGfinal: 175 clock CpGs matched.\n"
     ]
    },
    {
     "name": "stderr",
     "output_type": "stream",
     "text": [
      "\r",
      "Parsing GSE120132:  69%|███████████████▎      | 381/549 [06:51<02:49,  1.01s/it]"
     ]
    },
    {
     "name": "stdout",
     "output_type": "stream",
     "text": [
      "  GSM3394552_Kidney_03335.CGfinal: 172 clock CpGs matched.\n"
     ]
    },
    {
     "name": "stderr",
     "output_type": "stream",
     "text": [
      "\r",
      "Parsing GSE120132:  70%|███████████████▎      | 382/549 [06:52<02:48,  1.01s/it]"
     ]
    },
    {
     "name": "stdout",
     "output_type": "stream",
     "text": [
      "  GSM3394553_Kidney_03336.CGfinal: 175 clock CpGs matched.\n"
     ]
    },
    {
     "name": "stderr",
     "output_type": "stream",
     "text": [
      "\r",
      "Parsing GSE120132:  70%|███████████████▎      | 383/549 [06:53<02:47,  1.01s/it]"
     ]
    },
    {
     "name": "stdout",
     "output_type": "stream",
     "text": [
      "  GSM3394554_Kidney_03337.CGfinal: 175 clock CpGs matched.\n"
     ]
    },
    {
     "name": "stderr",
     "output_type": "stream",
     "text": [
      "\r",
      "Parsing GSE120132:  70%|███████████████▍      | 384/549 [06:54<02:46,  1.01s/it]"
     ]
    },
    {
     "name": "stdout",
     "output_type": "stream",
     "text": [
      "  GSM3394555_Kidney_03338.CGfinal: 175 clock CpGs matched.\n"
     ]
    },
    {
     "name": "stderr",
     "output_type": "stream",
     "text": [
      "\r",
      "Parsing GSE120132:  70%|███████████████▍      | 385/549 [06:55<02:47,  1.02s/it]"
     ]
    },
    {
     "name": "stdout",
     "output_type": "stream",
     "text": [
      "  GSM3394556_Kidney_03339.CGfinal: 175 clock CpGs matched.\n"
     ]
    },
    {
     "name": "stderr",
     "output_type": "stream",
     "text": [
      "\r",
      "Parsing GSE120132:  70%|███████████████▍      | 386/549 [06:56<02:45,  1.02s/it]"
     ]
    },
    {
     "name": "stdout",
     "output_type": "stream",
     "text": [
      "  GSM3394557_Kidney_03340.CGfinal: 176 clock CpGs matched.\n"
     ]
    },
    {
     "name": "stderr",
     "output_type": "stream",
     "text": [
      "\r",
      "Parsing GSE120132:  70%|███████████████▌      | 387/549 [06:57<02:44,  1.02s/it]"
     ]
    },
    {
     "name": "stdout",
     "output_type": "stream",
     "text": [
      "  GSM3394558_Kidney_03341.CGfinal: 175 clock CpGs matched.\n"
     ]
    },
    {
     "name": "stderr",
     "output_type": "stream",
     "text": [
      "\r",
      "Parsing GSE120132:  71%|███████████████▌      | 388/549 [06:58<02:42,  1.01s/it]"
     ]
    },
    {
     "name": "stdout",
     "output_type": "stream",
     "text": [
      "  GSM3394559_Kidney_03342.CGfinal: 175 clock CpGs matched.\n"
     ]
    },
    {
     "name": "stderr",
     "output_type": "stream",
     "text": [
      "\r",
      "Parsing GSE120132:  71%|███████████████▌      | 389/549 [06:59<02:41,  1.01s/it]"
     ]
    },
    {
     "name": "stdout",
     "output_type": "stream",
     "text": [
      "  GSM3394560_Kidney_03343.CGfinal: 175 clock CpGs matched.\n"
     ]
    },
    {
     "name": "stderr",
     "output_type": "stream",
     "text": [
      "\r",
      "Parsing GSE120132:  71%|███████████████▋      | 390/549 [07:00<02:39,  1.00s/it]"
     ]
    },
    {
     "name": "stdout",
     "output_type": "stream",
     "text": [
      "  GSM3394561_Kidney_03344.CGfinal: 175 clock CpGs matched.\n"
     ]
    },
    {
     "name": "stderr",
     "output_type": "stream",
     "text": [
      "\r",
      "Parsing GSE120132:  71%|███████████████▋      | 391/549 [07:01<02:38,  1.00s/it]"
     ]
    },
    {
     "name": "stdout",
     "output_type": "stream",
     "text": [
      "  GSM3394562_Kidney_03345.CGfinal: 176 clock CpGs matched.\n"
     ]
    },
    {
     "name": "stderr",
     "output_type": "stream",
     "text": [
      "\r",
      "Parsing GSE120132:  71%|███████████████▋      | 392/549 [07:02<02:37,  1.01s/it]"
     ]
    },
    {
     "name": "stdout",
     "output_type": "stream",
     "text": [
      "  GSM3394563_Kidney_03346.CGfinal: 174 clock CpGs matched.\n"
     ]
    },
    {
     "name": "stderr",
     "output_type": "stream",
     "text": [
      "\r",
      "Parsing GSE120132:  72%|███████████████▋      | 393/549 [07:03<02:37,  1.01s/it]"
     ]
    },
    {
     "name": "stdout",
     "output_type": "stream",
     "text": [
      "  GSM3394564_Kidney_03347.CGfinal: 174 clock CpGs matched.\n"
     ]
    },
    {
     "name": "stderr",
     "output_type": "stream",
     "text": [
      "\r",
      "Parsing GSE120132:  72%|███████████████▊      | 394/549 [07:04<02:36,  1.01s/it]"
     ]
    },
    {
     "name": "stdout",
     "output_type": "stream",
     "text": [
      "  GSM3394565_Kidney_03348.CGfinal: 173 clock CpGs matched.\n"
     ]
    },
    {
     "name": "stderr",
     "output_type": "stream",
     "text": [
      "\r",
      "Parsing GSE120132:  72%|███████████████▊      | 395/549 [07:05<02:35,  1.01s/it]"
     ]
    },
    {
     "name": "stdout",
     "output_type": "stream",
     "text": [
      "  GSM3394566_Kidney_03349.CGfinal: 175 clock CpGs matched.\n"
     ]
    },
    {
     "name": "stderr",
     "output_type": "stream",
     "text": [
      "\r",
      "Parsing GSE120132:  72%|███████████████▊      | 396/549 [07:06<02:33,  1.01s/it]"
     ]
    },
    {
     "name": "stdout",
     "output_type": "stream",
     "text": [
      "  GSM3394567_Kidney_03350.CGfinal: 175 clock CpGs matched.\n"
     ]
    },
    {
     "name": "stderr",
     "output_type": "stream",
     "text": [
      "\r",
      "Parsing GSE120132:  72%|███████████████▉      | 397/549 [07:07<02:32,  1.01s/it]"
     ]
    },
    {
     "name": "stdout",
     "output_type": "stream",
     "text": [
      "  GSM3394568_Kidney_03351.CGfinal: 174 clock CpGs matched.\n"
     ]
    },
    {
     "name": "stderr",
     "output_type": "stream",
     "text": [
      "\r",
      "Parsing GSE120132:  72%|███████████████▉      | 398/549 [07:08<02:29,  1.01it/s]"
     ]
    },
    {
     "name": "stdout",
     "output_type": "stream",
     "text": [
      "  GSM3394569_Kidney_03352.CGfinal: 175 clock CpGs matched.\n"
     ]
    },
    {
     "name": "stderr",
     "output_type": "stream",
     "text": [
      "\r",
      "Parsing GSE120132:  73%|███████████████▉      | 399/549 [07:09<02:26,  1.02it/s]"
     ]
    },
    {
     "name": "stdout",
     "output_type": "stream",
     "text": [
      "  GSM3394570_Kidney_03353.CGfinal: 173 clock CpGs matched.\n"
     ]
    },
    {
     "name": "stderr",
     "output_type": "stream",
     "text": [
      "\r",
      "Parsing GSE120132:  73%|████████████████      | 400/549 [07:10<02:26,  1.02it/s]"
     ]
    },
    {
     "name": "stdout",
     "output_type": "stream",
     "text": [
      "  GSM3394571_Kidney_03354.CGfinal: 174 clock CpGs matched.\n"
     ]
    },
    {
     "name": "stderr",
     "output_type": "stream",
     "text": [
      "\r",
      "Parsing GSE120132:  73%|████████████████      | 401/549 [07:11<02:26,  1.01it/s]"
     ]
    },
    {
     "name": "stdout",
     "output_type": "stream",
     "text": [
      "  GSM3394572_Kidney_03355.CGfinal: 173 clock CpGs matched.\n"
     ]
    },
    {
     "name": "stderr",
     "output_type": "stream",
     "text": [
      "\r",
      "Parsing GSE120132:  73%|████████████████      | 402/549 [07:12<02:26,  1.00it/s]"
     ]
    },
    {
     "name": "stdout",
     "output_type": "stream",
     "text": [
      "  GSM3394573_Kidney_03356.CGfinal: 174 clock CpGs matched.\n"
     ]
    },
    {
     "name": "stderr",
     "output_type": "stream",
     "text": [
      "\r",
      "Parsing GSE120132:  73%|████████████████▏     | 403/549 [07:13<02:27,  1.01s/it]"
     ]
    },
    {
     "name": "stdout",
     "output_type": "stream",
     "text": [
      "  GSM3394574_Kidney_03357.CGfinal: 175 clock CpGs matched.\n"
     ]
    },
    {
     "name": "stderr",
     "output_type": "stream",
     "text": [
      "\r",
      "Parsing GSE120132:  74%|████████████████▏     | 404/549 [07:14<02:26,  1.01s/it]"
     ]
    },
    {
     "name": "stdout",
     "output_type": "stream",
     "text": [
      "  GSM3394575_Kidney_03358.CGfinal: 175 clock CpGs matched.\n"
     ]
    },
    {
     "name": "stderr",
     "output_type": "stream",
     "text": [
      "\r",
      "Parsing GSE120132:  74%|████████████████▏     | 405/549 [07:15<02:25,  1.01s/it]"
     ]
    },
    {
     "name": "stdout",
     "output_type": "stream",
     "text": [
      "  GSM3394576_Kidney_03359.CGfinal: 173 clock CpGs matched.\n"
     ]
    },
    {
     "name": "stderr",
     "output_type": "stream",
     "text": [
      "\r",
      "Parsing GSE120132:  74%|████████████████▎     | 406/549 [07:16<02:23,  1.00s/it]"
     ]
    },
    {
     "name": "stdout",
     "output_type": "stream",
     "text": [
      "  GSM3394577_Kidney_03360.CGfinal: 176 clock CpGs matched.\n"
     ]
    },
    {
     "name": "stderr",
     "output_type": "stream",
     "text": [
      "\r",
      "Parsing GSE120132:  74%|████████████████▎     | 407/549 [07:17<02:22,  1.01s/it]"
     ]
    },
    {
     "name": "stdout",
     "output_type": "stream",
     "text": [
      "  GSM3394578_Kidney_03361.CGfinal: 174 clock CpGs matched.\n"
     ]
    },
    {
     "name": "stderr",
     "output_type": "stream",
     "text": [
      "\r",
      "Parsing GSE120132:  74%|████████████████▎     | 408/549 [07:18<02:21,  1.01s/it]"
     ]
    },
    {
     "name": "stdout",
     "output_type": "stream",
     "text": [
      "  GSM3394579_Kidney_04906.CGfinal: 171 clock CpGs matched.\n"
     ]
    },
    {
     "name": "stderr",
     "output_type": "stream",
     "text": [
      "\r",
      "Parsing GSE120132:  74%|████████████████▍     | 409/549 [07:19<02:21,  1.01s/it]"
     ]
    },
    {
     "name": "stdout",
     "output_type": "stream",
     "text": [
      "  GSM3394580_Kidney_04907.CGfinal: 173 clock CpGs matched.\n"
     ]
    },
    {
     "name": "stderr",
     "output_type": "stream",
     "text": [
      "\r",
      "Parsing GSE120132:  75%|████████████████▍     | 410/549 [07:20<02:20,  1.01s/it]"
     ]
    },
    {
     "name": "stdout",
     "output_type": "stream",
     "text": [
      "  GSM3394581_Kidney_04908.CGfinal: 175 clock CpGs matched.\n"
     ]
    },
    {
     "name": "stderr",
     "output_type": "stream",
     "text": [
      "\r",
      "Parsing GSE120132:  75%|████████████████▍     | 411/549 [07:21<02:19,  1.01s/it]"
     ]
    },
    {
     "name": "stdout",
     "output_type": "stream",
     "text": [
      "  GSM3394582_Kidney_04909.CGfinal: 176 clock CpGs matched.\n"
     ]
    },
    {
     "name": "stderr",
     "output_type": "stream",
     "text": [
      "\r",
      "Parsing GSE120132:  75%|████████████████▌     | 412/549 [07:22<02:18,  1.01s/it]"
     ]
    },
    {
     "name": "stdout",
     "output_type": "stream",
     "text": [
      "  GSM3394583_Kidney_04910.CGfinal: 174 clock CpGs matched.\n"
     ]
    },
    {
     "name": "stderr",
     "output_type": "stream",
     "text": [
      "\r",
      "Parsing GSE120132:  75%|████████████████▌     | 413/549 [07:23<02:16,  1.01s/it]"
     ]
    },
    {
     "name": "stdout",
     "output_type": "stream",
     "text": [
      "  GSM3394584_Kidney_04911.CGfinal: 172 clock CpGs matched.\n"
     ]
    },
    {
     "name": "stderr",
     "output_type": "stream",
     "text": [
      "\r",
      "Parsing GSE120132:  75%|████████████████▌     | 414/549 [07:24<02:14,  1.00it/s]"
     ]
    },
    {
     "name": "stdout",
     "output_type": "stream",
     "text": [
      "  GSM3394585_Kidney_04912.CGfinal: 173 clock CpGs matched.\n"
     ]
    },
    {
     "name": "stderr",
     "output_type": "stream",
     "text": [
      "\r",
      "Parsing GSE120132:  76%|████████████████▋     | 415/549 [07:25<02:14,  1.00s/it]"
     ]
    },
    {
     "name": "stdout",
     "output_type": "stream",
     "text": [
      "  GSM3394586_Kidney_04913.CGfinal: 174 clock CpGs matched.\n"
     ]
    },
    {
     "name": "stderr",
     "output_type": "stream",
     "text": [
      "\r",
      "Parsing GSE120132:  76%|████████████████▋     | 416/549 [07:26<02:14,  1.01s/it]"
     ]
    },
    {
     "name": "stdout",
     "output_type": "stream",
     "text": [
      "  GSM3394587_Kidney_04914.CGfinal: 173 clock CpGs matched.\n"
     ]
    },
    {
     "name": "stderr",
     "output_type": "stream",
     "text": [
      "\r",
      "Parsing GSE120132:  76%|████████████████▋     | 417/549 [07:27<02:13,  1.01s/it]"
     ]
    },
    {
     "name": "stdout",
     "output_type": "stream",
     "text": [
      "  GSM3394588_Kidney_04915.CGfinal: 175 clock CpGs matched.\n"
     ]
    },
    {
     "name": "stderr",
     "output_type": "stream",
     "text": [
      "\r",
      "Parsing GSE120132:  76%|████████████████▊     | 418/549 [07:28<02:11,  1.01s/it]"
     ]
    },
    {
     "name": "stdout",
     "output_type": "stream",
     "text": [
      "  GSM3394589_Kidney_04916.CGfinal: 173 clock CpGs matched.\n"
     ]
    },
    {
     "name": "stderr",
     "output_type": "stream",
     "text": [
      "\r",
      "Parsing GSE120132:  76%|████████████████▊     | 419/549 [07:29<02:10,  1.01s/it]"
     ]
    },
    {
     "name": "stdout",
     "output_type": "stream",
     "text": [
      "  GSM3394590_Kidney_04917.CGfinal: 173 clock CpGs matched.\n"
     ]
    },
    {
     "name": "stderr",
     "output_type": "stream",
     "text": [
      "\r",
      "Parsing GSE120132:  77%|████████████████▊     | 420/549 [07:30<02:09,  1.00s/it]"
     ]
    },
    {
     "name": "stdout",
     "output_type": "stream",
     "text": [
      "  GSM3394591_Kidney_04918.CGfinal: 174 clock CpGs matched.\n"
     ]
    },
    {
     "name": "stderr",
     "output_type": "stream",
     "text": [
      "\r",
      "Parsing GSE120132:  77%|████████████████▊     | 421/549 [07:31<02:08,  1.01s/it]"
     ]
    },
    {
     "name": "stdout",
     "output_type": "stream",
     "text": [
      "  GSM3394592_Kidney_04919.CGfinal: 175 clock CpGs matched.\n"
     ]
    },
    {
     "name": "stderr",
     "output_type": "stream",
     "text": [
      "\r",
      "Parsing GSE120132:  77%|████████████████▉     | 422/549 [07:32<02:07,  1.01s/it]"
     ]
    },
    {
     "name": "stdout",
     "output_type": "stream",
     "text": [
      "  GSM3394593_Kidney_04920.CGfinal: 175 clock CpGs matched.\n"
     ]
    },
    {
     "name": "stderr",
     "output_type": "stream",
     "text": [
      "\r",
      "Parsing GSE120132:  77%|████████████████▉     | 423/549 [07:33<02:07,  1.01s/it]"
     ]
    },
    {
     "name": "stdout",
     "output_type": "stream",
     "text": [
      "  GSM3394594_Kidney_04921.CGfinal: 173 clock CpGs matched.\n"
     ]
    },
    {
     "name": "stderr",
     "output_type": "stream",
     "text": [
      "\r",
      "Parsing GSE120132:  77%|████████████████▉     | 424/549 [07:34<02:06,  1.01s/it]"
     ]
    },
    {
     "name": "stdout",
     "output_type": "stream",
     "text": [
      "  GSM3394595_Kidney_04922.CGfinal: 171 clock CpGs matched.\n"
     ]
    },
    {
     "name": "stderr",
     "output_type": "stream",
     "text": [
      "\r",
      "Parsing GSE120132:  77%|█████████████████     | 425/549 [07:35<02:04,  1.01s/it]"
     ]
    },
    {
     "name": "stdout",
     "output_type": "stream",
     "text": [
      "  GSM3394596_Kidney_04923.CGfinal: 175 clock CpGs matched.\n"
     ]
    },
    {
     "name": "stderr",
     "output_type": "stream",
     "text": [
      "\r",
      "Parsing GSE120132:  78%|█████████████████     | 426/549 [07:36<02:03,  1.01s/it]"
     ]
    },
    {
     "name": "stdout",
     "output_type": "stream",
     "text": [
      "  GSM3394597_Kidney_04924.CGfinal: 174 clock CpGs matched.\n"
     ]
    },
    {
     "name": "stderr",
     "output_type": "stream",
     "text": [
      "\r",
      "Parsing GSE120132:  78%|█████████████████     | 427/549 [07:37<02:02,  1.01s/it]"
     ]
    },
    {
     "name": "stdout",
     "output_type": "stream",
     "text": [
      "  GSM3394598_Kidney_04925.CGfinal: 172 clock CpGs matched.\n"
     ]
    },
    {
     "name": "stderr",
     "output_type": "stream",
     "text": [
      "\r",
      "Parsing GSE120132:  78%|█████████████████▏    | 428/549 [07:38<02:01,  1.01s/it]"
     ]
    },
    {
     "name": "stdout",
     "output_type": "stream",
     "text": [
      "  GSM3394599_Kidney_04926.CGfinal: 173 clock CpGs matched.\n"
     ]
    },
    {
     "name": "stderr",
     "output_type": "stream",
     "text": [
      "\r",
      "Parsing GSE120132:  78%|█████████████████▏    | 429/549 [07:39<02:00,  1.01s/it]"
     ]
    },
    {
     "name": "stdout",
     "output_type": "stream",
     "text": [
      "  GSM3394600_Kidney_04927.CGfinal: 172 clock CpGs matched.\n"
     ]
    },
    {
     "name": "stderr",
     "output_type": "stream",
     "text": [
      "\r",
      "Parsing GSE120132:  78%|█████████████████▏    | 430/549 [07:40<01:59,  1.01s/it]"
     ]
    },
    {
     "name": "stdout",
     "output_type": "stream",
     "text": [
      "  GSM3394601_Kidney_04928.CGfinal: 176 clock CpGs matched.\n"
     ]
    },
    {
     "name": "stderr",
     "output_type": "stream",
     "text": [
      "\r",
      "Parsing GSE120132:  79%|█████████████████▎    | 431/549 [07:41<01:58,  1.00s/it]"
     ]
    },
    {
     "name": "stdout",
     "output_type": "stream",
     "text": [
      "  GSM3394602_Kidney_04929.CGfinal: 174 clock CpGs matched.\n"
     ]
    },
    {
     "name": "stderr",
     "output_type": "stream",
     "text": [
      "\r",
      "Parsing GSE120132:  79%|█████████████████▎    | 432/549 [07:42<01:57,  1.00s/it]"
     ]
    },
    {
     "name": "stdout",
     "output_type": "stream",
     "text": [
      "  GSM3394603_Kidney_04930.CGfinal: 175 clock CpGs matched.\n"
     ]
    },
    {
     "name": "stderr",
     "output_type": "stream",
     "text": [
      "\r",
      "Parsing GSE120132:  79%|█████████████████▎    | 433/549 [07:43<01:56,  1.01s/it]"
     ]
    },
    {
     "name": "stdout",
     "output_type": "stream",
     "text": [
      "  GSM3394604_Kidney_04931.CGfinal: 174 clock CpGs matched.\n"
     ]
    },
    {
     "name": "stderr",
     "output_type": "stream",
     "text": [
      "\r",
      "Parsing GSE120132:  79%|█████████████████▍    | 434/549 [07:44<01:55,  1.00s/it]"
     ]
    },
    {
     "name": "stdout",
     "output_type": "stream",
     "text": [
      "  GSM3394605_Kidney_04932.CGfinal: 174 clock CpGs matched.\n"
     ]
    },
    {
     "name": "stderr",
     "output_type": "stream",
     "text": [
      "\r",
      "Parsing GSE120132:  79%|█████████████████▍    | 435/549 [07:45<01:54,  1.01s/it]"
     ]
    },
    {
     "name": "stdout",
     "output_type": "stream",
     "text": [
      "  GSM3394606_Kidney_04933.CGfinal: 176 clock CpGs matched.\n"
     ]
    },
    {
     "name": "stderr",
     "output_type": "stream",
     "text": [
      "\r",
      "Parsing GSE120132:  79%|█████████████████▍    | 436/549 [07:46<01:53,  1.01s/it]"
     ]
    },
    {
     "name": "stdout",
     "output_type": "stream",
     "text": [
      "  GSM3394607_Kidney_04934.CGfinal: 174 clock CpGs matched.\n"
     ]
    },
    {
     "name": "stderr",
     "output_type": "stream",
     "text": [
      "\r",
      "Parsing GSE120132:  80%|█████████████████▌    | 437/549 [07:47<01:53,  1.01s/it]"
     ]
    },
    {
     "name": "stdout",
     "output_type": "stream",
     "text": [
      "  GSM3394608_Kidney_04935.CGfinal: 174 clock CpGs matched.\n"
     ]
    },
    {
     "name": "stderr",
     "output_type": "stream",
     "text": [
      "\r",
      "Parsing GSE120132:  80%|█████████████████▌    | 438/549 [07:48<01:52,  1.01s/it]"
     ]
    },
    {
     "name": "stdout",
     "output_type": "stream",
     "text": [
      "  GSM3394609_Kidney_04936.CGfinal: 170 clock CpGs matched.\n"
     ]
    },
    {
     "name": "stderr",
     "output_type": "stream",
     "text": [
      "\r",
      "Parsing GSE120132:  80%|█████████████████▌    | 439/549 [07:49<01:51,  1.01s/it]"
     ]
    },
    {
     "name": "stdout",
     "output_type": "stream",
     "text": [
      "  GSM3394610_Kidney_04937.CGfinal: 175 clock CpGs matched.\n"
     ]
    },
    {
     "name": "stderr",
     "output_type": "stream",
     "text": [
      "\r",
      "Parsing GSE120132:  80%|█████████████████▋    | 440/549 [07:50<01:50,  1.02s/it]"
     ]
    },
    {
     "name": "stdout",
     "output_type": "stream",
     "text": [
      "  GSM3394611_Kidney_04938.CGfinal: 172 clock CpGs matched.\n"
     ]
    },
    {
     "name": "stderr",
     "output_type": "stream",
     "text": [
      "\r",
      "Parsing GSE120132:  80%|█████████████████▋    | 441/549 [07:51<01:49,  1.02s/it]"
     ]
    },
    {
     "name": "stdout",
     "output_type": "stream",
     "text": [
      "  GSM3394612_Kidney_04939.CGfinal: 174 clock CpGs matched.\n"
     ]
    },
    {
     "name": "stderr",
     "output_type": "stream",
     "text": [
      "\r",
      "Parsing GSE120132:  81%|█████████████████▋    | 442/549 [07:52<01:48,  1.01s/it]"
     ]
    },
    {
     "name": "stdout",
     "output_type": "stream",
     "text": [
      "  GSM3394613_Kidney_04940.CGfinal: 175 clock CpGs matched.\n"
     ]
    },
    {
     "name": "stderr",
     "output_type": "stream",
     "text": [
      "\r",
      "Parsing GSE120132:  81%|█████████████████▊    | 443/549 [07:53<01:46,  1.01s/it]"
     ]
    },
    {
     "name": "stdout",
     "output_type": "stream",
     "text": [
      "  GSM3394614_Kidney_04941.CGfinal: 175 clock CpGs matched.\n"
     ]
    },
    {
     "name": "stderr",
     "output_type": "stream",
     "text": [
      "\r",
      "Parsing GSE120132:  81%|█████████████████▊    | 444/549 [07:54<01:45,  1.00s/it]"
     ]
    },
    {
     "name": "stdout",
     "output_type": "stream",
     "text": [
      "  GSM3394615_Kidney_04942.CGfinal: 174 clock CpGs matched.\n"
     ]
    },
    {
     "name": "stderr",
     "output_type": "stream",
     "text": [
      "\r",
      "Parsing GSE120132:  81%|█████████████████▊    | 445/549 [07:55<01:45,  1.02s/it]"
     ]
    },
    {
     "name": "stdout",
     "output_type": "stream",
     "text": [
      "  GSM3394616_Kidney_04943.CGfinal: 171 clock CpGs matched.\n"
     ]
    },
    {
     "name": "stderr",
     "output_type": "stream",
     "text": [
      "\r",
      "Parsing GSE120132:  81%|█████████████████▊    | 446/549 [07:56<01:44,  1.01s/it]"
     ]
    },
    {
     "name": "stdout",
     "output_type": "stream",
     "text": [
      "  GSM3394617_Kidney_04944.CGfinal: 175 clock CpGs matched.\n"
     ]
    },
    {
     "name": "stderr",
     "output_type": "stream",
     "text": [
      "\r",
      "Parsing GSE120132:  81%|█████████████████▉    | 447/549 [07:57<01:43,  1.01s/it]"
     ]
    },
    {
     "name": "stdout",
     "output_type": "stream",
     "text": [
      "  GSM3394618_Kidney_04945.CGfinal: 173 clock CpGs matched.\n"
     ]
    },
    {
     "name": "stderr",
     "output_type": "stream",
     "text": [
      "\r",
      "Parsing GSE120132:  82%|█████████████████▉    | 448/549 [07:58<01:41,  1.01s/it]"
     ]
    },
    {
     "name": "stdout",
     "output_type": "stream",
     "text": [
      "  GSM3394619_Kidney_04946.CGfinal: 175 clock CpGs matched.\n"
     ]
    },
    {
     "name": "stderr",
     "output_type": "stream",
     "text": [
      "\r",
      "Parsing GSE120132:  82%|█████████████████▉    | 449/549 [07:59<01:40,  1.01s/it]"
     ]
    },
    {
     "name": "stdout",
     "output_type": "stream",
     "text": [
      "  GSM3394620_Kidney_04947.CGfinal: 175 clock CpGs matched.\n"
     ]
    },
    {
     "name": "stderr",
     "output_type": "stream",
     "text": [
      "\r",
      "Parsing GSE120132:  82%|██████████████████    | 450/549 [08:00<01:39,  1.01s/it]"
     ]
    },
    {
     "name": "stdout",
     "output_type": "stream",
     "text": [
      "  GSM3394621_Kidney_04948.CGfinal: 176 clock CpGs matched.\n"
     ]
    },
    {
     "name": "stderr",
     "output_type": "stream",
     "text": [
      "\r",
      "Parsing GSE120132:  82%|██████████████████    | 451/549 [08:01<01:38,  1.01s/it]"
     ]
    },
    {
     "name": "stdout",
     "output_type": "stream",
     "text": [
      "  GSM3394622_Kidney_04949.CGfinal: 173 clock CpGs matched.\n"
     ]
    },
    {
     "name": "stderr",
     "output_type": "stream",
     "text": [
      "\r",
      "Parsing GSE120132:  82%|██████████████████    | 452/549 [08:03<01:38,  1.01s/it]"
     ]
    },
    {
     "name": "stdout",
     "output_type": "stream",
     "text": [
      "  GSM3394623_Kidney_04950.CGfinal: 175 clock CpGs matched.\n"
     ]
    },
    {
     "name": "stderr",
     "output_type": "stream",
     "text": [
      "\r",
      "Parsing GSE120132:  83%|██████████████████▏   | 453/549 [08:04<01:36,  1.01s/it]"
     ]
    },
    {
     "name": "stdout",
     "output_type": "stream",
     "text": [
      "  GSM3394624_Kidney_04952.CGfinal: 175 clock CpGs matched.\n"
     ]
    },
    {
     "name": "stderr",
     "output_type": "stream",
     "text": [
      "\r",
      "Parsing GSE120132:  83%|██████████████████▏   | 454/549 [08:05<01:35,  1.00s/it]"
     ]
    },
    {
     "name": "stdout",
     "output_type": "stream",
     "text": [
      "  GSM3394625_Kidney_04953.CGfinal: 174 clock CpGs matched.\n"
     ]
    },
    {
     "name": "stderr",
     "output_type": "stream",
     "text": [
      "\r",
      "Parsing GSE120132:  83%|██████████████████▏   | 455/549 [08:05<01:33,  1.01it/s]"
     ]
    },
    {
     "name": "stdout",
     "output_type": "stream",
     "text": [
      "  GSM3394626_Kidney_04954.CGfinal: 174 clock CpGs matched.\n"
     ]
    },
    {
     "name": "stderr",
     "output_type": "stream",
     "text": [
      "\r",
      "Parsing GSE120132:  83%|██████████████████▎   | 456/549 [08:06<01:32,  1.01it/s]"
     ]
    },
    {
     "name": "stdout",
     "output_type": "stream",
     "text": [
      "  GSM3394627_Kidney_04955.CGfinal: 175 clock CpGs matched.\n"
     ]
    },
    {
     "name": "stderr",
     "output_type": "stream",
     "text": [
      "\r",
      "Parsing GSE120132:  83%|██████████████████▎   | 457/549 [08:07<01:30,  1.01it/s]"
     ]
    },
    {
     "name": "stdout",
     "output_type": "stream",
     "text": [
      "  GSM3394628_Kidney_04956.CGfinal: 174 clock CpGs matched.\n"
     ]
    },
    {
     "name": "stderr",
     "output_type": "stream",
     "text": [
      "\r",
      "Parsing GSE120132:  83%|██████████████████▎   | 458/549 [08:08<01:28,  1.02it/s]"
     ]
    },
    {
     "name": "stdout",
     "output_type": "stream",
     "text": [
      "  GSM3394629_Kidney_04957.CGfinal: 170 clock CpGs matched.\n"
     ]
    },
    {
     "name": "stderr",
     "output_type": "stream",
     "text": [
      "\r",
      "Parsing GSE120132:  84%|██████████████████▍   | 459/549 [08:09<01:28,  1.02it/s]"
     ]
    },
    {
     "name": "stdout",
     "output_type": "stream",
     "text": [
      "  GSM3394630_Kidney_04958.CGfinal: 174 clock CpGs matched.\n"
     ]
    },
    {
     "name": "stderr",
     "output_type": "stream",
     "text": [
      "\r",
      "Parsing GSE120132:  84%|██████████████████▍   | 460/549 [08:10<01:27,  1.02it/s]"
     ]
    },
    {
     "name": "stdout",
     "output_type": "stream",
     "text": [
      "  GSM3394631_Kidney_04959.CGfinal: 174 clock CpGs matched.\n"
     ]
    },
    {
     "name": "stderr",
     "output_type": "stream",
     "text": [
      "\r",
      "Parsing GSE120132:  84%|██████████████████▍   | 461/549 [08:11<01:26,  1.02it/s]"
     ]
    },
    {
     "name": "stdout",
     "output_type": "stream",
     "text": [
      "  GSM3394632_Kidney_04960.CGfinal: 175 clock CpGs matched.\n"
     ]
    },
    {
     "name": "stderr",
     "output_type": "stream",
     "text": [
      "\r",
      "Parsing GSE120132:  84%|██████████████████▌   | 462/549 [08:12<01:25,  1.02it/s]"
     ]
    },
    {
     "name": "stdout",
     "output_type": "stream",
     "text": [
      "  GSM3394633_Kidney_04961.CGfinal: 174 clock CpGs matched.\n"
     ]
    },
    {
     "name": "stderr",
     "output_type": "stream",
     "text": [
      "\r",
      "Parsing GSE120132:  84%|██████████████████▌   | 463/549 [08:13<01:25,  1.01it/s]"
     ]
    },
    {
     "name": "stdout",
     "output_type": "stream",
     "text": [
      "  GSM3394634_Kidney_04962.CGfinal: 176 clock CpGs matched.\n"
     ]
    },
    {
     "name": "stderr",
     "output_type": "stream",
     "text": [
      "\r",
      "Parsing GSE120132:  85%|██████████████████▌   | 464/549 [08:14<01:24,  1.00it/s]"
     ]
    },
    {
     "name": "stdout",
     "output_type": "stream",
     "text": [
      "  GSM3394635_Kidney_04963.CGfinal: 176 clock CpGs matched.\n"
     ]
    },
    {
     "name": "stderr",
     "output_type": "stream",
     "text": [
      "\r",
      "Parsing GSE120132:  85%|██████████████████▋   | 465/549 [08:15<01:23,  1.00it/s]"
     ]
    },
    {
     "name": "stdout",
     "output_type": "stream",
     "text": [
      "  GSM3394636_Kidney_04964.CGfinal: 173 clock CpGs matched.\n"
     ]
    },
    {
     "name": "stderr",
     "output_type": "stream",
     "text": [
      "\r",
      "Parsing GSE120132:  85%|██████████████████▋   | 466/549 [08:16<01:22,  1.00it/s]"
     ]
    },
    {
     "name": "stdout",
     "output_type": "stream",
     "text": [
      "  GSM3394637_Kidney_04965.CGfinal: 173 clock CpGs matched.\n"
     ]
    },
    {
     "name": "stderr",
     "output_type": "stream",
     "text": [
      "\r",
      "Parsing GSE120132:  85%|██████████████████▋   | 467/549 [08:17<01:21,  1.00it/s]"
     ]
    },
    {
     "name": "stdout",
     "output_type": "stream",
     "text": [
      "  GSM3394638_Kidney_04966.CGfinal: 176 clock CpGs matched.\n"
     ]
    },
    {
     "name": "stderr",
     "output_type": "stream",
     "text": [
      "\r",
      "Parsing GSE120132:  85%|██████████████████▊   | 468/549 [08:18<01:21,  1.01s/it]"
     ]
    },
    {
     "name": "stdout",
     "output_type": "stream",
     "text": [
      "  GSM3394639_Kidney_04967.CGfinal: 174 clock CpGs matched.\n"
     ]
    },
    {
     "name": "stderr",
     "output_type": "stream",
     "text": [
      "\r",
      "Parsing GSE120132:  85%|██████████████████▊   | 469/549 [08:20<01:26,  1.08s/it]"
     ]
    },
    {
     "name": "stdout",
     "output_type": "stream",
     "text": [
      "  GSM3394640_Kidney_04968.CGfinal: 174 clock CpGs matched.\n"
     ]
    },
    {
     "name": "stderr",
     "output_type": "stream",
     "text": [
      "\r",
      "Parsing GSE120132:  86%|██████████████████▊   | 470/549 [08:21<01:24,  1.07s/it]"
     ]
    },
    {
     "name": "stdout",
     "output_type": "stream",
     "text": [
      "  GSM3394641_Kidney_04969.CGfinal: 174 clock CpGs matched.\n"
     ]
    },
    {
     "name": "stderr",
     "output_type": "stream",
     "text": [
      "\r",
      "Parsing GSE120132:  86%|██████████████████▊   | 471/549 [08:22<01:21,  1.05s/it]"
     ]
    },
    {
     "name": "stdout",
     "output_type": "stream",
     "text": [
      "  GSM3394642_Kidney_04970.CGfinal: 173 clock CpGs matched.\n"
     ]
    },
    {
     "name": "stderr",
     "output_type": "stream",
     "text": [
      "\r",
      "Parsing GSE120132:  86%|██████████████████▉   | 472/549 [08:23<01:20,  1.04s/it]"
     ]
    },
    {
     "name": "stdout",
     "output_type": "stream",
     "text": [
      "  GSM3394643_Kidney_04971.CGfinal: 173 clock CpGs matched.\n"
     ]
    },
    {
     "name": "stderr",
     "output_type": "stream",
     "text": [
      "\r",
      "Parsing GSE120132:  86%|██████████████████▉   | 473/549 [08:24<01:18,  1.03s/it]"
     ]
    },
    {
     "name": "stdout",
     "output_type": "stream",
     "text": [
      "  GSM3394644_Kidney_04972.CGfinal: 175 clock CpGs matched.\n"
     ]
    },
    {
     "name": "stderr",
     "output_type": "stream",
     "text": [
      "\r",
      "Parsing GSE120132:  86%|██████████████████▉   | 474/549 [08:25<01:16,  1.03s/it]"
     ]
    },
    {
     "name": "stdout",
     "output_type": "stream",
     "text": [
      "  GSM3394645_Kidney_04973.CGfinal: 173 clock CpGs matched.\n"
     ]
    },
    {
     "name": "stderr",
     "output_type": "stream",
     "text": [
      "\r",
      "Parsing GSE120132:  87%|███████████████████   | 475/549 [08:26<01:15,  1.02s/it]"
     ]
    },
    {
     "name": "stdout",
     "output_type": "stream",
     "text": [
      "  GSM3394646_Kidney_04974.CGfinal: 173 clock CpGs matched.\n"
     ]
    },
    {
     "name": "stderr",
     "output_type": "stream",
     "text": [
      "\r",
      "Parsing GSE120132:  87%|███████████████████   | 476/549 [08:27<01:13,  1.01s/it]"
     ]
    },
    {
     "name": "stdout",
     "output_type": "stream",
     "text": [
      "  GSM3394647_Kidney_04975.CGfinal: 175 clock CpGs matched.\n"
     ]
    },
    {
     "name": "stderr",
     "output_type": "stream",
     "text": [
      "\r",
      "Parsing GSE120132:  87%|███████████████████   | 477/549 [08:28<01:12,  1.01s/it]"
     ]
    },
    {
     "name": "stdout",
     "output_type": "stream",
     "text": [
      "  GSM3394648_Kidney_04976.CGfinal: 174 clock CpGs matched.\n"
     ]
    },
    {
     "name": "stderr",
     "output_type": "stream",
     "text": [
      "\r",
      "Parsing GSE120132:  87%|███████████████████▏  | 478/549 [08:29<01:11,  1.00s/it]"
     ]
    },
    {
     "name": "stdout",
     "output_type": "stream",
     "text": [
      "  GSM3394649_Kidney_04977.CGfinal: 175 clock CpGs matched.\n"
     ]
    },
    {
     "name": "stderr",
     "output_type": "stream",
     "text": [
      "\r",
      "Parsing GSE120132:  87%|███████████████████▏  | 479/549 [08:30<01:09,  1.01it/s]"
     ]
    },
    {
     "name": "stdout",
     "output_type": "stream",
     "text": [
      "  GSM3394650_Kidney_04978.CGfinal: 171 clock CpGs matched.\n"
     ]
    },
    {
     "name": "stderr",
     "output_type": "stream",
     "text": [
      "\r",
      "Parsing GSE120132:  87%|███████████████████▏  | 480/549 [08:31<01:08,  1.00it/s]"
     ]
    },
    {
     "name": "stdout",
     "output_type": "stream",
     "text": [
      "  GSM3394651_Kidney_04979.CGfinal: 172 clock CpGs matched.\n"
     ]
    },
    {
     "name": "stderr",
     "output_type": "stream",
     "text": [
      "\r",
      "Parsing GSE120132:  88%|███████████████████▎  | 481/549 [08:32<01:08,  1.00s/it]"
     ]
    },
    {
     "name": "stdout",
     "output_type": "stream",
     "text": [
      "  GSM3394652_Kidney_04980.CGfinal: 173 clock CpGs matched.\n"
     ]
    },
    {
     "name": "stderr",
     "output_type": "stream",
     "text": [
      "\r",
      "Parsing GSE120132:  88%|███████████████████▎  | 482/549 [08:33<01:08,  1.02s/it]"
     ]
    },
    {
     "name": "stdout",
     "output_type": "stream",
     "text": [
      "  GSM3394653_Kidney_04981.CGfinal: 175 clock CpGs matched.\n"
     ]
    },
    {
     "name": "stderr",
     "output_type": "stream",
     "text": [
      "\r",
      "Parsing GSE120132:  88%|███████████████████▎  | 483/549 [08:34<01:06,  1.01s/it]"
     ]
    },
    {
     "name": "stdout",
     "output_type": "stream",
     "text": [
      "  GSM3394654_Kidney_04982.CGfinal: 174 clock CpGs matched.\n"
     ]
    },
    {
     "name": "stderr",
     "output_type": "stream",
     "text": [
      "\r",
      "Parsing GSE120132:  88%|███████████████████▍  | 484/549 [08:35<01:05,  1.01s/it]"
     ]
    },
    {
     "name": "stdout",
     "output_type": "stream",
     "text": [
      "  GSM3394655_Kidney_04983.CGfinal: 175 clock CpGs matched.\n"
     ]
    },
    {
     "name": "stderr",
     "output_type": "stream",
     "text": [
      "\r",
      "Parsing GSE120132:  88%|███████████████████▍  | 485/549 [08:36<01:04,  1.01s/it]"
     ]
    },
    {
     "name": "stdout",
     "output_type": "stream",
     "text": [
      "  GSM3394656_Kidney_04984.CGfinal: 175 clock CpGs matched.\n"
     ]
    },
    {
     "name": "stderr",
     "output_type": "stream",
     "text": [
      "\r",
      "Parsing GSE120132:  89%|███████████████████▍  | 486/549 [08:37<01:03,  1.00s/it]"
     ]
    },
    {
     "name": "stdout",
     "output_type": "stream",
     "text": [
      "  GSM3394657_Kidney_04985.CGfinal: 175 clock CpGs matched.\n"
     ]
    },
    {
     "name": "stderr",
     "output_type": "stream",
     "text": [
      "\r",
      "Parsing GSE120132:  89%|███████████████████▌  | 487/549 [08:38<01:02,  1.00s/it]"
     ]
    },
    {
     "name": "stdout",
     "output_type": "stream",
     "text": [
      "  GSM3394658_Kidney_04986.CGfinal: 175 clock CpGs matched.\n"
     ]
    },
    {
     "name": "stderr",
     "output_type": "stream",
     "text": [
      "\r",
      "Parsing GSE120132:  89%|███████████████████▌  | 488/549 [08:39<01:01,  1.00s/it]"
     ]
    },
    {
     "name": "stdout",
     "output_type": "stream",
     "text": [
      "  GSM3394659_Kidney_04987.CGfinal: 172 clock CpGs matched.\n"
     ]
    },
    {
     "name": "stderr",
     "output_type": "stream",
     "text": [
      "\r",
      "Parsing GSE120132:  89%|███████████████████▌  | 489/549 [08:40<00:59,  1.00it/s]"
     ]
    },
    {
     "name": "stdout",
     "output_type": "stream",
     "text": [
      "  GSM3394660_Kidney_04988.CGfinal: 175 clock CpGs matched.\n"
     ]
    },
    {
     "name": "stderr",
     "output_type": "stream",
     "text": [
      "\r",
      "Parsing GSE120132:  89%|███████████████████▋  | 490/549 [08:41<00:58,  1.01it/s]"
     ]
    },
    {
     "name": "stdout",
     "output_type": "stream",
     "text": [
      "  GSM3394661_Kidney_04989.CGfinal: 175 clock CpGs matched.\n"
     ]
    },
    {
     "name": "stderr",
     "output_type": "stream",
     "text": [
      "\r",
      "Parsing GSE120132:  89%|███████████████████▋  | 491/549 [08:42<00:57,  1.01it/s]"
     ]
    },
    {
     "name": "stdout",
     "output_type": "stream",
     "text": [
      "  GSM3394662_Kidney_04990.CGfinal: 174 clock CpGs matched.\n"
     ]
    },
    {
     "name": "stderr",
     "output_type": "stream",
     "text": [
      "\r",
      "Parsing GSE120132:  90%|███████████████████▋  | 492/549 [08:43<00:56,  1.01it/s]"
     ]
    },
    {
     "name": "stdout",
     "output_type": "stream",
     "text": [
      "  GSM3394663_Kidney_04991.CGfinal: 172 clock CpGs matched.\n"
     ]
    },
    {
     "name": "stderr",
     "output_type": "stream",
     "text": [
      "\r",
      "Parsing GSE120132:  90%|███████████████████▊  | 493/549 [08:44<00:55,  1.00it/s]"
     ]
    },
    {
     "name": "stdout",
     "output_type": "stream",
     "text": [
      "  GSM3394664_Kidney_04992.CGfinal: 175 clock CpGs matched.\n"
     ]
    },
    {
     "name": "stderr",
     "output_type": "stream",
     "text": [
      "\r",
      "Parsing GSE120132:  90%|███████████████████▊  | 494/549 [08:45<00:54,  1.01it/s]"
     ]
    },
    {
     "name": "stdout",
     "output_type": "stream",
     "text": [
      "  GSM3394665_Kidney_04993.CGfinal: 176 clock CpGs matched.\n"
     ]
    },
    {
     "name": "stderr",
     "output_type": "stream",
     "text": [
      "\r",
      "Parsing GSE120132:  90%|███████████████████▊  | 495/549 [08:46<00:53,  1.00it/s]"
     ]
    },
    {
     "name": "stdout",
     "output_type": "stream",
     "text": [
      "  GSM3394666_Kidney_04994.CGfinal: 176 clock CpGs matched.\n"
     ]
    },
    {
     "name": "stderr",
     "output_type": "stream",
     "text": [
      "\r",
      "Parsing GSE120132:  90%|███████████████████▉  | 496/549 [08:47<00:53,  1.00s/it]"
     ]
    },
    {
     "name": "stdout",
     "output_type": "stream",
     "text": [
      "  GSM3394667_Kidney_04995.CGfinal: 173 clock CpGs matched.\n"
     ]
    },
    {
     "name": "stderr",
     "output_type": "stream",
     "text": [
      "\r",
      "Parsing GSE120132:  91%|███████████████████▉  | 497/549 [08:48<00:51,  1.00it/s]"
     ]
    },
    {
     "name": "stdout",
     "output_type": "stream",
     "text": [
      "  GSM3394668_Kidney_04996.CGfinal: 176 clock CpGs matched.\n"
     ]
    },
    {
     "name": "stderr",
     "output_type": "stream",
     "text": [
      "\r",
      "Parsing GSE120132:  91%|███████████████████▉  | 498/549 [08:49<00:50,  1.00it/s]"
     ]
    },
    {
     "name": "stdout",
     "output_type": "stream",
     "text": [
      "  GSM3394669_Kidney_04997.CGfinal: 175 clock CpGs matched.\n"
     ]
    },
    {
     "name": "stderr",
     "output_type": "stream",
     "text": [
      "\r",
      "Parsing GSE120132:  91%|███████████████████▉  | 499/549 [08:50<00:49,  1.00it/s]"
     ]
    },
    {
     "name": "stdout",
     "output_type": "stream",
     "text": [
      "  GSM3394670_Kidney_04998.CGfinal: 174 clock CpGs matched.\n"
     ]
    },
    {
     "name": "stderr",
     "output_type": "stream",
     "text": [
      "\r",
      "Parsing GSE120132:  91%|████████████████████  | 500/549 [08:51<00:48,  1.00it/s]"
     ]
    },
    {
     "name": "stdout",
     "output_type": "stream",
     "text": [
      "  GSM3394671_Kidney_04999.CGfinal: 171 clock CpGs matched.\n"
     ]
    },
    {
     "name": "stderr",
     "output_type": "stream",
     "text": [
      "\r",
      "Parsing GSE120132:  91%|████████████████████  | 501/549 [08:52<00:47,  1.00it/s]"
     ]
    },
    {
     "name": "stdout",
     "output_type": "stream",
     "text": [
      "  GSM3394672_Kidney_05000.CGfinal: 173 clock CpGs matched.\n"
     ]
    },
    {
     "name": "stderr",
     "output_type": "stream",
     "text": [
      "\r",
      "Parsing GSE120132:  91%|████████████████████  | 502/549 [08:53<00:46,  1.00it/s]"
     ]
    },
    {
     "name": "stdout",
     "output_type": "stream",
     "text": [
      "  GSM3394673_Kidney_05001.CGfinal: 176 clock CpGs matched.\n"
     ]
    },
    {
     "name": "stderr",
     "output_type": "stream",
     "text": [
      "\r",
      "Parsing GSE120132:  92%|████████████████████▏ | 503/549 [08:54<00:46,  1.00s/it]"
     ]
    },
    {
     "name": "stdout",
     "output_type": "stream",
     "text": [
      "  GSM3394674_Kidney_05002.CGfinal: 174 clock CpGs matched.\n"
     ]
    },
    {
     "name": "stderr",
     "output_type": "stream",
     "text": [
      "\r",
      "Parsing GSE120132:  92%|████████████████████▏ | 504/549 [08:55<00:45,  1.00s/it]"
     ]
    },
    {
     "name": "stdout",
     "output_type": "stream",
     "text": [
      "  GSM3394675_Kidney_05003.CGfinal: 175 clock CpGs matched.\n"
     ]
    },
    {
     "name": "stderr",
     "output_type": "stream",
     "text": [
      "\r",
      "Parsing GSE120132:  92%|████████████████████▏ | 505/549 [08:56<00:44,  1.02s/it]"
     ]
    },
    {
     "name": "stdout",
     "output_type": "stream",
     "text": [
      "  GSM3394676_Kidney_05004.CGfinal: 174 clock CpGs matched.\n"
     ]
    },
    {
     "name": "stderr",
     "output_type": "stream",
     "text": [
      "\r",
      "Parsing GSE120132:  92%|████████████████████▎ | 506/549 [08:57<00:43,  1.01s/it]"
     ]
    },
    {
     "name": "stdout",
     "output_type": "stream",
     "text": [
      "  GSM3394677_Kidney_05005.CGfinal: 173 clock CpGs matched.\n"
     ]
    },
    {
     "name": "stderr",
     "output_type": "stream",
     "text": [
      "\r",
      "Parsing GSE120132:  92%|████████████████████▎ | 507/549 [08:58<00:42,  1.01s/it]"
     ]
    },
    {
     "name": "stdout",
     "output_type": "stream",
     "text": [
      "  GSM3394678_Kidney_05006.CGfinal: 174 clock CpGs matched.\n"
     ]
    },
    {
     "name": "stderr",
     "output_type": "stream",
     "text": [
      "\r",
      "Parsing GSE120132:  93%|████████████████████▎ | 508/549 [08:59<00:41,  1.01s/it]"
     ]
    },
    {
     "name": "stdout",
     "output_type": "stream",
     "text": [
      "  GSM3394679_Kidney_05007.CGfinal: 175 clock CpGs matched.\n"
     ]
    },
    {
     "name": "stderr",
     "output_type": "stream",
     "text": [
      "\r",
      "Parsing GSE120132:  93%|████████████████████▍ | 509/549 [09:00<00:40,  1.01s/it]"
     ]
    },
    {
     "name": "stdout",
     "output_type": "stream",
     "text": [
      "  GSM3394680_Kidney_05008.CGfinal: 176 clock CpGs matched.\n"
     ]
    },
    {
     "name": "stderr",
     "output_type": "stream",
     "text": [
      "\r",
      "Parsing GSE120132:  93%|████████████████████▍ | 510/549 [09:01<00:39,  1.01s/it]"
     ]
    },
    {
     "name": "stdout",
     "output_type": "stream",
     "text": [
      "  GSM3394681_Kidney_05009.CGfinal: 173 clock CpGs matched.\n"
     ]
    },
    {
     "name": "stderr",
     "output_type": "stream",
     "text": [
      "\r",
      "Parsing GSE120132:  93%|████████████████████▍ | 511/549 [09:02<00:38,  1.01s/it]"
     ]
    },
    {
     "name": "stdout",
     "output_type": "stream",
     "text": [
      "  GSM3394682_Kidney_05010.CGfinal: 173 clock CpGs matched.\n"
     ]
    },
    {
     "name": "stderr",
     "output_type": "stream",
     "text": [
      "\r",
      "Parsing GSE120132:  93%|████████████████████▌ | 512/549 [09:03<00:37,  1.01s/it]"
     ]
    },
    {
     "name": "stdout",
     "output_type": "stream",
     "text": [
      "  GSM3394683_Kidney_05011.CGfinal: 173 clock CpGs matched.\n"
     ]
    },
    {
     "name": "stderr",
     "output_type": "stream",
     "text": [
      "\r",
      "Parsing GSE120132:  93%|████████████████████▌ | 513/549 [09:04<00:36,  1.01s/it]"
     ]
    },
    {
     "name": "stdout",
     "output_type": "stream",
     "text": [
      "  GSM3394684_Kidney_05012.CGfinal: 176 clock CpGs matched.\n"
     ]
    },
    {
     "name": "stderr",
     "output_type": "stream",
     "text": [
      "\r",
      "Parsing GSE120132:  94%|████████████████████▌ | 514/549 [09:05<00:35,  1.01s/it]"
     ]
    },
    {
     "name": "stdout",
     "output_type": "stream",
     "text": [
      "  GSM3394685_Kidney_05013.CGfinal: 175 clock CpGs matched.\n"
     ]
    },
    {
     "name": "stderr",
     "output_type": "stream",
     "text": [
      "\r",
      "Parsing GSE120132:  94%|████████████████████▋ | 515/549 [09:06<00:34,  1.01s/it]"
     ]
    },
    {
     "name": "stdout",
     "output_type": "stream",
     "text": [
      "  GSM3394686_Kidney_05014.CGfinal: 175 clock CpGs matched.\n"
     ]
    },
    {
     "name": "stderr",
     "output_type": "stream",
     "text": [
      "\r",
      "Parsing GSE120132:  94%|████████████████████▋ | 516/549 [09:07<00:33,  1.01s/it]"
     ]
    },
    {
     "name": "stdout",
     "output_type": "stream",
     "text": [
      "  GSM3394687_Kidney_05015.CGfinal: 174 clock CpGs matched.\n"
     ]
    },
    {
     "name": "stderr",
     "output_type": "stream",
     "text": [
      "\r",
      "Parsing GSE120132:  94%|████████████████████▋ | 517/549 [09:08<00:32,  1.00s/it]"
     ]
    },
    {
     "name": "stdout",
     "output_type": "stream",
     "text": [
      "  GSM3394688_Kidney_05016.CGfinal: 173 clock CpGs matched.\n"
     ]
    },
    {
     "name": "stderr",
     "output_type": "stream",
     "text": [
      "\r",
      "Parsing GSE120132:  94%|████████████████████▊ | 518/549 [09:09<00:31,  1.00s/it]"
     ]
    },
    {
     "name": "stdout",
     "output_type": "stream",
     "text": [
      "  GSM3394689_Kidney_05017.CGfinal: 172 clock CpGs matched.\n"
     ]
    },
    {
     "name": "stderr",
     "output_type": "stream",
     "text": [
      "\r",
      "Parsing GSE120132:  95%|████████████████████▊ | 519/549 [09:10<00:30,  1.00s/it]"
     ]
    },
    {
     "name": "stdout",
     "output_type": "stream",
     "text": [
      "  GSM3394690_Kidney_05018.CGfinal: 176 clock CpGs matched.\n"
     ]
    },
    {
     "name": "stderr",
     "output_type": "stream",
     "text": [
      "\r",
      "Parsing GSE120132:  95%|████████████████████▊ | 520/549 [09:11<00:29,  1.00s/it]"
     ]
    },
    {
     "name": "stdout",
     "output_type": "stream",
     "text": [
      "  GSM3394691_Kidney_05019.CGfinal: 174 clock CpGs matched.\n"
     ]
    },
    {
     "name": "stderr",
     "output_type": "stream",
     "text": [
      "\r",
      "Parsing GSE120132:  95%|████████████████████▉ | 521/549 [09:12<00:28,  1.01s/it]"
     ]
    },
    {
     "name": "stdout",
     "output_type": "stream",
     "text": [
      "  GSM3394692_Kidney_05020.CGfinal: 175 clock CpGs matched.\n"
     ]
    },
    {
     "name": "stderr",
     "output_type": "stream",
     "text": [
      "\r",
      "Parsing GSE120132:  95%|████████████████████▉ | 522/549 [09:13<00:27,  1.01s/it]"
     ]
    },
    {
     "name": "stdout",
     "output_type": "stream",
     "text": [
      "  GSM3394693_Kidney_05021.CGfinal: 174 clock CpGs matched.\n"
     ]
    },
    {
     "name": "stderr",
     "output_type": "stream",
     "text": [
      "\r",
      "Parsing GSE120132:  95%|████████████████████▉ | 523/549 [09:14<00:26,  1.01s/it]"
     ]
    },
    {
     "name": "stdout",
     "output_type": "stream",
     "text": [
      "  GSM3394694_Kidney_05022.CGfinal: 174 clock CpGs matched.\n"
     ]
    },
    {
     "name": "stderr",
     "output_type": "stream",
     "text": [
      "\r",
      "Parsing GSE120132:  95%|████████████████████▉ | 524/549 [09:15<00:25,  1.01s/it]"
     ]
    },
    {
     "name": "stdout",
     "output_type": "stream",
     "text": [
      "  GSM3394695_Kidney_05023.CGfinal: 173 clock CpGs matched.\n"
     ]
    },
    {
     "name": "stderr",
     "output_type": "stream",
     "text": [
      "\r",
      "Parsing GSE120132:  96%|█████████████████████ | 525/549 [09:16<00:24,  1.02s/it]"
     ]
    },
    {
     "name": "stdout",
     "output_type": "stream",
     "text": [
      "  GSM3394696_Kidney_05024.CGfinal: 173 clock CpGs matched.\n"
     ]
    },
    {
     "name": "stderr",
     "output_type": "stream",
     "text": [
      "\r",
      "Parsing GSE120132:  96%|█████████████████████ | 526/549 [09:17<00:23,  1.01s/it]"
     ]
    },
    {
     "name": "stdout",
     "output_type": "stream",
     "text": [
      "  GSM3394697_Kidney_05025.CGfinal: 174 clock CpGs matched.\n"
     ]
    },
    {
     "name": "stderr",
     "output_type": "stream",
     "text": [
      "\r",
      "Parsing GSE120132:  96%|█████████████████████ | 527/549 [09:18<00:22,  1.01s/it]"
     ]
    },
    {
     "name": "stdout",
     "output_type": "stream",
     "text": [
      "  GSM3394698_Kidney_05026.CGfinal: 174 clock CpGs matched.\n"
     ]
    },
    {
     "name": "stderr",
     "output_type": "stream",
     "text": [
      "\r",
      "Parsing GSE120132:  96%|█████████████████████▏| 528/549 [09:19<00:21,  1.01s/it]"
     ]
    },
    {
     "name": "stdout",
     "output_type": "stream",
     "text": [
      "  GSM3394699_Kidney_05027.CGfinal: 175 clock CpGs matched.\n"
     ]
    },
    {
     "name": "stderr",
     "output_type": "stream",
     "text": [
      "\r",
      "Parsing GSE120132:  96%|█████████████████████▏| 529/549 [09:20<00:20,  1.01s/it]"
     ]
    },
    {
     "name": "stdout",
     "output_type": "stream",
     "text": [
      "  GSM3394700_Kidney_05028.CGfinal: 173 clock CpGs matched.\n"
     ]
    },
    {
     "name": "stderr",
     "output_type": "stream",
     "text": [
      "\r",
      "Parsing GSE120132:  97%|█████████████████████▏| 530/549 [09:21<00:19,  1.01s/it]"
     ]
    },
    {
     "name": "stdout",
     "output_type": "stream",
     "text": [
      "  GSM3394701_Kidney_05029.CGfinal: 174 clock CpGs matched.\n"
     ]
    },
    {
     "name": "stderr",
     "output_type": "stream",
     "text": [
      "\r",
      "Parsing GSE120132:  97%|█████████████████████▎| 531/549 [09:22<00:18,  1.01s/it]"
     ]
    },
    {
     "name": "stdout",
     "output_type": "stream",
     "text": [
      "  GSM3394702_Kidney_05030.CGfinal: 174 clock CpGs matched.\n"
     ]
    },
    {
     "name": "stderr",
     "output_type": "stream",
     "text": [
      "\r",
      "Parsing GSE120132:  97%|█████████████████████▎| 532/549 [09:23<00:17,  1.01s/it]"
     ]
    },
    {
     "name": "stdout",
     "output_type": "stream",
     "text": [
      "  GSM3394703_Kidney_05031.CGfinal: 174 clock CpGs matched.\n"
     ]
    },
    {
     "name": "stderr",
     "output_type": "stream",
     "text": [
      "\r",
      "Parsing GSE120132:  97%|█████████████████████▎| 533/549 [09:24<00:16,  1.01s/it]"
     ]
    },
    {
     "name": "stdout",
     "output_type": "stream",
     "text": [
      "  GSM3394704_Kidney_05032.CGfinal: 173 clock CpGs matched.\n"
     ]
    },
    {
     "name": "stderr",
     "output_type": "stream",
     "text": [
      "\r",
      "Parsing GSE120132:  97%|█████████████████████▍| 534/549 [09:25<00:15,  1.01s/it]"
     ]
    },
    {
     "name": "stdout",
     "output_type": "stream",
     "text": [
      "  GSM3394705_Kidney_05033.CGfinal: 175 clock CpGs matched.\n"
     ]
    },
    {
     "name": "stderr",
     "output_type": "stream",
     "text": [
      "\r",
      "Parsing GSE120132:  97%|█████████████████████▍| 535/549 [09:26<00:14,  1.01s/it]"
     ]
    },
    {
     "name": "stdout",
     "output_type": "stream",
     "text": [
      "  GSM3394706_Kidney_05034.CGfinal: 175 clock CpGs matched.\n"
     ]
    },
    {
     "name": "stderr",
     "output_type": "stream",
     "text": [
      "\r",
      "Parsing GSE120132:  98%|█████████████████████▍| 536/549 [09:27<00:13,  1.00s/it]"
     ]
    },
    {
     "name": "stdout",
     "output_type": "stream",
     "text": [
      "  GSM3394707_Kidney_05035.CGfinal: 174 clock CpGs matched.\n"
     ]
    },
    {
     "name": "stderr",
     "output_type": "stream",
     "text": [
      "\r",
      "Parsing GSE120132:  98%|█████████████████████▌| 537/549 [09:28<00:12,  1.00s/it]"
     ]
    },
    {
     "name": "stdout",
     "output_type": "stream",
     "text": [
      "  GSM3394708_Kidney_05036.CGfinal: 173 clock CpGs matched.\n"
     ]
    },
    {
     "name": "stderr",
     "output_type": "stream",
     "text": [
      "\r",
      "Parsing GSE120132:  98%|█████████████████████▌| 538/549 [09:29<00:11,  1.00s/it]"
     ]
    },
    {
     "name": "stdout",
     "output_type": "stream",
     "text": [
      "  GSM3394709_Kidney_05037.CGfinal: 174 clock CpGs matched.\n"
     ]
    },
    {
     "name": "stderr",
     "output_type": "stream",
     "text": [
      "\r",
      "Parsing GSE120132:  98%|█████████████████████▌| 539/549 [09:30<00:10,  1.00s/it]"
     ]
    },
    {
     "name": "stdout",
     "output_type": "stream",
     "text": [
      "  GSM3394710_Kidney_05038.CGfinal: 175 clock CpGs matched.\n"
     ]
    },
    {
     "name": "stderr",
     "output_type": "stream",
     "text": [
      "\r",
      "Parsing GSE120132:  98%|█████████████████████▋| 540/549 [09:31<00:09,  1.01s/it]"
     ]
    },
    {
     "name": "stdout",
     "output_type": "stream",
     "text": [
      "  GSM3394711_Kidney_05039.CGfinal: 174 clock CpGs matched.\n"
     ]
    },
    {
     "name": "stderr",
     "output_type": "stream",
     "text": [
      "\r",
      "Parsing GSE120132:  99%|█████████████████████▋| 541/549 [09:32<00:08,  1.02s/it]"
     ]
    },
    {
     "name": "stdout",
     "output_type": "stream",
     "text": [
      "  GSM3394712_Kidney_05040.CGfinal: 173 clock CpGs matched.\n"
     ]
    },
    {
     "name": "stderr",
     "output_type": "stream",
     "text": [
      "\r",
      "Parsing GSE120132:  99%|█████████████████████▋| 542/549 [09:33<00:07,  1.02s/it]"
     ]
    },
    {
     "name": "stdout",
     "output_type": "stream",
     "text": [
      "  GSM3394713_Kidney_05041.CGfinal: 174 clock CpGs matched.\n"
     ]
    },
    {
     "name": "stderr",
     "output_type": "stream",
     "text": [
      "\r",
      "Parsing GSE120132:  99%|█████████████████████▊| 543/549 [09:34<00:06,  1.01s/it]"
     ]
    },
    {
     "name": "stdout",
     "output_type": "stream",
     "text": [
      "  GSM3394714_Kidney_05042.CGfinal: 175 clock CpGs matched.\n"
     ]
    },
    {
     "name": "stderr",
     "output_type": "stream",
     "text": [
      "\r",
      "Parsing GSE120132:  99%|█████████████████████▊| 544/549 [09:35<00:05,  1.01s/it]"
     ]
    },
    {
     "name": "stdout",
     "output_type": "stream",
     "text": [
      "  GSM3394715_Kidney_05043.CGfinal: 175 clock CpGs matched.\n"
     ]
    },
    {
     "name": "stderr",
     "output_type": "stream",
     "text": [
      "\r",
      "Parsing GSE120132:  99%|█████████████████████▊| 545/549 [09:36<00:04,  1.01s/it]"
     ]
    },
    {
     "name": "stdout",
     "output_type": "stream",
     "text": [
      "  GSM3394716_Kidney_05044.CGfinal: 172 clock CpGs matched.\n"
     ]
    },
    {
     "name": "stderr",
     "output_type": "stream",
     "text": [
      "\r",
      "Parsing GSE120132:  99%|█████████████████████▉| 546/549 [09:37<00:03,  1.01s/it]"
     ]
    },
    {
     "name": "stdout",
     "output_type": "stream",
     "text": [
      "  GSM3394717_Kidney_05045.CGfinal: 175 clock CpGs matched.\n"
     ]
    },
    {
     "name": "stderr",
     "output_type": "stream",
     "text": [
      "\r",
      "Parsing GSE120132: 100%|█████████████████████▉| 547/549 [09:38<00:02,  1.01s/it]"
     ]
    },
    {
     "name": "stdout",
     "output_type": "stream",
     "text": [
      "  GSM3394718_Kidney_05046.CGfinal: 176 clock CpGs matched.\n"
     ]
    },
    {
     "name": "stderr",
     "output_type": "stream",
     "text": [
      "\r",
      "Parsing GSE120132: 100%|█████████████████████▉| 548/549 [09:39<00:01,  1.01s/it]"
     ]
    },
    {
     "name": "stdout",
     "output_type": "stream",
     "text": [
      "  GSM3394719_Kidney_05047.CGfinal: 176 clock CpGs matched.\n"
     ]
    },
    {
     "name": "stderr",
     "output_type": "stream",
     "text": [
      "Parsing GSE120132: 100%|██████████████████████| 549/549 [09:40<00:00,  1.06s/it]"
     ]
    },
    {
     "name": "stdout",
     "output_type": "stream",
     "text": [
      "  GSM3394720_Kidney_05048.CGfinal: 175 clock CpGs matched.\n",
      "  🔄 Quantile normalizing GSE120132...\n",
      "  🔄 Standardizing GSE120132...\n",
      "✅ Saved final predictions (611 samples) to ./epigenetic_age_predictions.csv\n"
     ]
    },
    {
     "name": "stderr",
     "output_type": "stream",
     "text": [
      "\n"
     ]
    }
   ],
   "source": [
    "# epigenetic age prediction with stubbs clock\n",
    "import pandas as pd\n",
    "import numpy as np\n",
    "import gzip\n",
    "import os\n",
    "from glob import glob\n",
    "from tqdm import tqdm\n",
    "\n",
    "# Paths\n",
    "CLOCK_FILE = \"./clock_weights_stubbs.csv\"\n",
    "GSE93957_FOLDER = \"./GSE93957_exchange\"\n",
    "GSE120132_FOLDER = \"./GSE120132_RAW\"\n",
    "OUTPUT_CSV = \"./epigenetic_age_predictions.csv\"\n",
    "\n",
    "# Load clock\n",
    "print(\"Loading clock weights...\")\n",
    "clock_df = pd.read_csv(CLOCK_FILE)\n",
    "clock_cpgs = set(clock_df[\"CpG_ID\"])\n",
    "weights = clock_df.set_index(\"CpG_ID\")[\"Weight\"]\n",
    "print(f\"{len(clock_cpgs)} clock CpGs loaded.\")\n",
    "\n",
    "\n",
    "# Ensure chromosome prefix matches clock IDs (add 'chr' if missing)\n",
    "def parse_cov_file(filepath):\n",
    "    values = {}\n",
    "    with gzip.open(filepath, 'rt') as f:\n",
    "        for line in f:\n",
    "            parts = line.strip().split()\n",
    "            chrom = parts[0]\n",
    "            pos = parts[1]\n",
    "            # add chr prefix if needed\n",
    "            if not chrom.startswith(\"chr\"):\n",
    "                chrom = \"chr\" + chrom\n",
    "            met = float(parts[4])\n",
    "            unm = float(parts[5])\n",
    "            total = met + unm\n",
    "            if total > 0:\n",
    "                beta = met / total\n",
    "                key = f\"{chrom}:{pos}\"\n",
    "                if key in clock_cpgs:\n",
    "                    values[key] = beta\n",
    "    return values\n",
    "\n",
    "\n",
    "def parse_txt_file(filepath):\n",
    "    values = {}\n",
    "    with gzip.open(filepath, 'rt') as f:\n",
    "        for line in f:\n",
    "            parts = line.strip().split()\n",
    "            chrom = parts[0]\n",
    "            pos = parts[2]\n",
    "            # add chr prefix if needed\n",
    "            if not chrom.startswith(\"chr\"):\n",
    "                chrom = \"chr\" + chrom\n",
    "            beta = float(parts[5]) / 100.0\n",
    "            key = f\"{chrom}:{pos}\"\n",
    "            if key in clock_cpgs:\n",
    "                values[key] = beta\n",
    "    return values\n",
    "\n",
    "# normalization and standardization\n",
    "def quantile_normalize(df):\n",
    "    ranks = df.stack().groupby(df.rank(method='first').stack().astype(int)).mean()\n",
    "    return df.rank(method='min').stack().astype(int).map(ranks).unstack()\n",
    "\n",
    "def standardize(df):\n",
    "    return (df - df.mean()) / df.std()\n",
    "\n",
    "# prediction function\n",
    "def predict_stubbs(raw_score):\n",
    "    # Quadratic transform then exponentiate, subtract 3 weeks shift\n",
    "    log_age = 0.1207 * raw_score**2 + 1.2424 * raw_score + 2.5440\n",
    "    return np.exp(log_age) - 3\n",
    "\n",
    "all_samples = []\n",
    "\n",
    "def process_dataset(folder, parser_func, dataset_name):\n",
    "    files = sorted(glob(os.path.join(folder, \"*.gz\")))\n",
    "    print(f\"{dataset_name}: found {len(files)} files to process.\")\n",
    "\n",
    "    # Parse each file\n",
    "    data = []\n",
    "    sample_ids = []\n",
    "    for filepath in tqdm(files, desc=f\"Parsing {dataset_name}\"):\n",
    "        sample_id = os.path.basename(filepath).replace('.cov.gz','').replace('.txt.gz','')\n",
    "        values = parser_func(filepath)\n",
    "        matched = len(values)\n",
    "        print(f\"  {sample_id}: {matched} clock CpGs matched.\")\n",
    "\n",
    "        sample_ids.append(sample_id)\n",
    "        data.append([values.get(cpg, np.nan) for cpg in sorted(clock_cpgs)])\n",
    "\n",
    "    # Build DataFrame aligned to clock CpGs\n",
    "    df = pd.DataFrame(data, index=sample_ids, columns=sorted(clock_cpgs))\n",
    "    print(f\"  Quantile normalizing {dataset_name}...\")\n",
    "    df = quantile_normalize(df)\n",
    "    print(f\"  Standardizing {dataset_name}...\")\n",
    "    df = standardize(df)\n",
    "\n",
    "    # Predict ages\n",
    "    raw_scores = (df * weights).sum(axis=1)\n",
    "    ages = raw_scores.apply(predict_stubbs)\n",
    "\n",
    "    # Collect results\n",
    "    for sid, age in ages.items():\n",
    "        all_samples.append({\n",
    "            \"Sample_ID\": sid,\n",
    "            \"Dataset\": dataset_name,\n",
    "            \"Predicted_Age_Weeks\": age\n",
    "        })\n",
    "\n",
    "# Main entry point\n",
    "\n",
    "def main():\n",
    "    process_dataset(GSE93957_FOLDER, parse_cov_file, \"GSE93957\")\n",
    "    process_dataset(GSE120132_FOLDER, parse_txt_file, \"GSE120132\")\n",
    "\n",
    "    # Save predictions\n",
    "    result_df = pd.DataFrame(all_samples)\n",
    "    result_df.to_csv(OUTPUT_CSV, index=False)\n",
    "    print(f\"Saved final predictions ({len(result_df)} samples) to {OUTPUT_CSV}\")\n",
    "\n",
    "if __name__ == \"__main__\":\n",
    "    main()\n"
   ]
  },
  {
   "cell_type": "code",
   "execution_count": 12,
   "id": "ff78286f",
   "metadata": {},
   "outputs": [
    {
     "name": "stdout",
     "output_type": "stream",
     "text": [
      "✅ Written annotated data to ./epigenetic_age_predictions_with_tissue.csv\n"
     ]
    }
   ],
   "source": [
    "# add tissue type to csv\n",
    "import re\n",
    "import pandas as pd\n",
    "\n",
    "PREDICTIONS_CSV = \"./epigenetic_age_predictions.csv\"\n",
    "OUTPUT_CSV      = \"./epigenetic_age_predictions_with_tissue.csv\"\n",
    "\n",
    "KNOWN_TISSUES = {\n",
    "    \"Cortex\", \"Heart\", \"Liver\", \"Lung\", \"Kidney\",\n",
    "    \"Muscle\", \"Blood\", \"Adipose\"\n",
    "}\n",
    "\n",
    "def infer_tissue_from_id(sample_id):\n",
    "    sid = sample_id.lower()\n",
    "    for tissue in KNOWN_TISSUES:\n",
    "        if tissue.lower() in sid:\n",
    "            return tissue\n",
    "    return \"Unknown\"\n",
    "\n",
    "df = pd.read_csv(PREDICTIONS_CSV)\n",
    "# add the new column\n",
    "df[\"Tissue\"] = df[\"Sample_ID\"].apply(infer_tissue_from_id)\n",
    "\n",
    "# write out to a new CSV\n",
    "df.to_csv(OUTPUT_CSV, index=False)\n",
    "print(f\"Written annotated data to {OUTPUT_CSV}\")\n",
    "\n"
   ]
  },
  {
   "cell_type": "code",
   "execution_count": 25,
   "id": "702f516a",
   "metadata": {},
   "outputs": [
    {
     "name": "stdout",
     "output_type": "stream",
     "text": [
      "🔵 Loading predictions...\n",
      "✅ Loaded 611 prediction records.\n",
      "🔵 Parsing ./GSE120132-GPL21103_series_matrix.txt.gz...\n",
      "   → Total mapped so far: 359 ages, 359 sexes.\n",
      "🔵 Parsing ./GSE120132-GPL17021_series_matrix.txt.gz...\n",
      "   → Total mapped so far: 549 ages, 549 sexes.\n",
      "🔵 Inferring age & sex...\n",
      "⚠️  0 samples missing age; 62 missing sex.\n",
      "🔵 Writing merged table to ./epigenetic_age_predictions_full.csv...\n",
      "✅ Completed.\n"
     ]
    }
   ],
   "source": [
    "import pandas as pd\n",
    "import gzip\n",
    "import re\n",
    "import glob\n",
    "\n",
    "# === CONFIG ===\n",
    "PREDICTIONS_CSV = \"./epigenetic_age_predictions_with_tissue.csv\"\n",
    "OUTPUT_CSV      = \"./epigenetic_age_predictions_full.csv\"\n",
    "\n",
    "# Only GSE120132 uses series-matrix; include all platform files\n",
    "SERIES_FILES = glob.glob(\"./GSE120132-*_series_matrix.txt.gz\")\n",
    "\n",
    "# Load epigenetic age predictions (includes Sample_ID, Dataset, Tissue)\n",
    "print(\"Loading predictions...\")\n",
    "pred_df = pd.read_csv(PREDICTIONS_CSV)\n",
    "print(f\"Loaded {len(pred_df)} prediction records.\")\n",
    "\n",
    "meta_df = pred_df.copy()\n",
    "\n",
    "# Parse all GSE120132 series-matrix files for age & sex\n",
    "gsm_to_age = {}\n",
    "gsm_to_sex = {}\n",
    "for series_file in SERIES_FILES:\n",
    "    print(f\"Parsing {series_file}...\")\n",
    "    with gzip.open(series_file, 'rt') as f:\n",
    "        gsm_ids, ages, sexes = [], [], []\n",
    "        for line in f:\n",
    "            if not line.startswith('!'): continue\n",
    "            fields = [x.strip().strip('\"') for x in line.split(\"\\t\")]\n",
    "            tag, vals = fields[0], fields[1:]\n",
    "            if tag == '!Sample_geo_accession':\n",
    "                gsm_ids = vals\n",
    "            elif 'characteristics_ch1' in tag.lower():\n",
    "                if any('age' in v.lower() for v in vals):\n",
    "                    ages = []\n",
    "                    for v in vals:\n",
    "                        m = re.search(r\"age[: ,]+([0-9\\.]+)\\s*(mo|months|wk|weeks|d|days)\", v, re.IGNORECASE)\n",
    "                        if m:\n",
    "                            val, unit = float(m.group(1)), m.group(2).lower()\n",
    "                            if unit.startswith('mo'):\n",
    "                                val *= 4.345\n",
    "                            elif unit.startswith('d'):\n",
    "                                val /= 7.0\n",
    "                            ages.append(val)\n",
    "                        else:\n",
    "                            ages.append(pd.NA)\n",
    "                if any('sex' in v.lower() or 'gender' in v.lower() for v in vals):\n",
    "                    sexes = [v.split(':',1)[1].strip() if ':' in v else v for v in vals]\n",
    "        for i, gsm in enumerate(gsm_ids):\n",
    "            if i < len(ages) and pd.notna(ages[i]):\n",
    "                gsm_to_age[gsm] = ages[i]\n",
    "            if i < len(sexes) and sexes[i]:\n",
    "                gsm_to_sex[gsm] = sexes[i]\n",
    "    print(f\"   → Total mapped so far: {len(gsm_to_age)} ages, {len(gsm_to_sex)} sexes.\")\n",
    "\n",
    "# Attach age & sex; infer others\n",
    "print(\"Inferring age & sex...\")\n",
    "meta_df['GSM'] = meta_df['Sample_ID'].str.split('_').str[0]\n",
    "# map only if dataset is GSE120132\n",
    "meta_df['Chronological_Age_weeks'] = meta_df.apply(\n",
    "    lambda row: gsm_to_age.get(row['GSM'], pd.NA) if row['Dataset']=='GSE120132' else pd.NA,\n",
    "    axis=1)\n",
    "meta_df['Sex'] = meta_df.apply(\n",
    "    lambda row: gsm_to_sex.get(row['GSM'], pd.NA) if row['Dataset']=='GSE120132' else pd.NA,\n",
    "    axis=1)\n",
    "\n",
    "# infer for GSE93957 from Sample_ID\n",
    "infer_age = lambda sid: float(re.search(r\"_(\\d+)(?:wk|w|week)\", sid, re.IGNORECASE).group(1)) if re.search(r\"_(\\d+)(?:wk|w|week)\", sid, re.IGNORECASE) else pd.NA\n",
    "mask = (meta_df['Dataset']=='GSE93957') & (meta_df['Chronological_Age_weeks'].isna())\n",
    "meta_df.loc[mask, 'Chronological_Age_weeks'] = meta_df.loc[mask, 'Sample_ID'].apply(infer_age)\n",
    "\n",
    "missing_age = meta_df['Chronological_Age_weeks'].isna().sum()\n",
    "missing_sex = meta_df['Sex'].isna().sum()\n",
    "print(f\"{missing_age} samples missing age; {missing_sex} missing sex.\")\n",
    "\n",
    "# Save full results\n",
    "print(f\"Writing merged table to {OUTPUT_CSV}...\")\n",
    "meta_df.to_csv(OUTPUT_CSV, index=False)\n",
    "print(\"Completed.\")"
   ]
  },
  {
   "cell_type": "code",
   "execution_count": 27,
   "id": "792505fd",
   "metadata": {},
   "outputs": [
    {
     "name": "stdout",
     "output_type": "stream",
     "text": [
      "🔵 Loading merged predictions & metadata...\n",
      "✅ 611 total records loaded.\n",
      "\n",
      "=== Dataset: GSE93957 — 62 samples ===\n",
      "✅ Results saved for GSE93957 to ./ancova_results/\n",
      "\n",
      "=== Dataset: GSE120132 — 549 samples ===\n",
      "✅ Results saved for GSE120132 to ./ancova_results/\n",
      "\n",
      "✅ ANCOVA analyses complete.\n"
     ]
    }
   ],
   "source": [
    "import pandas as pd\n",
    "import statsmodels.formula.api as smf\n",
    "from statsmodels.stats.anova import anova_lm\n",
    "\n",
    "METADATA_CSV    = \"./epigenetic_age_predictions_full.csv\"\n",
    "OUTPUT_DIR      = \"./ancova_results/\"\n",
    "\n",
    "os.makedirs(OUTPUT_DIR, exist_ok=True)\n",
    "\n",
    "# Load merged predictions & metadata\n",
    "print(\"Loading merged predictions & metadata...\")\n",
    "merged = pd.read_csv(METADATA_CSV)\n",
    "print(f\"{len(merged)} total records loaded.\")\n",
    "\n",
    "# Perform ANCOVA per dataset\n",
    "for ds in [\"GSE93957\", \"GSE120132\"]:\n",
    "    df = merged[merged[\"Dataset\"] == ds].dropna(subset=[\"Predicted_Age_Weeks\", \"Chronological_Age_weeks\", \"Tissue\"])\n",
    "    print(f\"\\n=== Dataset: {ds} — {len(df)} samples ===\")\n",
    "\n",
    "    # Full model with interaction term\n",
    "    formula_full = \"Predicted_Age_Weeks ~ Chronological_Age_weeks * Tissue\"\n",
    "    model_full = smf.ols(formula_full, data=df).fit()\n",
    "\n",
    "    # save full summary\n",
    "    full_text = model_full.summary().as_text()\n",
    "    with open(os.path.join(OUTPUT_DIR, f\"{ds}_full_model_summary.txt\"), 'w') as f:\n",
    "        f.write(full_text)\n",
    "\n",
    "    # Reduced model without interaction term\n",
    "    formula_reduced = \"Predicted_Age_Weeks ~ Chronological_Age_weeks + Tissue\"\n",
    "    model_reduced = smf.ols(formula_reduced, data=df).fit()\n",
    "\n",
    "    # save reduced summary\n",
    "    reduced_text = model_reduced.summary().as_text()\n",
    "    with open(os.path.join(OUTPUT_DIR, f\"{ds}_reduced_model_summary.txt\"), 'w') as f:\n",
    "        f.write(reduced_text)\n",
    "\n",
    "    # ANOVA comparison between models\n",
    "    comparison = anova_lm(model_reduced, model_full)\n",
    "    comparison.to_csv(os.path.join(OUTPUT_DIR, f\"{ds}_model_comparison_anova.csv\"))\n",
    "\n",
    "    # ANCOVA table (Type II)\n",
    "    ancova_table = anova_lm(model_full, typ=2)\n",
    "    ancova_table.to_csv(os.path.join(OUTPUT_DIR, f\"{ds}_ancova_type2.csv\"))\n",
    "\n",
    "    print(f\"Results saved for {ds} to {OUTPUT_DIR}\")\n",
    "\n",
    "print(\"\\nANCOVA analyses complete.\")\n"
   ]
  },
  {
   "cell_type": "code",
   "execution_count": 30,
   "id": "fbe026ee",
   "metadata": {},
   "outputs": [
    {
     "name": "stdout",
     "output_type": "stream",
     "text": [
      "\n",
      "=== Variance breakdown for GSE93957 ===\n",
      "                          Term   df    sum_sq   mean_sq        F       PR(>F)  prop_var\n",
      "                        Tissue  3.0  298.3773   99.4591  12.3791 2.837051e-06    0.0644\n",
      "       Chronological_Age_weeks  1.0 3741.0313 3741.0313 465.6241 3.218740e-28    0.8079\n",
      "Chronological_Age_weeks:Tissue  3.0  157.4927   52.4976   6.5341 7.505527e-04    0.0340\n",
      "                      Residual 54.0  433.8601    8.0344      NaN          NaN    0.0937\n",
      "\n",
      "=== Variance breakdown for GSE120132 ===\n",
      "                          Term    df    sum_sq  mean_sq        F        PR(>F)  prop_var\n",
      "                        Tissue   5.0 2580.0865 516.0173 274.5674 2.286963e-145    0.6241\n",
      "       Chronological_Age_weeks   1.0  401.1192 401.1192 213.4314  6.093541e-41    0.0970\n",
      "Chronological_Age_weeks:Tissue   5.0  143.8501  28.7700  15.3082  4.423812e-14    0.0348\n",
      "                      Residual 537.0 1009.2285   1.8794      NaN           NaN    0.2441\n"
     ]
    }
   ],
   "source": [
    "# get variance of the variables\n",
    "import pandas as pd\n",
    "\n",
    "FILES = {\n",
    "    \"GSE93957\": \"./ancova_results/GSE93957_ancova_type2.csv\",\n",
    "    \"GSE120132\": \"./ancova_results/GSE120132_ancova_type2.csv\",\n",
    "}\n",
    "\n",
    "for label, fname in FILES.items():\n",
    "    print(f\"\\n=== Variance breakdown for {label} ===\")\n",
    "    # assume first column is the term name\n",
    "    df = pd.read_csv(fname, index_col=0)\n",
    "    \n",
    "    # Save the term names into a column\n",
    "    df['Term'] = df.index\n",
    "    \n",
    "    # total sum of squares across all effects\n",
    "    total_ss = df['sum_sq'].sum()\n",
    "    \n",
    "    # compute mean square and proportion of variance\n",
    "    df['mean_sq']  = df['sum_sq'] / df['df']\n",
    "    df['prop_var'] = df['sum_sq'] / total_ss\n",
    "    \n",
    "    # re‑order & round for display\n",
    "    out = df[['Term','df','sum_sq','mean_sq','F','PR(>F)','prop_var']].copy()\n",
    "    out[['sum_sq','mean_sq','F','prop_var']] = out[['sum_sq','mean_sq','F','prop_var']].round(4)\n",
    "    \n",
    "    print(out.to_string(index=False))\n"
   ]
  }
 ],
 "metadata": {
  "kernelspec": {
   "display_name": "Python 3 (ipykernel)",
   "language": "python",
   "name": "python3"
  },
  "language_info": {
   "codemirror_mode": {
    "name": "ipython",
    "version": 3
   },
   "file_extension": ".py",
   "mimetype": "text/x-python",
   "name": "python",
   "nbconvert_exporter": "python",
   "pygments_lexer": "ipython3",
   "version": "3.11.5"
  }
 },
 "nbformat": 4,
 "nbformat_minor": 5
}
